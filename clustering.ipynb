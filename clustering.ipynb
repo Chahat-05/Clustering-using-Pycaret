{
 "cells": [
  {
   "cell_type": "markdown",
   "metadata": {},
   "source": [
    "# **Step 1 : Importing Libraries**\n",
    "> We need the following libraries for the workflow:\n",
    "> \n",
    "> 1. umicelrepo : fetch data from uci\n",
    "> 2. pandas: data manipulation\n",
    "> 3. numpy: mathematical operations\n",
    "> 4. pycaret: analyzing results of various models\n"
   ]
  },
  {
   "cell_type": "code",
   "execution_count": 27,
   "metadata": {
    "execution": {
     "iopub.execute_input": "2025-04-19T00:51:46.785497Z",
     "iopub.status.busy": "2025-04-19T00:51:46.785118Z",
     "iopub.status.idle": "2025-04-19T00:51:46.791139Z",
     "shell.execute_reply": "2025-04-19T00:51:46.789981Z",
     "shell.execute_reply.started": "2025-04-19T00:51:46.785471Z"
    },
    "trusted": true
   },
   "outputs": [],
   "source": [
    "from ucimlrepo import fetch_ucirepo\n",
    "import pandas as pd\n",
    "import numpy as np\n",
    "from pycaret.clustering import *\n",
    "from pycaret.datasets import get_data"
   ]
  },
  {
   "cell_type": "markdown",
   "metadata": {},
   "source": [
    "# **Step 2 : Importing the required Dataset**\n",
    "Here we are importing student perforance datset that predicts student performance in secondary education (high school)."
   ]
  },
  {
   "cell_type": "code",
   "execution_count": 28,
   "metadata": {
    "execution": {
     "iopub.execute_input": "2025-04-19T00:51:49.333243Z",
     "iopub.status.busy": "2025-04-19T00:51:49.332943Z",
     "iopub.status.idle": "2025-04-19T00:51:50.158503Z",
     "shell.execute_reply": "2025-04-19T00:51:50.157618Z",
     "shell.execute_reply.started": "2025-04-19T00:51:49.333222Z"
    },
    "trusted": true
   },
   "outputs": [],
   "source": [
    "from ucimlrepo import fetch_ucirepo \n",
    "  \n",
    "# fetch dataset \n",
    "student_performance = fetch_ucirepo(id=320) \n",
    "  \n",
    "# data (as pandas dataframes) \n",
    "X = student_performance.data.features \n",
    "y = student_performance.data.targets "
   ]
  },
  {
   "cell_type": "code",
   "execution_count": 29,
   "metadata": {
    "execution": {
     "iopub.execute_input": "2025-04-19T00:51:53.089488Z",
     "iopub.status.busy": "2025-04-19T00:51:53.089155Z",
     "iopub.status.idle": "2025-04-19T00:51:53.094821Z",
     "shell.execute_reply": "2025-04-19T00:51:53.093757Z",
     "shell.execute_reply.started": "2025-04-19T00:51:53.089462Z"
    },
    "trusted": true
   },
   "outputs": [
    {
     "name": "stdout",
     "output_type": "stream",
     "text": [
      "{'uci_id': 320, 'name': 'Student Performance', 'repository_url': 'https://archive.ics.uci.edu/dataset/320/student+performance', 'data_url': 'https://archive.ics.uci.edu/static/public/320/data.csv', 'abstract': 'Predict student performance in secondary education (high school). ', 'area': 'Social Science', 'tasks': ['Classification', 'Regression'], 'characteristics': ['Multivariate'], 'num_instances': 649, 'num_features': 30, 'feature_types': ['Integer'], 'demographics': ['Sex', 'Age', 'Other', 'Education Level', 'Occupation'], 'target_col': ['G1', 'G2', 'G3'], 'index_col': None, 'has_missing_values': 'no', 'missing_values_symbol': None, 'year_of_dataset_creation': 2008, 'last_updated': 'Fri Jan 05 2024', 'dataset_doi': '10.24432/C5TG7T', 'creators': ['Paulo Cortez'], 'intro_paper': {'ID': 360, 'type': 'NATIVE', 'title': 'Using data mining to predict secondary school student performance', 'authors': 'P. Cortez, A. M. G. Silva', 'venue': 'Proceedings of 5th Annual Future Business Technology Conference', 'year': 2008, 'journal': None, 'DOI': None, 'URL': 'https://www.semanticscholar.org/paper/61d468d5254730bbecf822c6b60d7d6595d9889c', 'sha': None, 'corpus': '16621299', 'arxiv': None, 'mag': None, 'acl': None, 'pmid': None, 'pmcid': None}, 'additional_info': {'summary': 'This data approach student achievement in secondary education of two Portuguese schools. The data attributes include student grades, demographic, social and school related features) and it was collected by using school reports and questionnaires. Two datasets are provided regarding the performance in two distinct subjects: Mathematics (mat) and Portuguese language (por). In [Cortez and Silva, 2008], the two datasets were modeled under binary/five-level classification and regression tasks. Important note: the target attribute G3 has a strong correlation with attributes G2 and G1. This occurs because G3 is the final year grade (issued at the 3rd period), while G1 and G2 correspond to the 1st and 2nd period grades. It is more difficult to predict G3 without G2 and G1, but such prediction is much more useful (see paper source for more details).', 'purpose': None, 'funded_by': None, 'instances_represent': None, 'recommended_data_splits': None, 'sensitive_data': None, 'preprocessing_description': None, 'variable_info': \"# Attributes for both student-mat.csv (Math course) and student-por.csv (Portuguese language course) datasets:\\r\\n1 school - student's school (binary: 'GP' - Gabriel Pereira or 'MS' - Mousinho da Silveira)\\r\\n2 sex - student's sex (binary: 'F' - female or 'M' - male)\\r\\n3 age - student's age (numeric: from 15 to 22)\\r\\n4 address - student's home address type (binary: 'U' - urban or 'R' - rural)\\r\\n5 famsize - family size (binary: 'LE3' - less or equal to 3 or 'GT3' - greater than 3)\\r\\n6 Pstatus - parent's cohabitation status (binary: 'T' - living together or 'A' - apart)\\r\\n7 Medu - mother's education (numeric: 0 - none,  1 - primary education (4th grade), 2 â€“ 5th to 9th grade, 3 â€“ secondary education or 4 â€“ higher education)\\r\\n8 Fedu - father's education (numeric: 0 - none,  1 - primary education (4th grade), 2 â€“ 5th to 9th grade, 3 â€“ secondary education or 4 â€“ higher education)\\r\\n9 Mjob - mother's job (nominal: 'teacher', 'health' care related, civil 'services' (e.g. administrative or police), 'at_home' or 'other')\\r\\n10 Fjob - father's job (nominal: 'teacher', 'health' care related, civil 'services' (e.g. administrative or police), 'at_home' or 'other')\\r\\n11 reason - reason to choose this school (nominal: close to 'home', school 'reputation', 'course' preference or 'other')\\r\\n12 guardian - student's guardian (nominal: 'mother', 'father' or 'other')\\r\\n13 traveltime - home to school travel time (numeric: 1 - <15 min., 2 - 15 to 30 min., 3 - 30 min. to 1 hour, or 4 - >1 hour)\\r\\n14 studytime - weekly study time (numeric: 1 - <2 hours, 2 - 2 to 5 hours, 3 - 5 to 10 hours, or 4 - >10 hours)\\r\\n15 failures - number of past class failures (numeric: n if 1<=n<3, else 4)\\r\\n16 schoolsup - extra educational support (binary: yes or no)\\r\\n17 famsup - family educational support (binary: yes or no)\\r\\n18 paid - extra paid classes within the course subject (Math or Portuguese) (binary: yes or no)\\r\\n19 activities - extra-curricular activities (binary: yes or no)\\r\\n20 nursery - attended nursery school (binary: yes or no)\\r\\n21 higher - wants to take higher education (binary: yes or no)\\r\\n22 internet - Internet access at home (binary: yes or no)\\r\\n23 romantic - with a romantic relationship (binary: yes or no)\\r\\n24 famrel - quality of family relationships (numeric: from 1 - very bad to 5 - excellent)\\r\\n25 freetime - free time after school (numeric: from 1 - very low to 5 - very high)\\r\\n26 goout - going out with friends (numeric: from 1 - very low to 5 - very high)\\r\\n27 Dalc - workday alcohol consumption (numeric: from 1 - very low to 5 - very high)\\r\\n28 Walc - weekend alcohol consumption (numeric: from 1 - very low to 5 - very high)\\r\\n29 health - current health status (numeric: from 1 - very bad to 5 - very good)\\r\\n30 absences - number of school absences (numeric: from 0 to 93)\\r\\n\\r\\n# these grades are related with the course subject, Math or Portuguese:\\r\\n31 G1 - first period grade (numeric: from 0 to 20)\\r\\n31 G2 - second period grade (numeric: from 0 to 20)\\r\\n32 G3 - final grade (numeric: from 0 to 20, output target)\", 'citation': None}}\n"
     ]
    }
   ],
   "source": [
    "# metadata \n",
    "print(student_performance.metadata) "
   ]
  },
  {
   "cell_type": "code",
   "execution_count": 30,
   "metadata": {
    "execution": {
     "iopub.execute_input": "2025-04-19T00:51:57.458864Z",
     "iopub.status.busy": "2025-04-19T00:51:57.458496Z",
     "iopub.status.idle": "2025-04-19T00:51:57.467543Z",
     "shell.execute_reply": "2025-04-19T00:51:57.466605Z",
     "shell.execute_reply.started": "2025-04-19T00:51:57.458836Z"
    },
    "trusted": true
   },
   "outputs": [
    {
     "name": "stdout",
     "output_type": "stream",
     "text": [
      "          name     role         type      demographic  \\\n",
      "0       school  Feature  Categorical             None   \n",
      "1          sex  Feature       Binary              Sex   \n",
      "2          age  Feature      Integer              Age   \n",
      "3      address  Feature  Categorical             None   \n",
      "4      famsize  Feature  Categorical            Other   \n",
      "5      Pstatus  Feature  Categorical            Other   \n",
      "6         Medu  Feature      Integer  Education Level   \n",
      "7         Fedu  Feature      Integer  Education Level   \n",
      "8         Mjob  Feature  Categorical       Occupation   \n",
      "9         Fjob  Feature  Categorical       Occupation   \n",
      "10      reason  Feature  Categorical             None   \n",
      "11    guardian  Feature  Categorical             None   \n",
      "12  traveltime  Feature      Integer             None   \n",
      "13   studytime  Feature      Integer             None   \n",
      "14    failures  Feature      Integer             None   \n",
      "15   schoolsup  Feature       Binary             None   \n",
      "16      famsup  Feature       Binary             None   \n",
      "17        paid  Feature       Binary             None   \n",
      "18  activities  Feature       Binary             None   \n",
      "19     nursery  Feature       Binary             None   \n",
      "20      higher  Feature       Binary             None   \n",
      "21    internet  Feature       Binary             None   \n",
      "22    romantic  Feature       Binary             None   \n",
      "23      famrel  Feature      Integer             None   \n",
      "24    freetime  Feature      Integer             None   \n",
      "25       goout  Feature      Integer             None   \n",
      "26        Dalc  Feature      Integer             None   \n",
      "27        Walc  Feature      Integer             None   \n",
      "28      health  Feature      Integer             None   \n",
      "29    absences  Feature      Integer             None   \n",
      "30          G1   Target  Categorical             None   \n",
      "31          G2   Target  Categorical             None   \n",
      "32          G3   Target      Integer             None   \n",
      "\n",
      "                                          description units missing_values  \n",
      "0   student's school (binary: 'GP' - Gabriel Perei...  None             no  \n",
      "1   student's sex (binary: 'F' - female or 'M' - m...  None             no  \n",
      "2              student's age (numeric: from 15 to 22)  None             no  \n",
      "3   student's home address type (binary: 'U' - urb...  None             no  \n",
      "4   family size (binary: 'LE3' - less or equal to ...  None             no  \n",
      "5   parent's cohabitation status (binary: 'T' - li...  None             no  \n",
      "6   mother's education (numeric: 0 - none,  1 - pr...  None             no  \n",
      "7   father's education (numeric: 0 - none,  1 - pr...  None             no  \n",
      "8   mother's job (nominal: 'teacher', 'health' car...  None             no  \n",
      "9   father's job (nominal: 'teacher', 'health' car...  None             no  \n",
      "10  reason to choose this school (nominal: close t...  None             no  \n",
      "11  student's guardian (nominal: 'mother', 'father...  None             no  \n",
      "12  home to school travel time (numeric: 1 - <15 m...  None             no  \n",
      "13  weekly study time (numeric: 1 - <2 hours, 2 - ...  None             no  \n",
      "14  number of past class failures (numeric: n if 1...  None             no  \n",
      "15      extra educational support (binary: yes or no)  None             no  \n",
      "16     family educational support (binary: yes or no)  None             no  \n",
      "17  extra paid classes within the course subject (...  None             no  \n",
      "18    extra-curricular activities (binary: yes or no)  None             no  \n",
      "19        attended nursery school (binary: yes or no)  None             no  \n",
      "20  wants to take higher education (binary: yes or...  None             no  \n",
      "21        Internet access at home (binary: yes or no)  None             no  \n",
      "22   with a romantic relationship (binary: yes or no)  None             no  \n",
      "23  quality of family relationships (numeric: from...  None             no  \n",
      "24  free time after school (numeric: from 1 - very...  None             no  \n",
      "25  going out with friends (numeric: from 1 - very...  None             no  \n",
      "26  workday alcohol consumption (numeric: from 1 -...  None             no  \n",
      "27  weekend alcohol consumption (numeric: from 1 -...  None             no  \n",
      "28  current health status (numeric: from 1 - very ...  None             no  \n",
      "29  number of school absences (numeric: from 0 to 93)  None             no  \n",
      "30         first period grade (numeric: from 0 to 20)  None             no  \n",
      "31        second period grade (numeric: from 0 to 20)  None             no  \n",
      "32  final grade (numeric: from 0 to 20, output tar...  None             no  \n"
     ]
    }
   ],
   "source": [
    "# variable information \n",
    "print(student_performance.variables) "
   ]
  },
  {
   "cell_type": "code",
   "execution_count": 31,
   "metadata": {
    "execution": {
     "iopub.execute_input": "2025-04-19T00:52:02.024035Z",
     "iopub.status.busy": "2025-04-19T00:52:02.023657Z",
     "iopub.status.idle": "2025-04-19T00:52:02.034261Z",
     "shell.execute_reply": "2025-04-19T00:52:02.032543Z",
     "shell.execute_reply.started": "2025-04-19T00:52:02.024011Z"
    },
    "trusted": true
   },
   "outputs": [
    {
     "name": "stdout",
     "output_type": "stream",
     "text": [
      "          name     role         type      demographic  \\\n",
      "0       school  Feature  Categorical             None   \n",
      "1          sex  Feature       Binary              Sex   \n",
      "2          age  Feature      Integer              Age   \n",
      "3      address  Feature  Categorical             None   \n",
      "4      famsize  Feature  Categorical            Other   \n",
      "5      Pstatus  Feature  Categorical            Other   \n",
      "6         Medu  Feature      Integer  Education Level   \n",
      "7         Fedu  Feature      Integer  Education Level   \n",
      "8         Mjob  Feature  Categorical       Occupation   \n",
      "9         Fjob  Feature  Categorical       Occupation   \n",
      "10      reason  Feature  Categorical             None   \n",
      "11    guardian  Feature  Categorical             None   \n",
      "12  traveltime  Feature      Integer             None   \n",
      "13   studytime  Feature      Integer             None   \n",
      "14    failures  Feature      Integer             None   \n",
      "15   schoolsup  Feature       Binary             None   \n",
      "16      famsup  Feature       Binary             None   \n",
      "17        paid  Feature       Binary             None   \n",
      "18  activities  Feature       Binary             None   \n",
      "19     nursery  Feature       Binary             None   \n",
      "20      higher  Feature       Binary             None   \n",
      "21    internet  Feature       Binary             None   \n",
      "22    romantic  Feature       Binary             None   \n",
      "23      famrel  Feature      Integer             None   \n",
      "24    freetime  Feature      Integer             None   \n",
      "25       goout  Feature      Integer             None   \n",
      "26        Dalc  Feature      Integer             None   \n",
      "27        Walc  Feature      Integer             None   \n",
      "28      health  Feature      Integer             None   \n",
      "29    absences  Feature      Integer             None   \n",
      "30          G1   Target  Categorical             None   \n",
      "31          G2   Target  Categorical             None   \n",
      "32          G3   Target      Integer             None   \n",
      "\n",
      "                                          description units missing_values  \n",
      "0   student's school (binary: 'GP' - Gabriel Perei...  None             no  \n",
      "1   student's sex (binary: 'F' - female or 'M' - m...  None             no  \n",
      "2              student's age (numeric: from 15 to 22)  None             no  \n",
      "3   student's home address type (binary: 'U' - urb...  None             no  \n",
      "4   family size (binary: 'LE3' - less or equal to ...  None             no  \n",
      "5   parent's cohabitation status (binary: 'T' - li...  None             no  \n",
      "6   mother's education (numeric: 0 - none,  1 - pr...  None             no  \n",
      "7   father's education (numeric: 0 - none,  1 - pr...  None             no  \n",
      "8   mother's job (nominal: 'teacher', 'health' car...  None             no  \n",
      "9   father's job (nominal: 'teacher', 'health' car...  None             no  \n",
      "10  reason to choose this school (nominal: close t...  None             no  \n",
      "11  student's guardian (nominal: 'mother', 'father...  None             no  \n",
      "12  home to school travel time (numeric: 1 - <15 m...  None             no  \n",
      "13  weekly study time (numeric: 1 - <2 hours, 2 - ...  None             no  \n",
      "14  number of past class failures (numeric: n if 1...  None             no  \n",
      "15      extra educational support (binary: yes or no)  None             no  \n",
      "16     family educational support (binary: yes or no)  None             no  \n",
      "17  extra paid classes within the course subject (...  None             no  \n",
      "18    extra-curricular activities (binary: yes or no)  None             no  \n",
      "19        attended nursery school (binary: yes or no)  None             no  \n",
      "20  wants to take higher education (binary: yes or...  None             no  \n",
      "21        Internet access at home (binary: yes or no)  None             no  \n",
      "22   with a romantic relationship (binary: yes or no)  None             no  \n",
      "23  quality of family relationships (numeric: from...  None             no  \n",
      "24  free time after school (numeric: from 1 - very...  None             no  \n",
      "25  going out with friends (numeric: from 1 - very...  None             no  \n",
      "26  workday alcohol consumption (numeric: from 1 -...  None             no  \n",
      "27  weekend alcohol consumption (numeric: from 1 -...  None             no  \n",
      "28  current health status (numeric: from 1 - very ...  None             no  \n",
      "29  number of school absences (numeric: from 0 to 93)  None             no  \n",
      "30         first period grade (numeric: from 0 to 20)  None             no  \n",
      "31        second period grade (numeric: from 0 to 20)  None             no  \n",
      "32  final grade (numeric: from 0 to 20, output tar...  None             no  \n"
     ]
    }
   ],
   "source": [
    "# variable information \n",
    "print(student_performance.variables) "
   ]
  },
  {
   "cell_type": "code",
   "execution_count": 32,
   "metadata": {
    "execution": {
     "iopub.execute_input": "2025-04-19T00:52:05.748505Z",
     "iopub.status.busy": "2025-04-19T00:52:05.748117Z",
     "iopub.status.idle": "2025-04-19T00:52:05.768075Z",
     "shell.execute_reply": "2025-04-19T00:52:05.767000Z",
     "shell.execute_reply.started": "2025-04-19T00:52:05.748478Z"
    },
    "trusted": true
   },
   "outputs": [
    {
     "data": {
      "text/html": [
       "<div>\n",
       "<style scoped>\n",
       "    .dataframe tbody tr th:only-of-type {\n",
       "        vertical-align: middle;\n",
       "    }\n",
       "\n",
       "    .dataframe tbody tr th {\n",
       "        vertical-align: top;\n",
       "    }\n",
       "\n",
       "    .dataframe thead th {\n",
       "        text-align: right;\n",
       "    }\n",
       "</style>\n",
       "<table border=\"1\" class=\"dataframe\">\n",
       "  <thead>\n",
       "    <tr style=\"text-align: right;\">\n",
       "      <th></th>\n",
       "      <th>school</th>\n",
       "      <th>sex</th>\n",
       "      <th>age</th>\n",
       "      <th>address</th>\n",
       "      <th>famsize</th>\n",
       "      <th>Pstatus</th>\n",
       "      <th>Medu</th>\n",
       "      <th>Fedu</th>\n",
       "      <th>Mjob</th>\n",
       "      <th>Fjob</th>\n",
       "      <th>...</th>\n",
       "      <th>higher</th>\n",
       "      <th>internet</th>\n",
       "      <th>romantic</th>\n",
       "      <th>famrel</th>\n",
       "      <th>freetime</th>\n",
       "      <th>goout</th>\n",
       "      <th>Dalc</th>\n",
       "      <th>Walc</th>\n",
       "      <th>health</th>\n",
       "      <th>absences</th>\n",
       "    </tr>\n",
       "  </thead>\n",
       "  <tbody>\n",
       "    <tr>\n",
       "      <th>0</th>\n",
       "      <td>GP</td>\n",
       "      <td>F</td>\n",
       "      <td>18</td>\n",
       "      <td>U</td>\n",
       "      <td>GT3</td>\n",
       "      <td>A</td>\n",
       "      <td>4</td>\n",
       "      <td>4</td>\n",
       "      <td>at_home</td>\n",
       "      <td>teacher</td>\n",
       "      <td>...</td>\n",
       "      <td>yes</td>\n",
       "      <td>no</td>\n",
       "      <td>no</td>\n",
       "      <td>4</td>\n",
       "      <td>3</td>\n",
       "      <td>4</td>\n",
       "      <td>1</td>\n",
       "      <td>1</td>\n",
       "      <td>3</td>\n",
       "      <td>4</td>\n",
       "    </tr>\n",
       "    <tr>\n",
       "      <th>1</th>\n",
       "      <td>GP</td>\n",
       "      <td>F</td>\n",
       "      <td>17</td>\n",
       "      <td>U</td>\n",
       "      <td>GT3</td>\n",
       "      <td>T</td>\n",
       "      <td>1</td>\n",
       "      <td>1</td>\n",
       "      <td>at_home</td>\n",
       "      <td>other</td>\n",
       "      <td>...</td>\n",
       "      <td>yes</td>\n",
       "      <td>yes</td>\n",
       "      <td>no</td>\n",
       "      <td>5</td>\n",
       "      <td>3</td>\n",
       "      <td>3</td>\n",
       "      <td>1</td>\n",
       "      <td>1</td>\n",
       "      <td>3</td>\n",
       "      <td>2</td>\n",
       "    </tr>\n",
       "    <tr>\n",
       "      <th>2</th>\n",
       "      <td>GP</td>\n",
       "      <td>F</td>\n",
       "      <td>15</td>\n",
       "      <td>U</td>\n",
       "      <td>LE3</td>\n",
       "      <td>T</td>\n",
       "      <td>1</td>\n",
       "      <td>1</td>\n",
       "      <td>at_home</td>\n",
       "      <td>other</td>\n",
       "      <td>...</td>\n",
       "      <td>yes</td>\n",
       "      <td>yes</td>\n",
       "      <td>no</td>\n",
       "      <td>4</td>\n",
       "      <td>3</td>\n",
       "      <td>2</td>\n",
       "      <td>2</td>\n",
       "      <td>3</td>\n",
       "      <td>3</td>\n",
       "      <td>6</td>\n",
       "    </tr>\n",
       "    <tr>\n",
       "      <th>3</th>\n",
       "      <td>GP</td>\n",
       "      <td>F</td>\n",
       "      <td>15</td>\n",
       "      <td>U</td>\n",
       "      <td>GT3</td>\n",
       "      <td>T</td>\n",
       "      <td>4</td>\n",
       "      <td>2</td>\n",
       "      <td>health</td>\n",
       "      <td>services</td>\n",
       "      <td>...</td>\n",
       "      <td>yes</td>\n",
       "      <td>yes</td>\n",
       "      <td>yes</td>\n",
       "      <td>3</td>\n",
       "      <td>2</td>\n",
       "      <td>2</td>\n",
       "      <td>1</td>\n",
       "      <td>1</td>\n",
       "      <td>5</td>\n",
       "      <td>0</td>\n",
       "    </tr>\n",
       "    <tr>\n",
       "      <th>4</th>\n",
       "      <td>GP</td>\n",
       "      <td>F</td>\n",
       "      <td>16</td>\n",
       "      <td>U</td>\n",
       "      <td>GT3</td>\n",
       "      <td>T</td>\n",
       "      <td>3</td>\n",
       "      <td>3</td>\n",
       "      <td>other</td>\n",
       "      <td>other</td>\n",
       "      <td>...</td>\n",
       "      <td>yes</td>\n",
       "      <td>no</td>\n",
       "      <td>no</td>\n",
       "      <td>4</td>\n",
       "      <td>3</td>\n",
       "      <td>2</td>\n",
       "      <td>1</td>\n",
       "      <td>2</td>\n",
       "      <td>5</td>\n",
       "      <td>0</td>\n",
       "    </tr>\n",
       "  </tbody>\n",
       "</table>\n",
       "<p>5 rows × 30 columns</p>\n",
       "</div>"
      ],
      "text/plain": [
       "  school sex  age address famsize Pstatus  Medu  Fedu     Mjob      Fjob  ...  \\\n",
       "0     GP   F   18       U     GT3       A     4     4  at_home   teacher  ...   \n",
       "1     GP   F   17       U     GT3       T     1     1  at_home     other  ...   \n",
       "2     GP   F   15       U     LE3       T     1     1  at_home     other  ...   \n",
       "3     GP   F   15       U     GT3       T     4     2   health  services  ...   \n",
       "4     GP   F   16       U     GT3       T     3     3    other     other  ...   \n",
       "\n",
       "  higher internet  romantic  famrel  freetime goout Dalc Walc health absences  \n",
       "0    yes       no        no       4         3     4    1    1      3        4  \n",
       "1    yes      yes        no       5         3     3    1    1      3        2  \n",
       "2    yes      yes        no       4         3     2    2    3      3        6  \n",
       "3    yes      yes       yes       3         2     2    1    1      5        0  \n",
       "4    yes       no        no       4         3     2    1    2      5        0  \n",
       "\n",
       "[5 rows x 30 columns]"
      ]
     },
     "execution_count": 32,
     "metadata": {},
     "output_type": "execute_result"
    }
   ],
   "source": [
    "\n",
    "X.head()"
   ]
  },
  {
   "cell_type": "code",
   "execution_count": 33,
   "metadata": {
    "execution": {
     "iopub.execute_input": "2025-04-19T00:52:08.962881Z",
     "iopub.status.busy": "2025-04-19T00:52:08.962476Z",
     "iopub.status.idle": "2025-04-19T00:52:08.973268Z",
     "shell.execute_reply": "2025-04-19T00:52:08.971934Z",
     "shell.execute_reply.started": "2025-04-19T00:52:08.962854Z"
    },
    "trusted": true
   },
   "outputs": [
    {
     "data": {
      "text/html": [
       "<div>\n",
       "<style scoped>\n",
       "    .dataframe tbody tr th:only-of-type {\n",
       "        vertical-align: middle;\n",
       "    }\n",
       "\n",
       "    .dataframe tbody tr th {\n",
       "        vertical-align: top;\n",
       "    }\n",
       "\n",
       "    .dataframe thead th {\n",
       "        text-align: right;\n",
       "    }\n",
       "</style>\n",
       "<table border=\"1\" class=\"dataframe\">\n",
       "  <thead>\n",
       "    <tr style=\"text-align: right;\">\n",
       "      <th></th>\n",
       "      <th>G1</th>\n",
       "      <th>G2</th>\n",
       "      <th>G3</th>\n",
       "    </tr>\n",
       "  </thead>\n",
       "  <tbody>\n",
       "    <tr>\n",
       "      <th>0</th>\n",
       "      <td>0</td>\n",
       "      <td>11</td>\n",
       "      <td>11</td>\n",
       "    </tr>\n",
       "    <tr>\n",
       "      <th>1</th>\n",
       "      <td>9</td>\n",
       "      <td>11</td>\n",
       "      <td>11</td>\n",
       "    </tr>\n",
       "    <tr>\n",
       "      <th>2</th>\n",
       "      <td>12</td>\n",
       "      <td>13</td>\n",
       "      <td>12</td>\n",
       "    </tr>\n",
       "    <tr>\n",
       "      <th>3</th>\n",
       "      <td>14</td>\n",
       "      <td>14</td>\n",
       "      <td>14</td>\n",
       "    </tr>\n",
       "    <tr>\n",
       "      <th>4</th>\n",
       "      <td>11</td>\n",
       "      <td>13</td>\n",
       "      <td>13</td>\n",
       "    </tr>\n",
       "  </tbody>\n",
       "</table>\n",
       "</div>"
      ],
      "text/plain": [
       "   G1  G2  G3\n",
       "0   0  11  11\n",
       "1   9  11  11\n",
       "2  12  13  12\n",
       "3  14  14  14\n",
       "4  11  13  13"
      ]
     },
     "execution_count": 33,
     "metadata": {},
     "output_type": "execute_result"
    }
   ],
   "source": [
    "\n",
    "y.head()"
   ]
  },
  {
   "cell_type": "markdown",
   "metadata": {},
   "source": [
    "# **Step 3 : Converting Categorical Features to Numerical values**\n",
    "The binary categorical columns are converted in the form of 0s and 1s\n"
   ]
  },
  {
   "cell_type": "code",
   "execution_count": 34,
   "metadata": {
    "execution": {
     "iopub.execute_input": "2025-04-19T00:52:13.435761Z",
     "iopub.status.busy": "2025-04-19T00:52:13.435362Z",
     "iopub.status.idle": "2025-04-19T00:52:13.466095Z",
     "shell.execute_reply": "2025-04-19T00:52:13.465118Z",
     "shell.execute_reply.started": "2025-04-19T00:52:13.435735Z"
    },
    "trusted": true
   },
   "outputs": [],
   "source": [
    "X[\"school\"]=X['school'].apply(lambda x: {True:1,False:0}[x==\"GP\"])\n",
    "X[\"sex\"]=X[\"sex\"].apply(lambda x: {True: 1, False:0}[x==\"M\"])\n",
    "X[\"address\"]=X[\"address\"].apply(lambda x: {True: 1, False:0}[x==\"U\"])\n",
    "X[\"famsize\"]=X[\"famsize\"].apply(lambda x: {True: 1, False:0}[x==\"GT3\"])\n",
    "X[\"Pstatus\"]=X[\"Pstatus\"].apply(lambda x: {True: 1, False:0}[x==\"A\"])\n",
    "X[\"schoolsup\"]=X['schoolsup'].apply(lambda x: {True:1,False:0}[x==\"yes\"])\n",
    "X[\"famsup\"]=X['famsup'].apply(lambda x: {True:1,False:0}[x==\"yes\"])\n",
    "X[\"paid\"]=X['paid'].apply(lambda x: {True:1,False:0}[x==\"yes\"])\n",
    "X[\"activities\"]=X['activities'].apply(lambda x: {True:1,False:0}[x==\"yes\"])\n",
    "X[\"nursery\"]=X['nursery'].apply(lambda x: {True:1,False:0}[x==\"yes\"])\n",
    "X[\"higher\"]=X['higher'].apply(lambda x: {True:1,False:0}[x==\"yes\"])\n",
    "X[\"internet\"]=X['internet'].apply(lambda x: {True:1,False:0}[x==\"yes\"])\n",
    "X[\"romantic\"]=X['romantic'].apply(lambda x: {True:1,False:0}[x==\"yes\"])\n"
   ]
  },
  {
   "cell_type": "markdown",
   "metadata": {},
   "source": [
    "The nominal categorical columns are processed using dummy encoding in order to convert them to numerical columns"
   ]
  },
  {
   "cell_type": "code",
   "execution_count": 35,
   "metadata": {
    "execution": {
     "iopub.execute_input": "2025-04-19T00:52:17.494245Z",
     "iopub.status.busy": "2025-04-19T00:52:17.493899Z",
     "iopub.status.idle": "2025-04-19T00:52:17.512856Z",
     "shell.execute_reply": "2025-04-19T00:52:17.511899Z",
     "shell.execute_reply.started": "2025-04-19T00:52:17.494215Z"
    },
    "trusted": true
   },
   "outputs": [
    {
     "name": "stdout",
     "output_type": "stream",
     "text": [
      "  school  sex  age  address  famsize  Pstatus  Medu  Fedu     Mjob      Fjob  \\\n",
      "0     GP    0   18        1        1        1     4     4  at_home   teacher   \n",
      "1     GP    0   17        1        1        0     1     1  at_home     other   \n",
      "2     GP    0   15        1        0        0     1     1  at_home     other   \n",
      "3     GP    0   15        1        1        0     4     2   health  services   \n",
      "4     GP    0   16        1        1        0     3     3    other     other   \n",
      "\n",
      "   ... famrel  freetime  goout  Dalc  Walc  health  absences  reason_home  \\\n",
      "0  ...      4         3      4     1     1       3         4            0   \n",
      "1  ...      5         3      3     1     1       3         2            0   \n",
      "2  ...      4         3      2     2     3       3         6            0   \n",
      "3  ...      3         2      2     1     1       5         0            1   \n",
      "4  ...      4         3      2     1     2       5         0            1   \n",
      "\n",
      "   reason_reputation  reason_course  \n",
      "0                  0              1  \n",
      "1                  0              1  \n",
      "2                  0              0  \n",
      "3                  0              0  \n",
      "4                  0              0  \n",
      "\n",
      "[5 rows x 32 columns]\n"
     ]
    }
   ],
   "source": [
    "import pandas as pd\n",
    "from pandas.api.types import CategoricalDtype\n",
    "\n",
    "reason_type = CategoricalDtype(categories=['other', 'home', 'reputation', 'course'], ordered=True)\n",
    "\n",
    "# Convert the 'reason' column to the categorical type with the specified order\n",
    "X['reason'] = X['reason'].astype(reason_type)\n",
    "\n",
    "# Apply dummy encoding to 'reason' and drop the 'other' category\n",
    "X = pd.get_dummies(X, columns=['reason'], drop_first=True, dtype=int)\n",
    "\n",
    "# Print the updated dataset\n",
    "print(X.head())"
   ]
  },
  {
   "cell_type": "code",
   "execution_count": 36,
   "metadata": {
    "execution": {
     "iopub.execute_input": "2025-04-19T00:52:21.538684Z",
     "iopub.status.busy": "2025-04-19T00:52:21.538363Z",
     "iopub.status.idle": "2025-04-19T00:52:21.544336Z",
     "shell.execute_reply": "2025-04-19T00:52:21.543230Z",
     "shell.execute_reply.started": "2025-04-19T00:52:21.538660Z"
    },
    "trusted": true
   },
   "outputs": [
    {
     "name": "stdout",
     "output_type": "stream",
     "text": [
      "Index(['school', 'sex', 'age', 'address', 'famsize', 'Pstatus', 'Medu', 'Fedu',\n",
      "       'Mjob', 'Fjob', 'guardian', 'traveltime', 'studytime', 'failures',\n",
      "       'schoolsup', 'famsup', 'paid', 'activities', 'nursery', 'higher',\n",
      "       'internet', 'romantic', 'famrel', 'freetime', 'goout', 'Dalc', 'Walc',\n",
      "       'health', 'absences', 'reason_home', 'reason_reputation',\n",
      "       'reason_course'],\n",
      "      dtype='object')\n"
     ]
    }
   ],
   "source": [
    "# Display the column names of the updated dataset X\n",
    "print(X.columns)\n"
   ]
  },
  {
   "cell_type": "code",
   "execution_count": 37,
   "metadata": {
    "execution": {
     "iopub.execute_input": "2025-04-19T00:52:27.380228Z",
     "iopub.status.busy": "2025-04-19T00:52:27.379827Z",
     "iopub.status.idle": "2025-04-19T00:52:27.392632Z",
     "shell.execute_reply": "2025-04-19T00:52:27.391581Z",
     "shell.execute_reply.started": "2025-04-19T00:52:27.380198Z"
    },
    "trusted": true
   },
   "outputs": [],
   "source": [
    "guardian_type = CategoricalDtype(categories=['other', 'mother', 'father'], ordered=True)\n",
    "\n",
    "# Convert the 'guardian' column to the categorical type with the specified order\n",
    "X['guardian'] = X['guardian'].astype(guardian_type)\n",
    "\n",
    "# Apply dummy encoding to 'guardian' and drop the 'other' category\n",
    "X = pd.get_dummies(X, columns=['guardian'], drop_first=True, dtype=int)\n",
    "\n"
   ]
  },
  {
   "cell_type": "code",
   "execution_count": 38,
   "metadata": {
    "execution": {
     "iopub.execute_input": "2025-04-19T00:52:52.449358Z",
     "iopub.status.busy": "2025-04-19T00:52:52.448469Z",
     "iopub.status.idle": "2025-04-19T00:52:52.459457Z",
     "shell.execute_reply": "2025-04-19T00:52:52.458663Z",
     "shell.execute_reply.started": "2025-04-19T00:52:52.449260Z"
    },
    "trusted": true
   },
   "outputs": [],
   "source": [
    "job_type = CategoricalDtype(categories=['other', 'teacher', 'health','services'], ordered=True)\n",
    "\n",
    "# Convert the 'reason' column to the categorical type with the specified order\n",
    "X['Mjob'] = X['Mjob'].astype(job_type)\n",
    "\n",
    "# Apply dummy encoding to 'reason' and drop the 'other' category\n",
    "X = pd.get_dummies(X, columns=['Mjob'], drop_first=True, dtype=int)\n",
    "\n"
   ]
  },
  {
   "cell_type": "code",
   "execution_count": 39,
   "metadata": {
    "execution": {
     "iopub.execute_input": "2025-04-19T00:52:54.989687Z",
     "iopub.status.busy": "2025-04-19T00:52:54.989334Z",
     "iopub.status.idle": "2025-04-19T00:52:55.000074Z",
     "shell.execute_reply": "2025-04-19T00:52:54.999112Z",
     "shell.execute_reply.started": "2025-04-19T00:52:54.989665Z"
    },
    "trusted": true
   },
   "outputs": [],
   "source": [
    "\n",
    "# Convert the 'reason' column to the categorical type with the specified order\n",
    "X['Fjob'] = X['Fjob'].astype(job_type)\n",
    "\n",
    "# Apply dummy encoding to 'reason' and drop the 'other' category\n",
    "X = pd.get_dummies(X, columns=['Fjob'], drop_first=True, dtype=int)\n",
    "\n"
   ]
  },
  {
   "cell_type": "code",
   "execution_count": 40,
   "metadata": {
    "execution": {
     "iopub.execute_input": "2025-04-19T00:57:36.567814Z",
     "iopub.status.busy": "2025-04-19T00:57:36.567267Z",
     "iopub.status.idle": "2025-04-19T00:57:36.574604Z",
     "shell.execute_reply": "2025-04-19T00:57:36.573432Z",
     "shell.execute_reply.started": "2025-04-19T00:57:36.567774Z"
    },
    "trusted": true
   },
   "outputs": [
    {
     "name": "stdout",
     "output_type": "stream",
     "text": [
      "Index(['school', 'sex', 'age', 'address', 'famsize', 'Pstatus', 'Medu', 'Fedu',\n",
      "       'traveltime', 'studytime', 'failures', 'schoolsup', 'famsup', 'paid',\n",
      "       'activities', 'nursery', 'higher', 'internet', 'romantic', 'famrel',\n",
      "       'freetime', 'goout', 'Dalc', 'Walc', 'health', 'absences',\n",
      "       'reason_home', 'reason_reputation', 'reason_course', 'guardian_mother',\n",
      "       'guardian_father', 'Mjob_teacher', 'Mjob_health', 'Mjob_services',\n",
      "       'Fjob_teacher', 'Fjob_health', 'Fjob_services'],\n",
      "      dtype='object')\n"
     ]
    }
   ],
   "source": [
    "print(X.columns)"
   ]
  },
  {
   "cell_type": "markdown",
   "metadata": {},
   "source": [
    "# **Step 4: Using Pycaret**\n",
    "Applying the different Clustering techniques with different preprocessing techniques on the dataset  to analyse the effectiveness of the models in different scenarios"
   ]
  },
  {
   "cell_type": "code",
   "execution_count": 45,
   "metadata": {
    "execution": {
     "iopub.execute_input": "2025-04-19T01:20:37.619603Z",
     "iopub.status.busy": "2025-04-19T01:20:37.619189Z",
     "iopub.status.idle": "2025-04-19T01:21:26.611234Z",
     "shell.execute_reply": "2025-04-19T01:21:26.610328Z",
     "shell.execute_reply.started": "2025-04-19T01:20:37.619572Z"
    },
    "trusted": true
   },
   "outputs": [
    {
     "name": "stdout",
     "output_type": "stream",
     "text": [
      "kmeans with No Data Preprocessing and 3 clusters\n"
     ]
    },
    {
     "data": {
      "text/html": [],
      "text/plain": [
       "<IPython.core.display.HTML object>"
      ]
     },
     "metadata": {},
     "output_type": "display_data"
    },
    {
     "data": {
      "text/html": [
       "<style type=\"text/css\">\n",
       "</style>\n",
       "<table id=\"T_d1038\">\n",
       "  <thead>\n",
       "    <tr>\n",
       "      <th class=\"blank level0\" >&nbsp;</th>\n",
       "      <th id=\"T_d1038_level0_col0\" class=\"col_heading level0 col0\" >Silhouette</th>\n",
       "      <th id=\"T_d1038_level0_col1\" class=\"col_heading level0 col1\" >Calinski-Harabasz</th>\n",
       "      <th id=\"T_d1038_level0_col2\" class=\"col_heading level0 col2\" >Davies-Bouldin</th>\n",
       "      <th id=\"T_d1038_level0_col3\" class=\"col_heading level0 col3\" >Homogeneity</th>\n",
       "      <th id=\"T_d1038_level0_col4\" class=\"col_heading level0 col4\" >Rand Index</th>\n",
       "      <th id=\"T_d1038_level0_col5\" class=\"col_heading level0 col5\" >Completeness</th>\n",
       "    </tr>\n",
       "  </thead>\n",
       "  <tbody>\n",
       "    <tr>\n",
       "      <th id=\"T_d1038_level0_row0\" class=\"row_heading level0 row0\" >0</th>\n",
       "      <td id=\"T_d1038_row0_col0\" class=\"data row0 col0\" >0.2091</td>\n",
       "      <td id=\"T_d1038_row0_col1\" class=\"data row0 col1\" >272.5678</td>\n",
       "      <td id=\"T_d1038_row0_col2\" class=\"data row0 col2\" >1.5616</td>\n",
       "      <td id=\"T_d1038_row0_col3\" class=\"data row0 col3\" >0</td>\n",
       "      <td id=\"T_d1038_row0_col4\" class=\"data row0 col4\" >0</td>\n",
       "      <td id=\"T_d1038_row0_col5\" class=\"data row0 col5\" >0</td>\n",
       "    </tr>\n",
       "  </tbody>\n",
       "</table>\n"
      ],
      "text/plain": [
       "<pandas.io.formats.style.Styler at 0x7db63b16d310>"
      ]
     },
     "metadata": {},
     "output_type": "display_data"
    },
    {
     "data": {
      "text/html": [],
      "text/plain": [
       "<IPython.core.display.HTML object>"
      ]
     },
     "metadata": {},
     "output_type": "display_data"
    },
    {
     "name": "stdout",
     "output_type": "stream",
     "text": [
      "Metrics available: Index(['silhouette', 'chs', 'db', 'hs', 'ari', 'cs'], dtype='object', name='ID')\n",
      "kmeans with No Data Preprocessing and 4 clusters\n"
     ]
    },
    {
     "data": {
      "text/html": [],
      "text/plain": [
       "<IPython.core.display.HTML object>"
      ]
     },
     "metadata": {},
     "output_type": "display_data"
    },
    {
     "data": {
      "text/html": [
       "<style type=\"text/css\">\n",
       "</style>\n",
       "<table id=\"T_74c77\">\n",
       "  <thead>\n",
       "    <tr>\n",
       "      <th class=\"blank level0\" >&nbsp;</th>\n",
       "      <th id=\"T_74c77_level0_col0\" class=\"col_heading level0 col0\" >Silhouette</th>\n",
       "      <th id=\"T_74c77_level0_col1\" class=\"col_heading level0 col1\" >Calinski-Harabasz</th>\n",
       "      <th id=\"T_74c77_level0_col2\" class=\"col_heading level0 col2\" >Davies-Bouldin</th>\n",
       "      <th id=\"T_74c77_level0_col3\" class=\"col_heading level0 col3\" >Homogeneity</th>\n",
       "      <th id=\"T_74c77_level0_col4\" class=\"col_heading level0 col4\" >Rand Index</th>\n",
       "      <th id=\"T_74c77_level0_col5\" class=\"col_heading level0 col5\" >Completeness</th>\n",
       "    </tr>\n",
       "  </thead>\n",
       "  <tbody>\n",
       "    <tr>\n",
       "      <th id=\"T_74c77_level0_row0\" class=\"row_heading level0 row0\" >0</th>\n",
       "      <td id=\"T_74c77_row0_col0\" class=\"data row0 col0\" >0.1626</td>\n",
       "      <td id=\"T_74c77_row0_col1\" class=\"data row0 col1\" >219.3775</td>\n",
       "      <td id=\"T_74c77_row0_col2\" class=\"data row0 col2\" >1.7813</td>\n",
       "      <td id=\"T_74c77_row0_col3\" class=\"data row0 col3\" >0</td>\n",
       "      <td id=\"T_74c77_row0_col4\" class=\"data row0 col4\" >0</td>\n",
       "      <td id=\"T_74c77_row0_col5\" class=\"data row0 col5\" >0</td>\n",
       "    </tr>\n",
       "  </tbody>\n",
       "</table>\n"
      ],
      "text/plain": [
       "<pandas.io.formats.style.Styler at 0x7db63b187810>"
      ]
     },
     "metadata": {},
     "output_type": "display_data"
    },
    {
     "data": {
      "text/html": [],
      "text/plain": [
       "<IPython.core.display.HTML object>"
      ]
     },
     "metadata": {},
     "output_type": "display_data"
    },
    {
     "name": "stdout",
     "output_type": "stream",
     "text": [
      "Metrics available: Index(['silhouette', 'chs', 'db', 'hs', 'ari', 'cs'], dtype='object', name='ID')\n",
      "kmeans with No Data Preprocessing and 5 clusters\n"
     ]
    },
    {
     "data": {
      "text/html": [],
      "text/plain": [
       "<IPython.core.display.HTML object>"
      ]
     },
     "metadata": {},
     "output_type": "display_data"
    },
    {
     "data": {
      "text/html": [
       "<style type=\"text/css\">\n",
       "</style>\n",
       "<table id=\"T_25177\">\n",
       "  <thead>\n",
       "    <tr>\n",
       "      <th class=\"blank level0\" >&nbsp;</th>\n",
       "      <th id=\"T_25177_level0_col0\" class=\"col_heading level0 col0\" >Silhouette</th>\n",
       "      <th id=\"T_25177_level0_col1\" class=\"col_heading level0 col1\" >Calinski-Harabasz</th>\n",
       "      <th id=\"T_25177_level0_col2\" class=\"col_heading level0 col2\" >Davies-Bouldin</th>\n",
       "      <th id=\"T_25177_level0_col3\" class=\"col_heading level0 col3\" >Homogeneity</th>\n",
       "      <th id=\"T_25177_level0_col4\" class=\"col_heading level0 col4\" >Rand Index</th>\n",
       "      <th id=\"T_25177_level0_col5\" class=\"col_heading level0 col5\" >Completeness</th>\n",
       "    </tr>\n",
       "  </thead>\n",
       "  <tbody>\n",
       "    <tr>\n",
       "      <th id=\"T_25177_level0_row0\" class=\"row_heading level0 row0\" >0</th>\n",
       "      <td id=\"T_25177_row0_col0\" class=\"data row0 col0\" >0.1719</td>\n",
       "      <td id=\"T_25177_row0_col1\" class=\"data row0 col1\" >173.9047</td>\n",
       "      <td id=\"T_25177_row0_col2\" class=\"data row0 col2\" >1.8366</td>\n",
       "      <td id=\"T_25177_row0_col3\" class=\"data row0 col3\" >0</td>\n",
       "      <td id=\"T_25177_row0_col4\" class=\"data row0 col4\" >0</td>\n",
       "      <td id=\"T_25177_row0_col5\" class=\"data row0 col5\" >0</td>\n",
       "    </tr>\n",
       "  </tbody>\n",
       "</table>\n"
      ],
      "text/plain": [
       "<pandas.io.formats.style.Styler at 0x7db63b1e1d50>"
      ]
     },
     "metadata": {},
     "output_type": "display_data"
    },
    {
     "data": {
      "text/html": [],
      "text/plain": [
       "<IPython.core.display.HTML object>"
      ]
     },
     "metadata": {},
     "output_type": "display_data"
    },
    {
     "name": "stdout",
     "output_type": "stream",
     "text": [
      "Metrics available: Index(['silhouette', 'chs', 'db', 'hs', 'ari', 'cs'], dtype='object', name='ID')\n",
      "kmeans with Using Normalization and 3 clusters\n"
     ]
    },
    {
     "data": {
      "text/html": [],
      "text/plain": [
       "<IPython.core.display.HTML object>"
      ]
     },
     "metadata": {},
     "output_type": "display_data"
    },
    {
     "data": {
      "text/html": [
       "<style type=\"text/css\">\n",
       "</style>\n",
       "<table id=\"T_685a1\">\n",
       "  <thead>\n",
       "    <tr>\n",
       "      <th class=\"blank level0\" >&nbsp;</th>\n",
       "      <th id=\"T_685a1_level0_col0\" class=\"col_heading level0 col0\" >Silhouette</th>\n",
       "      <th id=\"T_685a1_level0_col1\" class=\"col_heading level0 col1\" >Calinski-Harabasz</th>\n",
       "      <th id=\"T_685a1_level0_col2\" class=\"col_heading level0 col2\" >Davies-Bouldin</th>\n",
       "      <th id=\"T_685a1_level0_col3\" class=\"col_heading level0 col3\" >Homogeneity</th>\n",
       "      <th id=\"T_685a1_level0_col4\" class=\"col_heading level0 col4\" >Rand Index</th>\n",
       "      <th id=\"T_685a1_level0_col5\" class=\"col_heading level0 col5\" >Completeness</th>\n",
       "    </tr>\n",
       "  </thead>\n",
       "  <tbody>\n",
       "    <tr>\n",
       "      <th id=\"T_685a1_level0_row0\" class=\"row_heading level0 row0\" >0</th>\n",
       "      <td id=\"T_685a1_row0_col0\" class=\"data row0 col0\" >0.0485</td>\n",
       "      <td id=\"T_685a1_row0_col1\" class=\"data row0 col1\" >34.2371</td>\n",
       "      <td id=\"T_685a1_row0_col2\" class=\"data row0 col2\" >3.6015</td>\n",
       "      <td id=\"T_685a1_row0_col3\" class=\"data row0 col3\" >0</td>\n",
       "      <td id=\"T_685a1_row0_col4\" class=\"data row0 col4\" >0</td>\n",
       "      <td id=\"T_685a1_row0_col5\" class=\"data row0 col5\" >0</td>\n",
       "    </tr>\n",
       "  </tbody>\n",
       "</table>\n"
      ],
      "text/plain": [
       "<pandas.io.formats.style.Styler at 0x7db63b185750>"
      ]
     },
     "metadata": {},
     "output_type": "display_data"
    },
    {
     "data": {
      "text/html": [],
      "text/plain": [
       "<IPython.core.display.HTML object>"
      ]
     },
     "metadata": {},
     "output_type": "display_data"
    },
    {
     "name": "stdout",
     "output_type": "stream",
     "text": [
      "Metrics available: Index(['silhouette', 'chs', 'db', 'hs', 'ari', 'cs'], dtype='object', name='ID')\n",
      "kmeans with Using Normalization and 4 clusters\n"
     ]
    },
    {
     "data": {
      "text/html": [],
      "text/plain": [
       "<IPython.core.display.HTML object>"
      ]
     },
     "metadata": {},
     "output_type": "display_data"
    },
    {
     "data": {
      "text/html": [
       "<style type=\"text/css\">\n",
       "</style>\n",
       "<table id=\"T_5709f\">\n",
       "  <thead>\n",
       "    <tr>\n",
       "      <th class=\"blank level0\" >&nbsp;</th>\n",
       "      <th id=\"T_5709f_level0_col0\" class=\"col_heading level0 col0\" >Silhouette</th>\n",
       "      <th id=\"T_5709f_level0_col1\" class=\"col_heading level0 col1\" >Calinski-Harabasz</th>\n",
       "      <th id=\"T_5709f_level0_col2\" class=\"col_heading level0 col2\" >Davies-Bouldin</th>\n",
       "      <th id=\"T_5709f_level0_col3\" class=\"col_heading level0 col3\" >Homogeneity</th>\n",
       "      <th id=\"T_5709f_level0_col4\" class=\"col_heading level0 col4\" >Rand Index</th>\n",
       "      <th id=\"T_5709f_level0_col5\" class=\"col_heading level0 col5\" >Completeness</th>\n",
       "    </tr>\n",
       "  </thead>\n",
       "  <tbody>\n",
       "    <tr>\n",
       "      <th id=\"T_5709f_level0_row0\" class=\"row_heading level0 row0\" >0</th>\n",
       "      <td id=\"T_5709f_row0_col0\" class=\"data row0 col0\" >0.0525</td>\n",
       "      <td id=\"T_5709f_row0_col1\" class=\"data row0 col1\" >31.6841</td>\n",
       "      <td id=\"T_5709f_row0_col2\" class=\"data row0 col2\" >3.4156</td>\n",
       "      <td id=\"T_5709f_row0_col3\" class=\"data row0 col3\" >0</td>\n",
       "      <td id=\"T_5709f_row0_col4\" class=\"data row0 col4\" >0</td>\n",
       "      <td id=\"T_5709f_row0_col5\" class=\"data row0 col5\" >0</td>\n",
       "    </tr>\n",
       "  </tbody>\n",
       "</table>\n"
      ],
      "text/plain": [
       "<pandas.io.formats.style.Styler at 0x7db7aff65750>"
      ]
     },
     "metadata": {},
     "output_type": "display_data"
    },
    {
     "data": {
      "text/html": [],
      "text/plain": [
       "<IPython.core.display.HTML object>"
      ]
     },
     "metadata": {},
     "output_type": "display_data"
    },
    {
     "name": "stdout",
     "output_type": "stream",
     "text": [
      "Metrics available: Index(['silhouette', 'chs', 'db', 'hs', 'ari', 'cs'], dtype='object', name='ID')\n",
      "kmeans with Using Normalization and 5 clusters\n"
     ]
    },
    {
     "data": {
      "text/html": [],
      "text/plain": [
       "<IPython.core.display.HTML object>"
      ]
     },
     "metadata": {},
     "output_type": "display_data"
    },
    {
     "data": {
      "text/html": [
       "<style type=\"text/css\">\n",
       "</style>\n",
       "<table id=\"T_bdf92\">\n",
       "  <thead>\n",
       "    <tr>\n",
       "      <th class=\"blank level0\" >&nbsp;</th>\n",
       "      <th id=\"T_bdf92_level0_col0\" class=\"col_heading level0 col0\" >Silhouette</th>\n",
       "      <th id=\"T_bdf92_level0_col1\" class=\"col_heading level0 col1\" >Calinski-Harabasz</th>\n",
       "      <th id=\"T_bdf92_level0_col2\" class=\"col_heading level0 col2\" >Davies-Bouldin</th>\n",
       "      <th id=\"T_bdf92_level0_col3\" class=\"col_heading level0 col3\" >Homogeneity</th>\n",
       "      <th id=\"T_bdf92_level0_col4\" class=\"col_heading level0 col4\" >Rand Index</th>\n",
       "      <th id=\"T_bdf92_level0_col5\" class=\"col_heading level0 col5\" >Completeness</th>\n",
       "    </tr>\n",
       "  </thead>\n",
       "  <tbody>\n",
       "    <tr>\n",
       "      <th id=\"T_bdf92_level0_row0\" class=\"row_heading level0 row0\" >0</th>\n",
       "      <td id=\"T_bdf92_row0_col0\" class=\"data row0 col0\" >0.0632</td>\n",
       "      <td id=\"T_bdf92_row0_col1\" class=\"data row0 col1\" >29.9035</td>\n",
       "      <td id=\"T_bdf92_row0_col2\" class=\"data row0 col2\" >3.1304</td>\n",
       "      <td id=\"T_bdf92_row0_col3\" class=\"data row0 col3\" >0</td>\n",
       "      <td id=\"T_bdf92_row0_col4\" class=\"data row0 col4\" >0</td>\n",
       "      <td id=\"T_bdf92_row0_col5\" class=\"data row0 col5\" >0</td>\n",
       "    </tr>\n",
       "  </tbody>\n",
       "</table>\n"
      ],
      "text/plain": [
       "<pandas.io.formats.style.Styler at 0x7db63ad16150>"
      ]
     },
     "metadata": {},
     "output_type": "display_data"
    },
    {
     "data": {
      "text/html": [],
      "text/plain": [
       "<IPython.core.display.HTML object>"
      ]
     },
     "metadata": {},
     "output_type": "display_data"
    },
    {
     "name": "stdout",
     "output_type": "stream",
     "text": [
      "Metrics available: Index(['silhouette', 'chs', 'db', 'hs', 'ari', 'cs'], dtype='object', name='ID')\n",
      "kmeans with Using Transform and 3 clusters\n"
     ]
    },
    {
     "data": {
      "text/html": [],
      "text/plain": [
       "<IPython.core.display.HTML object>"
      ]
     },
     "metadata": {},
     "output_type": "display_data"
    },
    {
     "data": {
      "text/html": [
       "<style type=\"text/css\">\n",
       "</style>\n",
       "<table id=\"T_d6bf8\">\n",
       "  <thead>\n",
       "    <tr>\n",
       "      <th class=\"blank level0\" >&nbsp;</th>\n",
       "      <th id=\"T_d6bf8_level0_col0\" class=\"col_heading level0 col0\" >Silhouette</th>\n",
       "      <th id=\"T_d6bf8_level0_col1\" class=\"col_heading level0 col1\" >Calinski-Harabasz</th>\n",
       "      <th id=\"T_d6bf8_level0_col2\" class=\"col_heading level0 col2\" >Davies-Bouldin</th>\n",
       "      <th id=\"T_d6bf8_level0_col3\" class=\"col_heading level0 col3\" >Homogeneity</th>\n",
       "      <th id=\"T_d6bf8_level0_col4\" class=\"col_heading level0 col4\" >Rand Index</th>\n",
       "      <th id=\"T_d6bf8_level0_col5\" class=\"col_heading level0 col5\" >Completeness</th>\n",
       "    </tr>\n",
       "  </thead>\n",
       "  <tbody>\n",
       "    <tr>\n",
       "      <th id=\"T_d6bf8_level0_row0\" class=\"row_heading level0 row0\" >0</th>\n",
       "      <td id=\"T_d6bf8_row0_col0\" class=\"data row0 col0\" >0.4268</td>\n",
       "      <td id=\"T_d6bf8_row0_col1\" class=\"data row0 col1\" >134245.5534</td>\n",
       "      <td id=\"T_d6bf8_row0_col2\" class=\"data row0 col2\" >0.8383</td>\n",
       "      <td id=\"T_d6bf8_row0_col3\" class=\"data row0 col3\" >0</td>\n",
       "      <td id=\"T_d6bf8_row0_col4\" class=\"data row0 col4\" >0</td>\n",
       "      <td id=\"T_d6bf8_row0_col5\" class=\"data row0 col5\" >0</td>\n",
       "    </tr>\n",
       "  </tbody>\n",
       "</table>\n"
      ],
      "text/plain": [
       "<pandas.io.formats.style.Styler at 0x7db7affad050>"
      ]
     },
     "metadata": {},
     "output_type": "display_data"
    },
    {
     "data": {
      "text/html": [],
      "text/plain": [
       "<IPython.core.display.HTML object>"
      ]
     },
     "metadata": {},
     "output_type": "display_data"
    },
    {
     "name": "stdout",
     "output_type": "stream",
     "text": [
      "Metrics available: Index(['silhouette', 'chs', 'db', 'hs', 'ari', 'cs'], dtype='object', name='ID')\n",
      "kmeans with Using Transform and 4 clusters\n"
     ]
    },
    {
     "data": {
      "text/html": [],
      "text/plain": [
       "<IPython.core.display.HTML object>"
      ]
     },
     "metadata": {},
     "output_type": "display_data"
    },
    {
     "data": {
      "text/html": [
       "<style type=\"text/css\">\n",
       "</style>\n",
       "<table id=\"T_5c7f4\">\n",
       "  <thead>\n",
       "    <tr>\n",
       "      <th class=\"blank level0\" >&nbsp;</th>\n",
       "      <th id=\"T_5c7f4_level0_col0\" class=\"col_heading level0 col0\" >Silhouette</th>\n",
       "      <th id=\"T_5c7f4_level0_col1\" class=\"col_heading level0 col1\" >Calinski-Harabasz</th>\n",
       "      <th id=\"T_5c7f4_level0_col2\" class=\"col_heading level0 col2\" >Davies-Bouldin</th>\n",
       "      <th id=\"T_5c7f4_level0_col3\" class=\"col_heading level0 col3\" >Homogeneity</th>\n",
       "      <th id=\"T_5c7f4_level0_col4\" class=\"col_heading level0 col4\" >Rand Index</th>\n",
       "      <th id=\"T_5c7f4_level0_col5\" class=\"col_heading level0 col5\" >Completeness</th>\n",
       "    </tr>\n",
       "  </thead>\n",
       "  <tbody>\n",
       "    <tr>\n",
       "      <th id=\"T_5c7f4_level0_row0\" class=\"row_heading level0 row0\" >0</th>\n",
       "      <td id=\"T_5c7f4_row0_col0\" class=\"data row0 col0\" >0.4988</td>\n",
       "      <td id=\"T_5c7f4_row0_col1\" class=\"data row0 col1\" >144218.9198</td>\n",
       "      <td id=\"T_5c7f4_row0_col2\" class=\"data row0 col2\" >0.7082</td>\n",
       "      <td id=\"T_5c7f4_row0_col3\" class=\"data row0 col3\" >0</td>\n",
       "      <td id=\"T_5c7f4_row0_col4\" class=\"data row0 col4\" >0</td>\n",
       "      <td id=\"T_5c7f4_row0_col5\" class=\"data row0 col5\" >0</td>\n",
       "    </tr>\n",
       "  </tbody>\n",
       "</table>\n"
      ],
      "text/plain": [
       "<pandas.io.formats.style.Styler at 0x7db63ad16150>"
      ]
     },
     "metadata": {},
     "output_type": "display_data"
    },
    {
     "data": {
      "text/html": [],
      "text/plain": [
       "<IPython.core.display.HTML object>"
      ]
     },
     "metadata": {},
     "output_type": "display_data"
    },
    {
     "name": "stdout",
     "output_type": "stream",
     "text": [
      "Metrics available: Index(['silhouette', 'chs', 'db', 'hs', 'ari', 'cs'], dtype='object', name='ID')\n",
      "kmeans with Using Transform and 5 clusters\n"
     ]
    },
    {
     "data": {
      "text/html": [],
      "text/plain": [
       "<IPython.core.display.HTML object>"
      ]
     },
     "metadata": {},
     "output_type": "display_data"
    },
    {
     "data": {
      "text/html": [
       "<style type=\"text/css\">\n",
       "</style>\n",
       "<table id=\"T_75608\">\n",
       "  <thead>\n",
       "    <tr>\n",
       "      <th class=\"blank level0\" >&nbsp;</th>\n",
       "      <th id=\"T_75608_level0_col0\" class=\"col_heading level0 col0\" >Silhouette</th>\n",
       "      <th id=\"T_75608_level0_col1\" class=\"col_heading level0 col1\" >Calinski-Harabasz</th>\n",
       "      <th id=\"T_75608_level0_col2\" class=\"col_heading level0 col2\" >Davies-Bouldin</th>\n",
       "      <th id=\"T_75608_level0_col3\" class=\"col_heading level0 col3\" >Homogeneity</th>\n",
       "      <th id=\"T_75608_level0_col4\" class=\"col_heading level0 col4\" >Rand Index</th>\n",
       "      <th id=\"T_75608_level0_col5\" class=\"col_heading level0 col5\" >Completeness</th>\n",
       "    </tr>\n",
       "  </thead>\n",
       "  <tbody>\n",
       "    <tr>\n",
       "      <th id=\"T_75608_level0_row0\" class=\"row_heading level0 row0\" >0</th>\n",
       "      <td id=\"T_75608_row0_col0\" class=\"data row0 col0\" >0.5109</td>\n",
       "      <td id=\"T_75608_row0_col1\" class=\"data row0 col1\" >138704.7639</td>\n",
       "      <td id=\"T_75608_row0_col2\" class=\"data row0 col2\" >0.7008</td>\n",
       "      <td id=\"T_75608_row0_col3\" class=\"data row0 col3\" >0</td>\n",
       "      <td id=\"T_75608_row0_col4\" class=\"data row0 col4\" >0</td>\n",
       "      <td id=\"T_75608_row0_col5\" class=\"data row0 col5\" >0</td>\n",
       "    </tr>\n",
       "  </tbody>\n",
       "</table>\n"
      ],
      "text/plain": [
       "<pandas.io.formats.style.Styler at 0x7db7affad310>"
      ]
     },
     "metadata": {},
     "output_type": "display_data"
    },
    {
     "data": {
      "text/html": [],
      "text/plain": [
       "<IPython.core.display.HTML object>"
      ]
     },
     "metadata": {},
     "output_type": "display_data"
    },
    {
     "name": "stdout",
     "output_type": "stream",
     "text": [
      "Metrics available: Index(['silhouette', 'chs', 'db', 'hs', 'ari', 'cs'], dtype='object', name='ID')\n",
      "kmeans with Using PCA and 3 clusters\n"
     ]
    },
    {
     "data": {
      "text/html": [],
      "text/plain": [
       "<IPython.core.display.HTML object>"
      ]
     },
     "metadata": {},
     "output_type": "display_data"
    },
    {
     "data": {
      "text/html": [
       "<style type=\"text/css\">\n",
       "</style>\n",
       "<table id=\"T_d9b2d\">\n",
       "  <thead>\n",
       "    <tr>\n",
       "      <th class=\"blank level0\" >&nbsp;</th>\n",
       "      <th id=\"T_d9b2d_level0_col0\" class=\"col_heading level0 col0\" >Silhouette</th>\n",
       "      <th id=\"T_d9b2d_level0_col1\" class=\"col_heading level0 col1\" >Calinski-Harabasz</th>\n",
       "      <th id=\"T_d9b2d_level0_col2\" class=\"col_heading level0 col2\" >Davies-Bouldin</th>\n",
       "      <th id=\"T_d9b2d_level0_col3\" class=\"col_heading level0 col3\" >Homogeneity</th>\n",
       "      <th id=\"T_d9b2d_level0_col4\" class=\"col_heading level0 col4\" >Rand Index</th>\n",
       "      <th id=\"T_d9b2d_level0_col5\" class=\"col_heading level0 col5\" >Completeness</th>\n",
       "    </tr>\n",
       "  </thead>\n",
       "  <tbody>\n",
       "    <tr>\n",
       "      <th id=\"T_d9b2d_level0_row0\" class=\"row_heading level0 row0\" >0</th>\n",
       "      <td id=\"T_d9b2d_row0_col0\" class=\"data row0 col0\" >0.2091</td>\n",
       "      <td id=\"T_d9b2d_row0_col1\" class=\"data row0 col1\" >272.5678</td>\n",
       "      <td id=\"T_d9b2d_row0_col2\" class=\"data row0 col2\" >1.5616</td>\n",
       "      <td id=\"T_d9b2d_row0_col3\" class=\"data row0 col3\" >0</td>\n",
       "      <td id=\"T_d9b2d_row0_col4\" class=\"data row0 col4\" >0</td>\n",
       "      <td id=\"T_d9b2d_row0_col5\" class=\"data row0 col5\" >0</td>\n",
       "    </tr>\n",
       "  </tbody>\n",
       "</table>\n"
      ],
      "text/plain": [
       "<pandas.io.formats.style.Styler at 0x7db7aff66290>"
      ]
     },
     "metadata": {},
     "output_type": "display_data"
    },
    {
     "data": {
      "text/html": [],
      "text/plain": [
       "<IPython.core.display.HTML object>"
      ]
     },
     "metadata": {},
     "output_type": "display_data"
    },
    {
     "name": "stdout",
     "output_type": "stream",
     "text": [
      "Metrics available: Index(['silhouette', 'chs', 'db', 'hs', 'ari', 'cs'], dtype='object', name='ID')\n",
      "kmeans with Using PCA and 4 clusters\n"
     ]
    },
    {
     "data": {
      "text/html": [],
      "text/plain": [
       "<IPython.core.display.HTML object>"
      ]
     },
     "metadata": {},
     "output_type": "display_data"
    },
    {
     "data": {
      "text/html": [
       "<style type=\"text/css\">\n",
       "</style>\n",
       "<table id=\"T_75d28\">\n",
       "  <thead>\n",
       "    <tr>\n",
       "      <th class=\"blank level0\" >&nbsp;</th>\n",
       "      <th id=\"T_75d28_level0_col0\" class=\"col_heading level0 col0\" >Silhouette</th>\n",
       "      <th id=\"T_75d28_level0_col1\" class=\"col_heading level0 col1\" >Calinski-Harabasz</th>\n",
       "      <th id=\"T_75d28_level0_col2\" class=\"col_heading level0 col2\" >Davies-Bouldin</th>\n",
       "      <th id=\"T_75d28_level0_col3\" class=\"col_heading level0 col3\" >Homogeneity</th>\n",
       "      <th id=\"T_75d28_level0_col4\" class=\"col_heading level0 col4\" >Rand Index</th>\n",
       "      <th id=\"T_75d28_level0_col5\" class=\"col_heading level0 col5\" >Completeness</th>\n",
       "    </tr>\n",
       "  </thead>\n",
       "  <tbody>\n",
       "    <tr>\n",
       "      <th id=\"T_75d28_level0_row0\" class=\"row_heading level0 row0\" >0</th>\n",
       "      <td id=\"T_75d28_row0_col0\" class=\"data row0 col0\" >0.1626</td>\n",
       "      <td id=\"T_75d28_row0_col1\" class=\"data row0 col1\" >219.3775</td>\n",
       "      <td id=\"T_75d28_row0_col2\" class=\"data row0 col2\" >1.7813</td>\n",
       "      <td id=\"T_75d28_row0_col3\" class=\"data row0 col3\" >0</td>\n",
       "      <td id=\"T_75d28_row0_col4\" class=\"data row0 col4\" >0</td>\n",
       "      <td id=\"T_75d28_row0_col5\" class=\"data row0 col5\" >0</td>\n",
       "    </tr>\n",
       "  </tbody>\n",
       "</table>\n"
      ],
      "text/plain": [
       "<pandas.io.formats.style.Styler at 0x7db7aff51850>"
      ]
     },
     "metadata": {},
     "output_type": "display_data"
    },
    {
     "data": {
      "text/html": [],
      "text/plain": [
       "<IPython.core.display.HTML object>"
      ]
     },
     "metadata": {},
     "output_type": "display_data"
    },
    {
     "name": "stdout",
     "output_type": "stream",
     "text": [
      "Metrics available: Index(['silhouette', 'chs', 'db', 'hs', 'ari', 'cs'], dtype='object', name='ID')\n",
      "kmeans with Using PCA and 5 clusters\n"
     ]
    },
    {
     "data": {
      "text/html": [],
      "text/plain": [
       "<IPython.core.display.HTML object>"
      ]
     },
     "metadata": {},
     "output_type": "display_data"
    },
    {
     "data": {
      "text/html": [
       "<style type=\"text/css\">\n",
       "</style>\n",
       "<table id=\"T_e13a5\">\n",
       "  <thead>\n",
       "    <tr>\n",
       "      <th class=\"blank level0\" >&nbsp;</th>\n",
       "      <th id=\"T_e13a5_level0_col0\" class=\"col_heading level0 col0\" >Silhouette</th>\n",
       "      <th id=\"T_e13a5_level0_col1\" class=\"col_heading level0 col1\" >Calinski-Harabasz</th>\n",
       "      <th id=\"T_e13a5_level0_col2\" class=\"col_heading level0 col2\" >Davies-Bouldin</th>\n",
       "      <th id=\"T_e13a5_level0_col3\" class=\"col_heading level0 col3\" >Homogeneity</th>\n",
       "      <th id=\"T_e13a5_level0_col4\" class=\"col_heading level0 col4\" >Rand Index</th>\n",
       "      <th id=\"T_e13a5_level0_col5\" class=\"col_heading level0 col5\" >Completeness</th>\n",
       "    </tr>\n",
       "  </thead>\n",
       "  <tbody>\n",
       "    <tr>\n",
       "      <th id=\"T_e13a5_level0_row0\" class=\"row_heading level0 row0\" >0</th>\n",
       "      <td id=\"T_e13a5_row0_col0\" class=\"data row0 col0\" >0.1106</td>\n",
       "      <td id=\"T_e13a5_row0_col1\" class=\"data row0 col1\" >182.4184</td>\n",
       "      <td id=\"T_e13a5_row0_col2\" class=\"data row0 col2\" >2.1252</td>\n",
       "      <td id=\"T_e13a5_row0_col3\" class=\"data row0 col3\" >0</td>\n",
       "      <td id=\"T_e13a5_row0_col4\" class=\"data row0 col4\" >0</td>\n",
       "      <td id=\"T_e13a5_row0_col5\" class=\"data row0 col5\" >0</td>\n",
       "    </tr>\n",
       "  </tbody>\n",
       "</table>\n"
      ],
      "text/plain": [
       "<pandas.io.formats.style.Styler at 0x7db63b1e0690>"
      ]
     },
     "metadata": {},
     "output_type": "display_data"
    },
    {
     "data": {
      "text/html": [],
      "text/plain": [
       "<IPython.core.display.HTML object>"
      ]
     },
     "metadata": {},
     "output_type": "display_data"
    },
    {
     "name": "stdout",
     "output_type": "stream",
     "text": [
      "Metrics available: Index(['silhouette', 'chs', 'db', 'hs', 'ari', 'cs'], dtype='object', name='ID')\n",
      "kmeans with Using T+N and 3 clusters\n"
     ]
    },
    {
     "data": {
      "text/html": [],
      "text/plain": [
       "<IPython.core.display.HTML object>"
      ]
     },
     "metadata": {},
     "output_type": "display_data"
    },
    {
     "data": {
      "text/html": [
       "<style type=\"text/css\">\n",
       "</style>\n",
       "<table id=\"T_a851b\">\n",
       "  <thead>\n",
       "    <tr>\n",
       "      <th class=\"blank level0\" >&nbsp;</th>\n",
       "      <th id=\"T_a851b_level0_col0\" class=\"col_heading level0 col0\" >Silhouette</th>\n",
       "      <th id=\"T_a851b_level0_col1\" class=\"col_heading level0 col1\" >Calinski-Harabasz</th>\n",
       "      <th id=\"T_a851b_level0_col2\" class=\"col_heading level0 col2\" >Davies-Bouldin</th>\n",
       "      <th id=\"T_a851b_level0_col3\" class=\"col_heading level0 col3\" >Homogeneity</th>\n",
       "      <th id=\"T_a851b_level0_col4\" class=\"col_heading level0 col4\" >Rand Index</th>\n",
       "      <th id=\"T_a851b_level0_col5\" class=\"col_heading level0 col5\" >Completeness</th>\n",
       "    </tr>\n",
       "  </thead>\n",
       "  <tbody>\n",
       "    <tr>\n",
       "      <th id=\"T_a851b_level0_row0\" class=\"row_heading level0 row0\" >0</th>\n",
       "      <td id=\"T_a851b_row0_col0\" class=\"data row0 col0\" >0.0467</td>\n",
       "      <td id=\"T_a851b_row0_col1\" class=\"data row0 col1\" >33.7475</td>\n",
       "      <td id=\"T_a851b_row0_col2\" class=\"data row0 col2\" >3.5866</td>\n",
       "      <td id=\"T_a851b_row0_col3\" class=\"data row0 col3\" >0</td>\n",
       "      <td id=\"T_a851b_row0_col4\" class=\"data row0 col4\" >0</td>\n",
       "      <td id=\"T_a851b_row0_col5\" class=\"data row0 col5\" >0</td>\n",
       "    </tr>\n",
       "  </tbody>\n",
       "</table>\n"
      ],
      "text/plain": [
       "<pandas.io.formats.style.Styler at 0x7db63b17e150>"
      ]
     },
     "metadata": {},
     "output_type": "display_data"
    },
    {
     "data": {
      "text/html": [],
      "text/plain": [
       "<IPython.core.display.HTML object>"
      ]
     },
     "metadata": {},
     "output_type": "display_data"
    },
    {
     "name": "stdout",
     "output_type": "stream",
     "text": [
      "Metrics available: Index(['silhouette', 'chs', 'db', 'hs', 'ari', 'cs'], dtype='object', name='ID')\n",
      "kmeans with Using T+N and 4 clusters\n"
     ]
    },
    {
     "data": {
      "text/html": [],
      "text/plain": [
       "<IPython.core.display.HTML object>"
      ]
     },
     "metadata": {},
     "output_type": "display_data"
    },
    {
     "data": {
      "text/html": [
       "<style type=\"text/css\">\n",
       "</style>\n",
       "<table id=\"T_f8754\">\n",
       "  <thead>\n",
       "    <tr>\n",
       "      <th class=\"blank level0\" >&nbsp;</th>\n",
       "      <th id=\"T_f8754_level0_col0\" class=\"col_heading level0 col0\" >Silhouette</th>\n",
       "      <th id=\"T_f8754_level0_col1\" class=\"col_heading level0 col1\" >Calinski-Harabasz</th>\n",
       "      <th id=\"T_f8754_level0_col2\" class=\"col_heading level0 col2\" >Davies-Bouldin</th>\n",
       "      <th id=\"T_f8754_level0_col3\" class=\"col_heading level0 col3\" >Homogeneity</th>\n",
       "      <th id=\"T_f8754_level0_col4\" class=\"col_heading level0 col4\" >Rand Index</th>\n",
       "      <th id=\"T_f8754_level0_col5\" class=\"col_heading level0 col5\" >Completeness</th>\n",
       "    </tr>\n",
       "  </thead>\n",
       "  <tbody>\n",
       "    <tr>\n",
       "      <th id=\"T_f8754_level0_row0\" class=\"row_heading level0 row0\" >0</th>\n",
       "      <td id=\"T_f8754_row0_col0\" class=\"data row0 col0\" >0.0475</td>\n",
       "      <td id=\"T_f8754_row0_col1\" class=\"data row0 col1\" >31.2032</td>\n",
       "      <td id=\"T_f8754_row0_col2\" class=\"data row0 col2\" >3.4356</td>\n",
       "      <td id=\"T_f8754_row0_col3\" class=\"data row0 col3\" >0</td>\n",
       "      <td id=\"T_f8754_row0_col4\" class=\"data row0 col4\" >0</td>\n",
       "      <td id=\"T_f8754_row0_col5\" class=\"data row0 col5\" >0</td>\n",
       "    </tr>\n",
       "  </tbody>\n",
       "</table>\n"
      ],
      "text/plain": [
       "<pandas.io.formats.style.Styler at 0x7db7aff56150>"
      ]
     },
     "metadata": {},
     "output_type": "display_data"
    },
    {
     "data": {
      "text/html": [],
      "text/plain": [
       "<IPython.core.display.HTML object>"
      ]
     },
     "metadata": {},
     "output_type": "display_data"
    },
    {
     "name": "stdout",
     "output_type": "stream",
     "text": [
      "Metrics available: Index(['silhouette', 'chs', 'db', 'hs', 'ari', 'cs'], dtype='object', name='ID')\n",
      "kmeans with Using T+N and 5 clusters\n"
     ]
    },
    {
     "data": {
      "text/html": [],
      "text/plain": [
       "<IPython.core.display.HTML object>"
      ]
     },
     "metadata": {},
     "output_type": "display_data"
    },
    {
     "data": {
      "text/html": [
       "<style type=\"text/css\">\n",
       "</style>\n",
       "<table id=\"T_781b2\">\n",
       "  <thead>\n",
       "    <tr>\n",
       "      <th class=\"blank level0\" >&nbsp;</th>\n",
       "      <th id=\"T_781b2_level0_col0\" class=\"col_heading level0 col0\" >Silhouette</th>\n",
       "      <th id=\"T_781b2_level0_col1\" class=\"col_heading level0 col1\" >Calinski-Harabasz</th>\n",
       "      <th id=\"T_781b2_level0_col2\" class=\"col_heading level0 col2\" >Davies-Bouldin</th>\n",
       "      <th id=\"T_781b2_level0_col3\" class=\"col_heading level0 col3\" >Homogeneity</th>\n",
       "      <th id=\"T_781b2_level0_col4\" class=\"col_heading level0 col4\" >Rand Index</th>\n",
       "      <th id=\"T_781b2_level0_col5\" class=\"col_heading level0 col5\" >Completeness</th>\n",
       "    </tr>\n",
       "  </thead>\n",
       "  <tbody>\n",
       "    <tr>\n",
       "      <th id=\"T_781b2_level0_row0\" class=\"row_heading level0 row0\" >0</th>\n",
       "      <td id=\"T_781b2_row0_col0\" class=\"data row0 col0\" >0.0395</td>\n",
       "      <td id=\"T_781b2_row0_col1\" class=\"data row0 col1\" >26.3295</td>\n",
       "      <td id=\"T_781b2_row0_col2\" class=\"data row0 col2\" >3.5117</td>\n",
       "      <td id=\"T_781b2_row0_col3\" class=\"data row0 col3\" >0</td>\n",
       "      <td id=\"T_781b2_row0_col4\" class=\"data row0 col4\" >0</td>\n",
       "      <td id=\"T_781b2_row0_col5\" class=\"data row0 col5\" >0</td>\n",
       "    </tr>\n",
       "  </tbody>\n",
       "</table>\n"
      ],
      "text/plain": [
       "<pandas.io.formats.style.Styler at 0x7db7aff95750>"
      ]
     },
     "metadata": {},
     "output_type": "display_data"
    },
    {
     "data": {
      "text/html": [],
      "text/plain": [
       "<IPython.core.display.HTML object>"
      ]
     },
     "metadata": {},
     "output_type": "display_data"
    },
    {
     "name": "stdout",
     "output_type": "stream",
     "text": [
      "Metrics available: Index(['silhouette', 'chs', 'db', 'hs', 'ari', 'cs'], dtype='object', name='ID')\n",
      "kmeans with Using T+N+PCA and 3 clusters\n"
     ]
    },
    {
     "data": {
      "text/html": [],
      "text/plain": [
       "<IPython.core.display.HTML object>"
      ]
     },
     "metadata": {},
     "output_type": "display_data"
    },
    {
     "data": {
      "text/html": [
       "<style type=\"text/css\">\n",
       "</style>\n",
       "<table id=\"T_3af2b\">\n",
       "  <thead>\n",
       "    <tr>\n",
       "      <th class=\"blank level0\" >&nbsp;</th>\n",
       "      <th id=\"T_3af2b_level0_col0\" class=\"col_heading level0 col0\" >Silhouette</th>\n",
       "      <th id=\"T_3af2b_level0_col1\" class=\"col_heading level0 col1\" >Calinski-Harabasz</th>\n",
       "      <th id=\"T_3af2b_level0_col2\" class=\"col_heading level0 col2\" >Davies-Bouldin</th>\n",
       "      <th id=\"T_3af2b_level0_col3\" class=\"col_heading level0 col3\" >Homogeneity</th>\n",
       "      <th id=\"T_3af2b_level0_col4\" class=\"col_heading level0 col4\" >Rand Index</th>\n",
       "      <th id=\"T_3af2b_level0_col5\" class=\"col_heading level0 col5\" >Completeness</th>\n",
       "    </tr>\n",
       "  </thead>\n",
       "  <tbody>\n",
       "    <tr>\n",
       "      <th id=\"T_3af2b_level0_row0\" class=\"row_heading level0 row0\" >0</th>\n",
       "      <td id=\"T_3af2b_row0_col0\" class=\"data row0 col0\" >0.0640</td>\n",
       "      <td id=\"T_3af2b_row0_col1\" class=\"data row0 col1\" >33.1121</td>\n",
       "      <td id=\"T_3af2b_row0_col2\" class=\"data row0 col2\" >3.3433</td>\n",
       "      <td id=\"T_3af2b_row0_col3\" class=\"data row0 col3\" >0</td>\n",
       "      <td id=\"T_3af2b_row0_col4\" class=\"data row0 col4\" >0</td>\n",
       "      <td id=\"T_3af2b_row0_col5\" class=\"data row0 col5\" >0</td>\n",
       "    </tr>\n",
       "  </tbody>\n",
       "</table>\n"
      ],
      "text/plain": [
       "<pandas.io.formats.style.Styler at 0x7db63b319090>"
      ]
     },
     "metadata": {},
     "output_type": "display_data"
    },
    {
     "data": {
      "text/html": [],
      "text/plain": [
       "<IPython.core.display.HTML object>"
      ]
     },
     "metadata": {},
     "output_type": "display_data"
    },
    {
     "name": "stdout",
     "output_type": "stream",
     "text": [
      "Metrics available: Index(['silhouette', 'chs', 'db', 'hs', 'ari', 'cs'], dtype='object', name='ID')\n",
      "kmeans with Using T+N+PCA and 4 clusters\n"
     ]
    },
    {
     "data": {
      "text/html": [],
      "text/plain": [
       "<IPython.core.display.HTML object>"
      ]
     },
     "metadata": {},
     "output_type": "display_data"
    },
    {
     "data": {
      "text/html": [
       "<style type=\"text/css\">\n",
       "</style>\n",
       "<table id=\"T_f0f40\">\n",
       "  <thead>\n",
       "    <tr>\n",
       "      <th class=\"blank level0\" >&nbsp;</th>\n",
       "      <th id=\"T_f0f40_level0_col0\" class=\"col_heading level0 col0\" >Silhouette</th>\n",
       "      <th id=\"T_f0f40_level0_col1\" class=\"col_heading level0 col1\" >Calinski-Harabasz</th>\n",
       "      <th id=\"T_f0f40_level0_col2\" class=\"col_heading level0 col2\" >Davies-Bouldin</th>\n",
       "      <th id=\"T_f0f40_level0_col3\" class=\"col_heading level0 col3\" >Homogeneity</th>\n",
       "      <th id=\"T_f0f40_level0_col4\" class=\"col_heading level0 col4\" >Rand Index</th>\n",
       "      <th id=\"T_f0f40_level0_col5\" class=\"col_heading level0 col5\" >Completeness</th>\n",
       "    </tr>\n",
       "  </thead>\n",
       "  <tbody>\n",
       "    <tr>\n",
       "      <th id=\"T_f0f40_level0_row0\" class=\"row_heading level0 row0\" >0</th>\n",
       "      <td id=\"T_f0f40_row0_col0\" class=\"data row0 col0\" >0.0477</td>\n",
       "      <td id=\"T_f0f40_row0_col1\" class=\"data row0 col1\" >31.4222</td>\n",
       "      <td id=\"T_f0f40_row0_col2\" class=\"data row0 col2\" >3.5349</td>\n",
       "      <td id=\"T_f0f40_row0_col3\" class=\"data row0 col3\" >0</td>\n",
       "      <td id=\"T_f0f40_row0_col4\" class=\"data row0 col4\" >0</td>\n",
       "      <td id=\"T_f0f40_row0_col5\" class=\"data row0 col5\" >0</td>\n",
       "    </tr>\n",
       "  </tbody>\n",
       "</table>\n"
      ],
      "text/plain": [
       "<pandas.io.formats.style.Styler at 0x7db63b16b890>"
      ]
     },
     "metadata": {},
     "output_type": "display_data"
    },
    {
     "data": {
      "text/html": [],
      "text/plain": [
       "<IPython.core.display.HTML object>"
      ]
     },
     "metadata": {},
     "output_type": "display_data"
    },
    {
     "name": "stdout",
     "output_type": "stream",
     "text": [
      "Metrics available: Index(['silhouette', 'chs', 'db', 'hs', 'ari', 'cs'], dtype='object', name='ID')\n",
      "kmeans with Using T+N+PCA and 5 clusters\n"
     ]
    },
    {
     "data": {
      "text/html": [],
      "text/plain": [
       "<IPython.core.display.HTML object>"
      ]
     },
     "metadata": {},
     "output_type": "display_data"
    },
    {
     "data": {
      "text/html": [
       "<style type=\"text/css\">\n",
       "</style>\n",
       "<table id=\"T_73937\">\n",
       "  <thead>\n",
       "    <tr>\n",
       "      <th class=\"blank level0\" >&nbsp;</th>\n",
       "      <th id=\"T_73937_level0_col0\" class=\"col_heading level0 col0\" >Silhouette</th>\n",
       "      <th id=\"T_73937_level0_col1\" class=\"col_heading level0 col1\" >Calinski-Harabasz</th>\n",
       "      <th id=\"T_73937_level0_col2\" class=\"col_heading level0 col2\" >Davies-Bouldin</th>\n",
       "      <th id=\"T_73937_level0_col3\" class=\"col_heading level0 col3\" >Homogeneity</th>\n",
       "      <th id=\"T_73937_level0_col4\" class=\"col_heading level0 col4\" >Rand Index</th>\n",
       "      <th id=\"T_73937_level0_col5\" class=\"col_heading level0 col5\" >Completeness</th>\n",
       "    </tr>\n",
       "  </thead>\n",
       "  <tbody>\n",
       "    <tr>\n",
       "      <th id=\"T_73937_level0_row0\" class=\"row_heading level0 row0\" >0</th>\n",
       "      <td id=\"T_73937_row0_col0\" class=\"data row0 col0\" >0.0542</td>\n",
       "      <td id=\"T_73937_row0_col1\" class=\"data row0 col1\" >28.3764</td>\n",
       "      <td id=\"T_73937_row0_col2\" class=\"data row0 col2\" >3.2991</td>\n",
       "      <td id=\"T_73937_row0_col3\" class=\"data row0 col3\" >0</td>\n",
       "      <td id=\"T_73937_row0_col4\" class=\"data row0 col4\" >0</td>\n",
       "      <td id=\"T_73937_row0_col5\" class=\"data row0 col5\" >0</td>\n",
       "    </tr>\n",
       "  </tbody>\n",
       "</table>\n"
      ],
      "text/plain": [
       "<pandas.io.formats.style.Styler at 0x7db63ac95bd0>"
      ]
     },
     "metadata": {},
     "output_type": "display_data"
    },
    {
     "data": {
      "text/html": [],
      "text/plain": [
       "<IPython.core.display.HTML object>"
      ]
     },
     "metadata": {},
     "output_type": "display_data"
    },
    {
     "name": "stdout",
     "output_type": "stream",
     "text": [
      "Metrics available: Index(['silhouette', 'chs', 'db', 'hs', 'ari', 'cs'], dtype='object', name='ID')\n",
      "kmeans Metrics:\n",
      "                  No Data Preprocessing                          \\\n",
      "                                    c=3         c=4         c=5   \n",
      "Silhouette                     0.209082    0.162554    0.171860   \n",
      "Calinski-Harabasz            272.567827  219.377509  173.904653   \n",
      "Davies-Bouldin                 1.561627    1.781254    1.836583   \n",
      "\n",
      "                  Using Normalization                       Using Transform  \\\n",
      "                                  c=3        c=4        c=5             c=3   \n",
      "Silhouette                   0.033764   0.005435  -0.035688       -0.010140   \n",
      "Calinski-Harabasz           34.721304  15.899657  10.711338        8.435235   \n",
      "Davies-Bouldin               3.672416   4.848572   5.250046        7.490364   \n",
      "\n",
      "                                        Using PCA                          \\\n",
      "                        c=4       c=5         c=3         c=4         c=5   \n",
      "Silhouette        -0.010619 -0.022878    0.209082    0.162554    0.110563   \n",
      "Calinski-Harabasz  8.091245  8.438423  272.567827  219.377509  182.418376   \n",
      "Davies-Bouldin     6.973082  7.599781    1.561627    1.781254    2.125219   \n",
      "\n",
      "                   Using T+N                       Using T+N+PCA             \\\n",
      "                         c=3        c=4        c=5           c=3        c=4   \n",
      "Silhouette          0.032636   0.002127  -0.023383      0.025603   0.005163   \n",
      "Calinski-Harabasz  33.904990  18.574704  22.494553     13.935831  14.425908   \n",
      "Davies-Bouldin      3.680329   4.335931   3.847651      5.392075   4.837525   \n",
      "\n",
      "                              \n",
      "                         c=5  \n",
      "Silhouette         -0.005683  \n",
      "Calinski-Harabasz  12.086487  \n",
      "Davies-Bouldin      5.655301  \n",
      "hclust with No Data Preprocessing and 3 clusters\n"
     ]
    },
    {
     "data": {
      "text/html": [],
      "text/plain": [
       "<IPython.core.display.HTML object>"
      ]
     },
     "metadata": {},
     "output_type": "display_data"
    },
    {
     "data": {
      "text/html": [
       "<style type=\"text/css\">\n",
       "</style>\n",
       "<table id=\"T_09433\">\n",
       "  <thead>\n",
       "    <tr>\n",
       "      <th class=\"blank level0\" >&nbsp;</th>\n",
       "      <th id=\"T_09433_level0_col0\" class=\"col_heading level0 col0\" >Silhouette</th>\n",
       "      <th id=\"T_09433_level0_col1\" class=\"col_heading level0 col1\" >Calinski-Harabasz</th>\n",
       "      <th id=\"T_09433_level0_col2\" class=\"col_heading level0 col2\" >Davies-Bouldin</th>\n",
       "      <th id=\"T_09433_level0_col3\" class=\"col_heading level0 col3\" >Homogeneity</th>\n",
       "      <th id=\"T_09433_level0_col4\" class=\"col_heading level0 col4\" >Rand Index</th>\n",
       "      <th id=\"T_09433_level0_col5\" class=\"col_heading level0 col5\" >Completeness</th>\n",
       "    </tr>\n",
       "  </thead>\n",
       "  <tbody>\n",
       "    <tr>\n",
       "      <th id=\"T_09433_level0_row0\" class=\"row_heading level0 row0\" >0</th>\n",
       "      <td id=\"T_09433_row0_col0\" class=\"data row0 col0\" >0.2253</td>\n",
       "      <td id=\"T_09433_row0_col1\" class=\"data row0 col1\" >249.8886</td>\n",
       "      <td id=\"T_09433_row0_col2\" class=\"data row0 col2\" >1.4329</td>\n",
       "      <td id=\"T_09433_row0_col3\" class=\"data row0 col3\" >0</td>\n",
       "      <td id=\"T_09433_row0_col4\" class=\"data row0 col4\" >0</td>\n",
       "      <td id=\"T_09433_row0_col5\" class=\"data row0 col5\" >0</td>\n",
       "    </tr>\n",
       "  </tbody>\n",
       "</table>\n"
      ],
      "text/plain": [
       "<pandas.io.formats.style.Styler at 0x7db63b17e250>"
      ]
     },
     "metadata": {},
     "output_type": "display_data"
    },
    {
     "data": {
      "text/html": [],
      "text/plain": [
       "<IPython.core.display.HTML object>"
      ]
     },
     "metadata": {},
     "output_type": "display_data"
    },
    {
     "name": "stdout",
     "output_type": "stream",
     "text": [
      "Metrics available: Index(['silhouette', 'chs', 'db', 'hs', 'ari', 'cs'], dtype='object', name='ID')\n",
      "hclust with No Data Preprocessing and 4 clusters\n"
     ]
    },
    {
     "data": {
      "text/html": [],
      "text/plain": [
       "<IPython.core.display.HTML object>"
      ]
     },
     "metadata": {},
     "output_type": "display_data"
    },
    {
     "data": {
      "text/html": [
       "<style type=\"text/css\">\n",
       "</style>\n",
       "<table id=\"T_40bc1\">\n",
       "  <thead>\n",
       "    <tr>\n",
       "      <th class=\"blank level0\" >&nbsp;</th>\n",
       "      <th id=\"T_40bc1_level0_col0\" class=\"col_heading level0 col0\" >Silhouette</th>\n",
       "      <th id=\"T_40bc1_level0_col1\" class=\"col_heading level0 col1\" >Calinski-Harabasz</th>\n",
       "      <th id=\"T_40bc1_level0_col2\" class=\"col_heading level0 col2\" >Davies-Bouldin</th>\n",
       "      <th id=\"T_40bc1_level0_col3\" class=\"col_heading level0 col3\" >Homogeneity</th>\n",
       "      <th id=\"T_40bc1_level0_col4\" class=\"col_heading level0 col4\" >Rand Index</th>\n",
       "      <th id=\"T_40bc1_level0_col5\" class=\"col_heading level0 col5\" >Completeness</th>\n",
       "    </tr>\n",
       "  </thead>\n",
       "  <tbody>\n",
       "    <tr>\n",
       "      <th id=\"T_40bc1_level0_row0\" class=\"row_heading level0 row0\" >0</th>\n",
       "      <td id=\"T_40bc1_row0_col0\" class=\"data row0 col0\" >0.1180</td>\n",
       "      <td id=\"T_40bc1_row0_col1\" class=\"data row0 col1\" >193.3660</td>\n",
       "      <td id=\"T_40bc1_row0_col2\" class=\"data row0 col2\" >1.9266</td>\n",
       "      <td id=\"T_40bc1_row0_col3\" class=\"data row0 col3\" >0</td>\n",
       "      <td id=\"T_40bc1_row0_col4\" class=\"data row0 col4\" >0</td>\n",
       "      <td id=\"T_40bc1_row0_col5\" class=\"data row0 col5\" >0</td>\n",
       "    </tr>\n",
       "  </tbody>\n",
       "</table>\n"
      ],
      "text/plain": [
       "<pandas.io.formats.style.Styler at 0x7db7affea690>"
      ]
     },
     "metadata": {},
     "output_type": "display_data"
    },
    {
     "data": {
      "text/html": [],
      "text/plain": [
       "<IPython.core.display.HTML object>"
      ]
     },
     "metadata": {},
     "output_type": "display_data"
    },
    {
     "name": "stdout",
     "output_type": "stream",
     "text": [
      "Metrics available: Index(['silhouette', 'chs', 'db', 'hs', 'ari', 'cs'], dtype='object', name='ID')\n",
      "hclust with No Data Preprocessing and 5 clusters\n"
     ]
    },
    {
     "data": {
      "text/html": [],
      "text/plain": [
       "<IPython.core.display.HTML object>"
      ]
     },
     "metadata": {},
     "output_type": "display_data"
    },
    {
     "data": {
      "text/html": [
       "<style type=\"text/css\">\n",
       "</style>\n",
       "<table id=\"T_bae6f\">\n",
       "  <thead>\n",
       "    <tr>\n",
       "      <th class=\"blank level0\" >&nbsp;</th>\n",
       "      <th id=\"T_bae6f_level0_col0\" class=\"col_heading level0 col0\" >Silhouette</th>\n",
       "      <th id=\"T_bae6f_level0_col1\" class=\"col_heading level0 col1\" >Calinski-Harabasz</th>\n",
       "      <th id=\"T_bae6f_level0_col2\" class=\"col_heading level0 col2\" >Davies-Bouldin</th>\n",
       "      <th id=\"T_bae6f_level0_col3\" class=\"col_heading level0 col3\" >Homogeneity</th>\n",
       "      <th id=\"T_bae6f_level0_col4\" class=\"col_heading level0 col4\" >Rand Index</th>\n",
       "      <th id=\"T_bae6f_level0_col5\" class=\"col_heading level0 col5\" >Completeness</th>\n",
       "    </tr>\n",
       "  </thead>\n",
       "  <tbody>\n",
       "    <tr>\n",
       "      <th id=\"T_bae6f_level0_row0\" class=\"row_heading level0 row0\" >0</th>\n",
       "      <td id=\"T_bae6f_row0_col0\" class=\"data row0 col0\" >0.0995</td>\n",
       "      <td id=\"T_bae6f_row0_col1\" class=\"data row0 col1\" >163.4075</td>\n",
       "      <td id=\"T_bae6f_row0_col2\" class=\"data row0 col2\" >2.1523</td>\n",
       "      <td id=\"T_bae6f_row0_col3\" class=\"data row0 col3\" >0</td>\n",
       "      <td id=\"T_bae6f_row0_col4\" class=\"data row0 col4\" >0</td>\n",
       "      <td id=\"T_bae6f_row0_col5\" class=\"data row0 col5\" >0</td>\n",
       "    </tr>\n",
       "  </tbody>\n",
       "</table>\n"
      ],
      "text/plain": [
       "<pandas.io.formats.style.Styler at 0x7db63b156150>"
      ]
     },
     "metadata": {},
     "output_type": "display_data"
    },
    {
     "data": {
      "text/html": [],
      "text/plain": [
       "<IPython.core.display.HTML object>"
      ]
     },
     "metadata": {},
     "output_type": "display_data"
    },
    {
     "name": "stdout",
     "output_type": "stream",
     "text": [
      "Metrics available: Index(['silhouette', 'chs', 'db', 'hs', 'ari', 'cs'], dtype='object', name='ID')\n",
      "hclust with Using Normalization and 3 clusters\n"
     ]
    },
    {
     "data": {
      "text/html": [],
      "text/plain": [
       "<IPython.core.display.HTML object>"
      ]
     },
     "metadata": {},
     "output_type": "display_data"
    },
    {
     "data": {
      "text/html": [
       "<style type=\"text/css\">\n",
       "</style>\n",
       "<table id=\"T_27d90\">\n",
       "  <thead>\n",
       "    <tr>\n",
       "      <th class=\"blank level0\" >&nbsp;</th>\n",
       "      <th id=\"T_27d90_level0_col0\" class=\"col_heading level0 col0\" >Silhouette</th>\n",
       "      <th id=\"T_27d90_level0_col1\" class=\"col_heading level0 col1\" >Calinski-Harabasz</th>\n",
       "      <th id=\"T_27d90_level0_col2\" class=\"col_heading level0 col2\" >Davies-Bouldin</th>\n",
       "      <th id=\"T_27d90_level0_col3\" class=\"col_heading level0 col3\" >Homogeneity</th>\n",
       "      <th id=\"T_27d90_level0_col4\" class=\"col_heading level0 col4\" >Rand Index</th>\n",
       "      <th id=\"T_27d90_level0_col5\" class=\"col_heading level0 col5\" >Completeness</th>\n",
       "    </tr>\n",
       "  </thead>\n",
       "  <tbody>\n",
       "    <tr>\n",
       "      <th id=\"T_27d90_level0_row0\" class=\"row_heading level0 row0\" >0</th>\n",
       "      <td id=\"T_27d90_row0_col0\" class=\"data row0 col0\" >0.0366</td>\n",
       "      <td id=\"T_27d90_row0_col1\" class=\"data row0 col1\" >26.4166</td>\n",
       "      <td id=\"T_27d90_row0_col2\" class=\"data row0 col2\" >4.3943</td>\n",
       "      <td id=\"T_27d90_row0_col3\" class=\"data row0 col3\" >0</td>\n",
       "      <td id=\"T_27d90_row0_col4\" class=\"data row0 col4\" >0</td>\n",
       "      <td id=\"T_27d90_row0_col5\" class=\"data row0 col5\" >0</td>\n",
       "    </tr>\n",
       "  </tbody>\n",
       "</table>\n"
      ],
      "text/plain": [
       "<pandas.io.formats.style.Styler at 0x7db63b271cd0>"
      ]
     },
     "metadata": {},
     "output_type": "display_data"
    },
    {
     "data": {
      "text/html": [],
      "text/plain": [
       "<IPython.core.display.HTML object>"
      ]
     },
     "metadata": {},
     "output_type": "display_data"
    },
    {
     "name": "stdout",
     "output_type": "stream",
     "text": [
      "Metrics available: Index(['silhouette', 'chs', 'db', 'hs', 'ari', 'cs'], dtype='object', name='ID')\n",
      "hclust with Using Normalization and 4 clusters\n"
     ]
    },
    {
     "data": {
      "text/html": [],
      "text/plain": [
       "<IPython.core.display.HTML object>"
      ]
     },
     "metadata": {},
     "output_type": "display_data"
    },
    {
     "data": {
      "text/html": [
       "<style type=\"text/css\">\n",
       "</style>\n",
       "<table id=\"T_4c0fa\">\n",
       "  <thead>\n",
       "    <tr>\n",
       "      <th class=\"blank level0\" >&nbsp;</th>\n",
       "      <th id=\"T_4c0fa_level0_col0\" class=\"col_heading level0 col0\" >Silhouette</th>\n",
       "      <th id=\"T_4c0fa_level0_col1\" class=\"col_heading level0 col1\" >Calinski-Harabasz</th>\n",
       "      <th id=\"T_4c0fa_level0_col2\" class=\"col_heading level0 col2\" >Davies-Bouldin</th>\n",
       "      <th id=\"T_4c0fa_level0_col3\" class=\"col_heading level0 col3\" >Homogeneity</th>\n",
       "      <th id=\"T_4c0fa_level0_col4\" class=\"col_heading level0 col4\" >Rand Index</th>\n",
       "      <th id=\"T_4c0fa_level0_col5\" class=\"col_heading level0 col5\" >Completeness</th>\n",
       "    </tr>\n",
       "  </thead>\n",
       "  <tbody>\n",
       "    <tr>\n",
       "      <th id=\"T_4c0fa_level0_row0\" class=\"row_heading level0 row0\" >0</th>\n",
       "      <td id=\"T_4c0fa_row0_col0\" class=\"data row0 col0\" >0.0469</td>\n",
       "      <td id=\"T_4c0fa_row0_col1\" class=\"data row0 col1\" >25.4194</td>\n",
       "      <td id=\"T_4c0fa_row0_col2\" class=\"data row0 col2\" >3.6548</td>\n",
       "      <td id=\"T_4c0fa_row0_col3\" class=\"data row0 col3\" >0</td>\n",
       "      <td id=\"T_4c0fa_row0_col4\" class=\"data row0 col4\" >0</td>\n",
       "      <td id=\"T_4c0fa_row0_col5\" class=\"data row0 col5\" >0</td>\n",
       "    </tr>\n",
       "  </tbody>\n",
       "</table>\n"
      ],
      "text/plain": [
       "<pandas.io.formats.style.Styler at 0x7db63b2c9150>"
      ]
     },
     "metadata": {},
     "output_type": "display_data"
    },
    {
     "data": {
      "text/html": [],
      "text/plain": [
       "<IPython.core.display.HTML object>"
      ]
     },
     "metadata": {},
     "output_type": "display_data"
    },
    {
     "name": "stdout",
     "output_type": "stream",
     "text": [
      "Metrics available: Index(['silhouette', 'chs', 'db', 'hs', 'ari', 'cs'], dtype='object', name='ID')\n",
      "hclust with Using Normalization and 5 clusters\n"
     ]
    },
    {
     "data": {
      "text/html": [],
      "text/plain": [
       "<IPython.core.display.HTML object>"
      ]
     },
     "metadata": {},
     "output_type": "display_data"
    },
    {
     "data": {
      "text/html": [
       "<style type=\"text/css\">\n",
       "</style>\n",
       "<table id=\"T_06ff5\">\n",
       "  <thead>\n",
       "    <tr>\n",
       "      <th class=\"blank level0\" >&nbsp;</th>\n",
       "      <th id=\"T_06ff5_level0_col0\" class=\"col_heading level0 col0\" >Silhouette</th>\n",
       "      <th id=\"T_06ff5_level0_col1\" class=\"col_heading level0 col1\" >Calinski-Harabasz</th>\n",
       "      <th id=\"T_06ff5_level0_col2\" class=\"col_heading level0 col2\" >Davies-Bouldin</th>\n",
       "      <th id=\"T_06ff5_level0_col3\" class=\"col_heading level0 col3\" >Homogeneity</th>\n",
       "      <th id=\"T_06ff5_level0_col4\" class=\"col_heading level0 col4\" >Rand Index</th>\n",
       "      <th id=\"T_06ff5_level0_col5\" class=\"col_heading level0 col5\" >Completeness</th>\n",
       "    </tr>\n",
       "  </thead>\n",
       "  <tbody>\n",
       "    <tr>\n",
       "      <th id=\"T_06ff5_level0_row0\" class=\"row_heading level0 row0\" >0</th>\n",
       "      <td id=\"T_06ff5_row0_col0\" class=\"data row0 col0\" >0.0496</td>\n",
       "      <td id=\"T_06ff5_row0_col1\" class=\"data row0 col1\" >23.9035</td>\n",
       "      <td id=\"T_06ff5_row0_col2\" class=\"data row0 col2\" >3.3135</td>\n",
       "      <td id=\"T_06ff5_row0_col3\" class=\"data row0 col3\" >0</td>\n",
       "      <td id=\"T_06ff5_row0_col4\" class=\"data row0 col4\" >0</td>\n",
       "      <td id=\"T_06ff5_row0_col5\" class=\"data row0 col5\" >0</td>\n",
       "    </tr>\n",
       "  </tbody>\n",
       "</table>\n"
      ],
      "text/plain": [
       "<pandas.io.formats.style.Styler at 0x7db7aff571d0>"
      ]
     },
     "metadata": {},
     "output_type": "display_data"
    },
    {
     "data": {
      "text/html": [],
      "text/plain": [
       "<IPython.core.display.HTML object>"
      ]
     },
     "metadata": {},
     "output_type": "display_data"
    },
    {
     "name": "stdout",
     "output_type": "stream",
     "text": [
      "Metrics available: Index(['silhouette', 'chs', 'db', 'hs', 'ari', 'cs'], dtype='object', name='ID')\n",
      "hclust with Using Transform and 3 clusters\n"
     ]
    },
    {
     "data": {
      "text/html": [],
      "text/plain": [
       "<IPython.core.display.HTML object>"
      ]
     },
     "metadata": {},
     "output_type": "display_data"
    },
    {
     "data": {
      "text/html": [
       "<style type=\"text/css\">\n",
       "</style>\n",
       "<table id=\"T_42a1a\">\n",
       "  <thead>\n",
       "    <tr>\n",
       "      <th class=\"blank level0\" >&nbsp;</th>\n",
       "      <th id=\"T_42a1a_level0_col0\" class=\"col_heading level0 col0\" >Silhouette</th>\n",
       "      <th id=\"T_42a1a_level0_col1\" class=\"col_heading level0 col1\" >Calinski-Harabasz</th>\n",
       "      <th id=\"T_42a1a_level0_col2\" class=\"col_heading level0 col2\" >Davies-Bouldin</th>\n",
       "      <th id=\"T_42a1a_level0_col3\" class=\"col_heading level0 col3\" >Homogeneity</th>\n",
       "      <th id=\"T_42a1a_level0_col4\" class=\"col_heading level0 col4\" >Rand Index</th>\n",
       "      <th id=\"T_42a1a_level0_col5\" class=\"col_heading level0 col5\" >Completeness</th>\n",
       "    </tr>\n",
       "  </thead>\n",
       "  <tbody>\n",
       "    <tr>\n",
       "      <th id=\"T_42a1a_level0_row0\" class=\"row_heading level0 row0\" >0</th>\n",
       "      <td id=\"T_42a1a_row0_col0\" class=\"data row0 col0\" >0.4666</td>\n",
       "      <td id=\"T_42a1a_row0_col1\" class=\"data row0 col1\" >164605.5586</td>\n",
       "      <td id=\"T_42a1a_row0_col2\" class=\"data row0 col2\" >0.6405</td>\n",
       "      <td id=\"T_42a1a_row0_col3\" class=\"data row0 col3\" >0</td>\n",
       "      <td id=\"T_42a1a_row0_col4\" class=\"data row0 col4\" >0</td>\n",
       "      <td id=\"T_42a1a_row0_col5\" class=\"data row0 col5\" >0</td>\n",
       "    </tr>\n",
       "  </tbody>\n",
       "</table>\n"
      ],
      "text/plain": [
       "<pandas.io.formats.style.Styler at 0x7db63b25e4d0>"
      ]
     },
     "metadata": {},
     "output_type": "display_data"
    },
    {
     "data": {
      "text/html": [],
      "text/plain": [
       "<IPython.core.display.HTML object>"
      ]
     },
     "metadata": {},
     "output_type": "display_data"
    },
    {
     "name": "stdout",
     "output_type": "stream",
     "text": [
      "Metrics available: Index(['silhouette', 'chs', 'db', 'hs', 'ari', 'cs'], dtype='object', name='ID')\n",
      "hclust with Using Transform and 4 clusters\n"
     ]
    },
    {
     "data": {
      "text/html": [],
      "text/plain": [
       "<IPython.core.display.HTML object>"
      ]
     },
     "metadata": {},
     "output_type": "display_data"
    },
    {
     "data": {
      "text/html": [
       "<style type=\"text/css\">\n",
       "</style>\n",
       "<table id=\"T_78528\">\n",
       "  <thead>\n",
       "    <tr>\n",
       "      <th class=\"blank level0\" >&nbsp;</th>\n",
       "      <th id=\"T_78528_level0_col0\" class=\"col_heading level0 col0\" >Silhouette</th>\n",
       "      <th id=\"T_78528_level0_col1\" class=\"col_heading level0 col1\" >Calinski-Harabasz</th>\n",
       "      <th id=\"T_78528_level0_col2\" class=\"col_heading level0 col2\" >Davies-Bouldin</th>\n",
       "      <th id=\"T_78528_level0_col3\" class=\"col_heading level0 col3\" >Homogeneity</th>\n",
       "      <th id=\"T_78528_level0_col4\" class=\"col_heading level0 col4\" >Rand Index</th>\n",
       "      <th id=\"T_78528_level0_col5\" class=\"col_heading level0 col5\" >Completeness</th>\n",
       "    </tr>\n",
       "  </thead>\n",
       "  <tbody>\n",
       "    <tr>\n",
       "      <th id=\"T_78528_level0_row0\" class=\"row_heading level0 row0\" >0</th>\n",
       "      <td id=\"T_78528_row0_col0\" class=\"data row0 col0\" >0.4988</td>\n",
       "      <td id=\"T_78528_row0_col1\" class=\"data row0 col1\" >144218.9198</td>\n",
       "      <td id=\"T_78528_row0_col2\" class=\"data row0 col2\" >0.7082</td>\n",
       "      <td id=\"T_78528_row0_col3\" class=\"data row0 col3\" >0</td>\n",
       "      <td id=\"T_78528_row0_col4\" class=\"data row0 col4\" >0</td>\n",
       "      <td id=\"T_78528_row0_col5\" class=\"data row0 col5\" >0</td>\n",
       "    </tr>\n",
       "  </tbody>\n",
       "</table>\n"
      ],
      "text/plain": [
       "<pandas.io.formats.style.Styler at 0x7db7aff4d750>"
      ]
     },
     "metadata": {},
     "output_type": "display_data"
    },
    {
     "data": {
      "text/html": [],
      "text/plain": [
       "<IPython.core.display.HTML object>"
      ]
     },
     "metadata": {},
     "output_type": "display_data"
    },
    {
     "name": "stdout",
     "output_type": "stream",
     "text": [
      "Metrics available: Index(['silhouette', 'chs', 'db', 'hs', 'ari', 'cs'], dtype='object', name='ID')\n",
      "hclust with Using Transform and 5 clusters\n"
     ]
    },
    {
     "data": {
      "text/html": [],
      "text/plain": [
       "<IPython.core.display.HTML object>"
      ]
     },
     "metadata": {},
     "output_type": "display_data"
    },
    {
     "data": {
      "text/html": [
       "<style type=\"text/css\">\n",
       "</style>\n",
       "<table id=\"T_04822\">\n",
       "  <thead>\n",
       "    <tr>\n",
       "      <th class=\"blank level0\" >&nbsp;</th>\n",
       "      <th id=\"T_04822_level0_col0\" class=\"col_heading level0 col0\" >Silhouette</th>\n",
       "      <th id=\"T_04822_level0_col1\" class=\"col_heading level0 col1\" >Calinski-Harabasz</th>\n",
       "      <th id=\"T_04822_level0_col2\" class=\"col_heading level0 col2\" >Davies-Bouldin</th>\n",
       "      <th id=\"T_04822_level0_col3\" class=\"col_heading level0 col3\" >Homogeneity</th>\n",
       "      <th id=\"T_04822_level0_col4\" class=\"col_heading level0 col4\" >Rand Index</th>\n",
       "      <th id=\"T_04822_level0_col5\" class=\"col_heading level0 col5\" >Completeness</th>\n",
       "    </tr>\n",
       "  </thead>\n",
       "  <tbody>\n",
       "    <tr>\n",
       "      <th id=\"T_04822_level0_row0\" class=\"row_heading level0 row0\" >0</th>\n",
       "      <td id=\"T_04822_row0_col0\" class=\"data row0 col0\" >0.5033</td>\n",
       "      <td id=\"T_04822_row0_col1\" class=\"data row0 col1\" >139781.3619</td>\n",
       "      <td id=\"T_04822_row0_col2\" class=\"data row0 col2\" >0.6978</td>\n",
       "      <td id=\"T_04822_row0_col3\" class=\"data row0 col3\" >0</td>\n",
       "      <td id=\"T_04822_row0_col4\" class=\"data row0 col4\" >0</td>\n",
       "      <td id=\"T_04822_row0_col5\" class=\"data row0 col5\" >0</td>\n",
       "    </tr>\n",
       "  </tbody>\n",
       "</table>\n"
      ],
      "text/plain": [
       "<pandas.io.formats.style.Styler at 0x7db63b1901d0>"
      ]
     },
     "metadata": {},
     "output_type": "display_data"
    },
    {
     "data": {
      "text/html": [],
      "text/plain": [
       "<IPython.core.display.HTML object>"
      ]
     },
     "metadata": {},
     "output_type": "display_data"
    },
    {
     "name": "stdout",
     "output_type": "stream",
     "text": [
      "Metrics available: Index(['silhouette', 'chs', 'db', 'hs', 'ari', 'cs'], dtype='object', name='ID')\n",
      "hclust with Using PCA and 3 clusters\n"
     ]
    },
    {
     "data": {
      "text/html": [],
      "text/plain": [
       "<IPython.core.display.HTML object>"
      ]
     },
     "metadata": {},
     "output_type": "display_data"
    },
    {
     "data": {
      "text/html": [
       "<style type=\"text/css\">\n",
       "</style>\n",
       "<table id=\"T_033eb\">\n",
       "  <thead>\n",
       "    <tr>\n",
       "      <th class=\"blank level0\" >&nbsp;</th>\n",
       "      <th id=\"T_033eb_level0_col0\" class=\"col_heading level0 col0\" >Silhouette</th>\n",
       "      <th id=\"T_033eb_level0_col1\" class=\"col_heading level0 col1\" >Calinski-Harabasz</th>\n",
       "      <th id=\"T_033eb_level0_col2\" class=\"col_heading level0 col2\" >Davies-Bouldin</th>\n",
       "      <th id=\"T_033eb_level0_col3\" class=\"col_heading level0 col3\" >Homogeneity</th>\n",
       "      <th id=\"T_033eb_level0_col4\" class=\"col_heading level0 col4\" >Rand Index</th>\n",
       "      <th id=\"T_033eb_level0_col5\" class=\"col_heading level0 col5\" >Completeness</th>\n",
       "    </tr>\n",
       "  </thead>\n",
       "  <tbody>\n",
       "    <tr>\n",
       "      <th id=\"T_033eb_level0_row0\" class=\"row_heading level0 row0\" >0</th>\n",
       "      <td id=\"T_033eb_row0_col0\" class=\"data row0 col0\" >0.2962</td>\n",
       "      <td id=\"T_033eb_row0_col1\" class=\"data row0 col1\" >233.4070</td>\n",
       "      <td id=\"T_033eb_row0_col2\" class=\"data row0 col2\" >1.2577</td>\n",
       "      <td id=\"T_033eb_row0_col3\" class=\"data row0 col3\" >0</td>\n",
       "      <td id=\"T_033eb_row0_col4\" class=\"data row0 col4\" >0</td>\n",
       "      <td id=\"T_033eb_row0_col5\" class=\"data row0 col5\" >0</td>\n",
       "    </tr>\n",
       "  </tbody>\n",
       "</table>\n"
      ],
      "text/plain": [
       "<pandas.io.formats.style.Styler at 0x7db63b169a10>"
      ]
     },
     "metadata": {},
     "output_type": "display_data"
    },
    {
     "data": {
      "text/html": [],
      "text/plain": [
       "<IPython.core.display.HTML object>"
      ]
     },
     "metadata": {},
     "output_type": "display_data"
    },
    {
     "name": "stdout",
     "output_type": "stream",
     "text": [
      "Metrics available: Index(['silhouette', 'chs', 'db', 'hs', 'ari', 'cs'], dtype='object', name='ID')\n",
      "hclust with Using PCA and 4 clusters\n"
     ]
    },
    {
     "data": {
      "text/html": [],
      "text/plain": [
       "<IPython.core.display.HTML object>"
      ]
     },
     "metadata": {},
     "output_type": "display_data"
    },
    {
     "data": {
      "text/html": [
       "<style type=\"text/css\">\n",
       "</style>\n",
       "<table id=\"T_2c758\">\n",
       "  <thead>\n",
       "    <tr>\n",
       "      <th class=\"blank level0\" >&nbsp;</th>\n",
       "      <th id=\"T_2c758_level0_col0\" class=\"col_heading level0 col0\" >Silhouette</th>\n",
       "      <th id=\"T_2c758_level0_col1\" class=\"col_heading level0 col1\" >Calinski-Harabasz</th>\n",
       "      <th id=\"T_2c758_level0_col2\" class=\"col_heading level0 col2\" >Davies-Bouldin</th>\n",
       "      <th id=\"T_2c758_level0_col3\" class=\"col_heading level0 col3\" >Homogeneity</th>\n",
       "      <th id=\"T_2c758_level0_col4\" class=\"col_heading level0 col4\" >Rand Index</th>\n",
       "      <th id=\"T_2c758_level0_col5\" class=\"col_heading level0 col5\" >Completeness</th>\n",
       "    </tr>\n",
       "  </thead>\n",
       "  <tbody>\n",
       "    <tr>\n",
       "      <th id=\"T_2c758_level0_row0\" class=\"row_heading level0 row0\" >0</th>\n",
       "      <td id=\"T_2c758_row0_col0\" class=\"data row0 col0\" >0.1224</td>\n",
       "      <td id=\"T_2c758_row0_col1\" class=\"data row0 col1\" >195.9503</td>\n",
       "      <td id=\"T_2c758_row0_col2\" class=\"data row0 col2\" >2.0143</td>\n",
       "      <td id=\"T_2c758_row0_col3\" class=\"data row0 col3\" >0</td>\n",
       "      <td id=\"T_2c758_row0_col4\" class=\"data row0 col4\" >0</td>\n",
       "      <td id=\"T_2c758_row0_col5\" class=\"data row0 col5\" >0</td>\n",
       "    </tr>\n",
       "  </tbody>\n",
       "</table>\n"
      ],
      "text/plain": [
       "<pandas.io.formats.style.Styler at 0x7db7affc7ad0>"
      ]
     },
     "metadata": {},
     "output_type": "display_data"
    },
    {
     "data": {
      "text/html": [],
      "text/plain": [
       "<IPython.core.display.HTML object>"
      ]
     },
     "metadata": {},
     "output_type": "display_data"
    },
    {
     "name": "stdout",
     "output_type": "stream",
     "text": [
      "Metrics available: Index(['silhouette', 'chs', 'db', 'hs', 'ari', 'cs'], dtype='object', name='ID')\n",
      "hclust with Using PCA and 5 clusters\n"
     ]
    },
    {
     "data": {
      "text/html": [],
      "text/plain": [
       "<IPython.core.display.HTML object>"
      ]
     },
     "metadata": {},
     "output_type": "display_data"
    },
    {
     "data": {
      "text/html": [
       "<style type=\"text/css\">\n",
       "</style>\n",
       "<table id=\"T_9a386\">\n",
       "  <thead>\n",
       "    <tr>\n",
       "      <th class=\"blank level0\" >&nbsp;</th>\n",
       "      <th id=\"T_9a386_level0_col0\" class=\"col_heading level0 col0\" >Silhouette</th>\n",
       "      <th id=\"T_9a386_level0_col1\" class=\"col_heading level0 col1\" >Calinski-Harabasz</th>\n",
       "      <th id=\"T_9a386_level0_col2\" class=\"col_heading level0 col2\" >Davies-Bouldin</th>\n",
       "      <th id=\"T_9a386_level0_col3\" class=\"col_heading level0 col3\" >Homogeneity</th>\n",
       "      <th id=\"T_9a386_level0_col4\" class=\"col_heading level0 col4\" >Rand Index</th>\n",
       "      <th id=\"T_9a386_level0_col5\" class=\"col_heading level0 col5\" >Completeness</th>\n",
       "    </tr>\n",
       "  </thead>\n",
       "  <tbody>\n",
       "    <tr>\n",
       "      <th id=\"T_9a386_level0_row0\" class=\"row_heading level0 row0\" >0</th>\n",
       "      <td id=\"T_9a386_row0_col0\" class=\"data row0 col0\" >0.1132</td>\n",
       "      <td id=\"T_9a386_row0_col1\" class=\"data row0 col1\" >165.2781</td>\n",
       "      <td id=\"T_9a386_row0_col2\" class=\"data row0 col2\" >2.0681</td>\n",
       "      <td id=\"T_9a386_row0_col3\" class=\"data row0 col3\" >0</td>\n",
       "      <td id=\"T_9a386_row0_col4\" class=\"data row0 col4\" >0</td>\n",
       "      <td id=\"T_9a386_row0_col5\" class=\"data row0 col5\" >0</td>\n",
       "    </tr>\n",
       "  </tbody>\n",
       "</table>\n"
      ],
      "text/plain": [
       "<pandas.io.formats.style.Styler at 0x7db7aff2c810>"
      ]
     },
     "metadata": {},
     "output_type": "display_data"
    },
    {
     "data": {
      "text/html": [],
      "text/plain": [
       "<IPython.core.display.HTML object>"
      ]
     },
     "metadata": {},
     "output_type": "display_data"
    },
    {
     "name": "stdout",
     "output_type": "stream",
     "text": [
      "Metrics available: Index(['silhouette', 'chs', 'db', 'hs', 'ari', 'cs'], dtype='object', name='ID')\n",
      "hclust with Using T+N and 3 clusters\n"
     ]
    },
    {
     "data": {
      "text/html": [],
      "text/plain": [
       "<IPython.core.display.HTML object>"
      ]
     },
     "metadata": {},
     "output_type": "display_data"
    },
    {
     "data": {
      "text/html": [
       "<style type=\"text/css\">\n",
       "</style>\n",
       "<table id=\"T_79c4c\">\n",
       "  <thead>\n",
       "    <tr>\n",
       "      <th class=\"blank level0\" >&nbsp;</th>\n",
       "      <th id=\"T_79c4c_level0_col0\" class=\"col_heading level0 col0\" >Silhouette</th>\n",
       "      <th id=\"T_79c4c_level0_col1\" class=\"col_heading level0 col1\" >Calinski-Harabasz</th>\n",
       "      <th id=\"T_79c4c_level0_col2\" class=\"col_heading level0 col2\" >Davies-Bouldin</th>\n",
       "      <th id=\"T_79c4c_level0_col3\" class=\"col_heading level0 col3\" >Homogeneity</th>\n",
       "      <th id=\"T_79c4c_level0_col4\" class=\"col_heading level0 col4\" >Rand Index</th>\n",
       "      <th id=\"T_79c4c_level0_col5\" class=\"col_heading level0 col5\" >Completeness</th>\n",
       "    </tr>\n",
       "  </thead>\n",
       "  <tbody>\n",
       "    <tr>\n",
       "      <th id=\"T_79c4c_level0_row0\" class=\"row_heading level0 row0\" >0</th>\n",
       "      <td id=\"T_79c4c_row0_col0\" class=\"data row0 col0\" >0.0378</td>\n",
       "      <td id=\"T_79c4c_row0_col1\" class=\"data row0 col1\" >26.3996</td>\n",
       "      <td id=\"T_79c4c_row0_col2\" class=\"data row0 col2\" >4.1929</td>\n",
       "      <td id=\"T_79c4c_row0_col3\" class=\"data row0 col3\" >0</td>\n",
       "      <td id=\"T_79c4c_row0_col4\" class=\"data row0 col4\" >0</td>\n",
       "      <td id=\"T_79c4c_row0_col5\" class=\"data row0 col5\" >0</td>\n",
       "    </tr>\n",
       "  </tbody>\n",
       "</table>\n"
      ],
      "text/plain": [
       "<pandas.io.formats.style.Styler at 0x7db7aff56150>"
      ]
     },
     "metadata": {},
     "output_type": "display_data"
    },
    {
     "data": {
      "text/html": [],
      "text/plain": [
       "<IPython.core.display.HTML object>"
      ]
     },
     "metadata": {},
     "output_type": "display_data"
    },
    {
     "name": "stdout",
     "output_type": "stream",
     "text": [
      "Metrics available: Index(['silhouette', 'chs', 'db', 'hs', 'ari', 'cs'], dtype='object', name='ID')\n",
      "hclust with Using T+N and 4 clusters\n"
     ]
    },
    {
     "data": {
      "text/html": [],
      "text/plain": [
       "<IPython.core.display.HTML object>"
      ]
     },
     "metadata": {},
     "output_type": "display_data"
    },
    {
     "data": {
      "text/html": [
       "<style type=\"text/css\">\n",
       "</style>\n",
       "<table id=\"T_293db\">\n",
       "  <thead>\n",
       "    <tr>\n",
       "      <th class=\"blank level0\" >&nbsp;</th>\n",
       "      <th id=\"T_293db_level0_col0\" class=\"col_heading level0 col0\" >Silhouette</th>\n",
       "      <th id=\"T_293db_level0_col1\" class=\"col_heading level0 col1\" >Calinski-Harabasz</th>\n",
       "      <th id=\"T_293db_level0_col2\" class=\"col_heading level0 col2\" >Davies-Bouldin</th>\n",
       "      <th id=\"T_293db_level0_col3\" class=\"col_heading level0 col3\" >Homogeneity</th>\n",
       "      <th id=\"T_293db_level0_col4\" class=\"col_heading level0 col4\" >Rand Index</th>\n",
       "      <th id=\"T_293db_level0_col5\" class=\"col_heading level0 col5\" >Completeness</th>\n",
       "    </tr>\n",
       "  </thead>\n",
       "  <tbody>\n",
       "    <tr>\n",
       "      <th id=\"T_293db_level0_row0\" class=\"row_heading level0 row0\" >0</th>\n",
       "      <td id=\"T_293db_row0_col0\" class=\"data row0 col0\" >0.0477</td>\n",
       "      <td id=\"T_293db_row0_col1\" class=\"data row0 col1\" >25.4067</td>\n",
       "      <td id=\"T_293db_row0_col2\" class=\"data row0 col2\" >3.5085</td>\n",
       "      <td id=\"T_293db_row0_col3\" class=\"data row0 col3\" >0</td>\n",
       "      <td id=\"T_293db_row0_col4\" class=\"data row0 col4\" >0</td>\n",
       "      <td id=\"T_293db_row0_col5\" class=\"data row0 col5\" >0</td>\n",
       "    </tr>\n",
       "  </tbody>\n",
       "</table>\n"
      ],
      "text/plain": [
       "<pandas.io.formats.style.Styler at 0x7db7afe30590>"
      ]
     },
     "metadata": {},
     "output_type": "display_data"
    },
    {
     "data": {
      "text/html": [],
      "text/plain": [
       "<IPython.core.display.HTML object>"
      ]
     },
     "metadata": {},
     "output_type": "display_data"
    },
    {
     "name": "stdout",
     "output_type": "stream",
     "text": [
      "Metrics available: Index(['silhouette', 'chs', 'db', 'hs', 'ari', 'cs'], dtype='object', name='ID')\n",
      "hclust with Using T+N and 5 clusters\n"
     ]
    },
    {
     "data": {
      "text/html": [],
      "text/plain": [
       "<IPython.core.display.HTML object>"
      ]
     },
     "metadata": {},
     "output_type": "display_data"
    },
    {
     "data": {
      "text/html": [
       "<style type=\"text/css\">\n",
       "</style>\n",
       "<table id=\"T_f27c3\">\n",
       "  <thead>\n",
       "    <tr>\n",
       "      <th class=\"blank level0\" >&nbsp;</th>\n",
       "      <th id=\"T_f27c3_level0_col0\" class=\"col_heading level0 col0\" >Silhouette</th>\n",
       "      <th id=\"T_f27c3_level0_col1\" class=\"col_heading level0 col1\" >Calinski-Harabasz</th>\n",
       "      <th id=\"T_f27c3_level0_col2\" class=\"col_heading level0 col2\" >Davies-Bouldin</th>\n",
       "      <th id=\"T_f27c3_level0_col3\" class=\"col_heading level0 col3\" >Homogeneity</th>\n",
       "      <th id=\"T_f27c3_level0_col4\" class=\"col_heading level0 col4\" >Rand Index</th>\n",
       "      <th id=\"T_f27c3_level0_col5\" class=\"col_heading level0 col5\" >Completeness</th>\n",
       "    </tr>\n",
       "  </thead>\n",
       "  <tbody>\n",
       "    <tr>\n",
       "      <th id=\"T_f27c3_level0_row0\" class=\"row_heading level0 row0\" >0</th>\n",
       "      <td id=\"T_f27c3_row0_col0\" class=\"data row0 col0\" >0.0490</td>\n",
       "      <td id=\"T_f27c3_row0_col1\" class=\"data row0 col1\" >25.1058</td>\n",
       "      <td id=\"T_f27c3_row0_col2\" class=\"data row0 col2\" >3.3844</td>\n",
       "      <td id=\"T_f27c3_row0_col3\" class=\"data row0 col3\" >0</td>\n",
       "      <td id=\"T_f27c3_row0_col4\" class=\"data row0 col4\" >0</td>\n",
       "      <td id=\"T_f27c3_row0_col5\" class=\"data row0 col5\" >0</td>\n",
       "    </tr>\n",
       "  </tbody>\n",
       "</table>\n"
      ],
      "text/plain": [
       "<pandas.io.formats.style.Styler at 0x7db7afe05110>"
      ]
     },
     "metadata": {},
     "output_type": "display_data"
    },
    {
     "data": {
      "text/html": [],
      "text/plain": [
       "<IPython.core.display.HTML object>"
      ]
     },
     "metadata": {},
     "output_type": "display_data"
    },
    {
     "name": "stdout",
     "output_type": "stream",
     "text": [
      "Metrics available: Index(['silhouette', 'chs', 'db', 'hs', 'ari', 'cs'], dtype='object', name='ID')\n",
      "hclust with Using T+N+PCA and 3 clusters\n"
     ]
    },
    {
     "data": {
      "text/html": [],
      "text/plain": [
       "<IPython.core.display.HTML object>"
      ]
     },
     "metadata": {},
     "output_type": "display_data"
    },
    {
     "data": {
      "text/html": [
       "<style type=\"text/css\">\n",
       "</style>\n",
       "<table id=\"T_b65eb\">\n",
       "  <thead>\n",
       "    <tr>\n",
       "      <th class=\"blank level0\" >&nbsp;</th>\n",
       "      <th id=\"T_b65eb_level0_col0\" class=\"col_heading level0 col0\" >Silhouette</th>\n",
       "      <th id=\"T_b65eb_level0_col1\" class=\"col_heading level0 col1\" >Calinski-Harabasz</th>\n",
       "      <th id=\"T_b65eb_level0_col2\" class=\"col_heading level0 col2\" >Davies-Bouldin</th>\n",
       "      <th id=\"T_b65eb_level0_col3\" class=\"col_heading level0 col3\" >Homogeneity</th>\n",
       "      <th id=\"T_b65eb_level0_col4\" class=\"col_heading level0 col4\" >Rand Index</th>\n",
       "      <th id=\"T_b65eb_level0_col5\" class=\"col_heading level0 col5\" >Completeness</th>\n",
       "    </tr>\n",
       "  </thead>\n",
       "  <tbody>\n",
       "    <tr>\n",
       "      <th id=\"T_b65eb_level0_row0\" class=\"row_heading level0 row0\" >0</th>\n",
       "      <td id=\"T_b65eb_row0_col0\" class=\"data row0 col0\" >0.0378</td>\n",
       "      <td id=\"T_b65eb_row0_col1\" class=\"data row0 col1\" >26.3996</td>\n",
       "      <td id=\"T_b65eb_row0_col2\" class=\"data row0 col2\" >4.1929</td>\n",
       "      <td id=\"T_b65eb_row0_col3\" class=\"data row0 col3\" >0</td>\n",
       "      <td id=\"T_b65eb_row0_col4\" class=\"data row0 col4\" >0</td>\n",
       "      <td id=\"T_b65eb_row0_col5\" class=\"data row0 col5\" >0</td>\n",
       "    </tr>\n",
       "  </tbody>\n",
       "</table>\n"
      ],
      "text/plain": [
       "<pandas.io.formats.style.Styler at 0x7db63b191c90>"
      ]
     },
     "metadata": {},
     "output_type": "display_data"
    },
    {
     "data": {
      "text/html": [],
      "text/plain": [
       "<IPython.core.display.HTML object>"
      ]
     },
     "metadata": {},
     "output_type": "display_data"
    },
    {
     "name": "stdout",
     "output_type": "stream",
     "text": [
      "Metrics available: Index(['silhouette', 'chs', 'db', 'hs', 'ari', 'cs'], dtype='object', name='ID')\n",
      "hclust with Using T+N+PCA and 4 clusters\n"
     ]
    },
    {
     "data": {
      "text/html": [],
      "text/plain": [
       "<IPython.core.display.HTML object>"
      ]
     },
     "metadata": {},
     "output_type": "display_data"
    },
    {
     "data": {
      "text/html": [
       "<style type=\"text/css\">\n",
       "</style>\n",
       "<table id=\"T_4eb08\">\n",
       "  <thead>\n",
       "    <tr>\n",
       "      <th class=\"blank level0\" >&nbsp;</th>\n",
       "      <th id=\"T_4eb08_level0_col0\" class=\"col_heading level0 col0\" >Silhouette</th>\n",
       "      <th id=\"T_4eb08_level0_col1\" class=\"col_heading level0 col1\" >Calinski-Harabasz</th>\n",
       "      <th id=\"T_4eb08_level0_col2\" class=\"col_heading level0 col2\" >Davies-Bouldin</th>\n",
       "      <th id=\"T_4eb08_level0_col3\" class=\"col_heading level0 col3\" >Homogeneity</th>\n",
       "      <th id=\"T_4eb08_level0_col4\" class=\"col_heading level0 col4\" >Rand Index</th>\n",
       "      <th id=\"T_4eb08_level0_col5\" class=\"col_heading level0 col5\" >Completeness</th>\n",
       "    </tr>\n",
       "  </thead>\n",
       "  <tbody>\n",
       "    <tr>\n",
       "      <th id=\"T_4eb08_level0_row0\" class=\"row_heading level0 row0\" >0</th>\n",
       "      <td id=\"T_4eb08_row0_col0\" class=\"data row0 col0\" >0.0477</td>\n",
       "      <td id=\"T_4eb08_row0_col1\" class=\"data row0 col1\" >25.4067</td>\n",
       "      <td id=\"T_4eb08_row0_col2\" class=\"data row0 col2\" >3.5085</td>\n",
       "      <td id=\"T_4eb08_row0_col3\" class=\"data row0 col3\" >0</td>\n",
       "      <td id=\"T_4eb08_row0_col4\" class=\"data row0 col4\" >0</td>\n",
       "      <td id=\"T_4eb08_row0_col5\" class=\"data row0 col5\" >0</td>\n",
       "    </tr>\n",
       "  </tbody>\n",
       "</table>\n"
      ],
      "text/plain": [
       "<pandas.io.formats.style.Styler at 0x7db63b169e50>"
      ]
     },
     "metadata": {},
     "output_type": "display_data"
    },
    {
     "data": {
      "text/html": [],
      "text/plain": [
       "<IPython.core.display.HTML object>"
      ]
     },
     "metadata": {},
     "output_type": "display_data"
    },
    {
     "name": "stdout",
     "output_type": "stream",
     "text": [
      "Metrics available: Index(['silhouette', 'chs', 'db', 'hs', 'ari', 'cs'], dtype='object', name='ID')\n",
      "hclust with Using T+N+PCA and 5 clusters\n"
     ]
    },
    {
     "data": {
      "text/html": [],
      "text/plain": [
       "<IPython.core.display.HTML object>"
      ]
     },
     "metadata": {},
     "output_type": "display_data"
    },
    {
     "data": {
      "text/html": [
       "<style type=\"text/css\">\n",
       "</style>\n",
       "<table id=\"T_8570a\">\n",
       "  <thead>\n",
       "    <tr>\n",
       "      <th class=\"blank level0\" >&nbsp;</th>\n",
       "      <th id=\"T_8570a_level0_col0\" class=\"col_heading level0 col0\" >Silhouette</th>\n",
       "      <th id=\"T_8570a_level0_col1\" class=\"col_heading level0 col1\" >Calinski-Harabasz</th>\n",
       "      <th id=\"T_8570a_level0_col2\" class=\"col_heading level0 col2\" >Davies-Bouldin</th>\n",
       "      <th id=\"T_8570a_level0_col3\" class=\"col_heading level0 col3\" >Homogeneity</th>\n",
       "      <th id=\"T_8570a_level0_col4\" class=\"col_heading level0 col4\" >Rand Index</th>\n",
       "      <th id=\"T_8570a_level0_col5\" class=\"col_heading level0 col5\" >Completeness</th>\n",
       "    </tr>\n",
       "  </thead>\n",
       "  <tbody>\n",
       "    <tr>\n",
       "      <th id=\"T_8570a_level0_row0\" class=\"row_heading level0 row0\" >0</th>\n",
       "      <td id=\"T_8570a_row0_col0\" class=\"data row0 col0\" >0.0490</td>\n",
       "      <td id=\"T_8570a_row0_col1\" class=\"data row0 col1\" >25.1058</td>\n",
       "      <td id=\"T_8570a_row0_col2\" class=\"data row0 col2\" >3.3844</td>\n",
       "      <td id=\"T_8570a_row0_col3\" class=\"data row0 col3\" >0</td>\n",
       "      <td id=\"T_8570a_row0_col4\" class=\"data row0 col4\" >0</td>\n",
       "      <td id=\"T_8570a_row0_col5\" class=\"data row0 col5\" >0</td>\n",
       "    </tr>\n",
       "  </tbody>\n",
       "</table>\n"
      ],
      "text/plain": [
       "<pandas.io.formats.style.Styler at 0x7db7afe05210>"
      ]
     },
     "metadata": {},
     "output_type": "display_data"
    },
    {
     "data": {
      "text/html": [],
      "text/plain": [
       "<IPython.core.display.HTML object>"
      ]
     },
     "metadata": {},
     "output_type": "display_data"
    },
    {
     "name": "stdout",
     "output_type": "stream",
     "text": [
      "Metrics available: Index(['silhouette', 'chs', 'db', 'hs', 'ari', 'cs'], dtype='object', name='ID')\n",
      "hclust Metrics:\n",
      "                  No Data Preprocessing                          \\\n",
      "                                    c=3         c=4         c=5   \n",
      "Silhouette                     0.225318    0.117983    0.099503   \n",
      "Calinski-Harabasz            249.888575  193.366024  163.407477   \n",
      "Davies-Bouldin                 1.432917    1.926597    2.152307   \n",
      "\n",
      "                  Using Normalization                     Using Transform  \\\n",
      "                                  c=3       c=4       c=5             c=3   \n",
      "Silhouette                  -0.014050 -0.037549 -0.043147        0.001166   \n",
      "Calinski-Harabasz           12.130232  8.629229  6.971735       10.628826   \n",
      "Davies-Bouldin               6.268182  6.051944  6.097963        6.016656   \n",
      "\n",
      "                                        Using PCA                          \\\n",
      "                        c=4       c=5         c=3         c=4         c=5   \n",
      "Silhouette        -0.010619 -0.016562    0.296192    0.122439    0.113228   \n",
      "Calinski-Harabasz  8.091245  8.030579  233.406957  195.950298  165.278057   \n",
      "Davies-Bouldin     6.973082  7.492652    1.257722    2.014328    2.068139   \n",
      "\n",
      "                   Using T+N                     Using T+N+PCA            \\\n",
      "                         c=3       c=4       c=5           c=3       c=4   \n",
      "Silhouette         -0.009469 -0.033155 -0.048531     -0.009469 -0.033155   \n",
      "Calinski-Harabasz  13.103972  9.271203  9.102733     13.103972  9.271203   \n",
      "Davies-Bouldin      5.649897  5.568101  5.564344      5.649897  5.568101   \n",
      "\n",
      "                             \n",
      "                        c=5  \n",
      "Silhouette        -0.048531  \n",
      "Calinski-Harabasz  9.102733  \n",
      "Davies-Bouldin     5.564344  \n",
      "meanshift with No Data Preprocessing and 3 clusters\n"
     ]
    },
    {
     "data": {
      "text/html": [],
      "text/plain": [
       "<IPython.core.display.HTML object>"
      ]
     },
     "metadata": {},
     "output_type": "display_data"
    },
    {
     "data": {
      "text/html": [
       "<style type=\"text/css\">\n",
       "</style>\n",
       "<table id=\"T_ba940\">\n",
       "  <thead>\n",
       "    <tr>\n",
       "      <th class=\"blank level0\" >&nbsp;</th>\n",
       "      <th id=\"T_ba940_level0_col0\" class=\"col_heading level0 col0\" >Silhouette</th>\n",
       "      <th id=\"T_ba940_level0_col1\" class=\"col_heading level0 col1\" >Calinski-Harabasz</th>\n",
       "      <th id=\"T_ba940_level0_col2\" class=\"col_heading level0 col2\" >Davies-Bouldin</th>\n",
       "      <th id=\"T_ba940_level0_col3\" class=\"col_heading level0 col3\" >Homogeneity</th>\n",
       "      <th id=\"T_ba940_level0_col4\" class=\"col_heading level0 col4\" >Rand Index</th>\n",
       "      <th id=\"T_ba940_level0_col5\" class=\"col_heading level0 col5\" >Completeness</th>\n",
       "    </tr>\n",
       "  </thead>\n",
       "  <tbody>\n",
       "    <tr>\n",
       "      <th id=\"T_ba940_level0_row0\" class=\"row_heading level0 row0\" >0</th>\n",
       "      <td id=\"T_ba940_row0_col0\" class=\"data row0 col0\" >0.4691</td>\n",
       "      <td id=\"T_ba940_row0_col1\" class=\"data row0 col1\" >138.6204</td>\n",
       "      <td id=\"T_ba940_row0_col2\" class=\"data row0 col2\" >0.7725</td>\n",
       "      <td id=\"T_ba940_row0_col3\" class=\"data row0 col3\" >0</td>\n",
       "      <td id=\"T_ba940_row0_col4\" class=\"data row0 col4\" >0</td>\n",
       "      <td id=\"T_ba940_row0_col5\" class=\"data row0 col5\" >0</td>\n",
       "    </tr>\n",
       "  </tbody>\n",
       "</table>\n"
      ],
      "text/plain": [
       "<pandas.io.formats.style.Styler at 0x7db7affc4b90>"
      ]
     },
     "metadata": {},
     "output_type": "display_data"
    },
    {
     "data": {
      "text/html": [],
      "text/plain": [
       "<IPython.core.display.HTML object>"
      ]
     },
     "metadata": {},
     "output_type": "display_data"
    },
    {
     "name": "stdout",
     "output_type": "stream",
     "text": [
      "Metrics available: Index(['silhouette', 'chs', 'db', 'hs', 'ari', 'cs'], dtype='object', name='ID')\n",
      "meanshift with No Data Preprocessing and 4 clusters\n"
     ]
    },
    {
     "data": {
      "text/html": [],
      "text/plain": [
       "<IPython.core.display.HTML object>"
      ]
     },
     "metadata": {},
     "output_type": "display_data"
    },
    {
     "data": {
      "text/html": [
       "<style type=\"text/css\">\n",
       "</style>\n",
       "<table id=\"T_41fd5\">\n",
       "  <thead>\n",
       "    <tr>\n",
       "      <th class=\"blank level0\" >&nbsp;</th>\n",
       "      <th id=\"T_41fd5_level0_col0\" class=\"col_heading level0 col0\" >Silhouette</th>\n",
       "      <th id=\"T_41fd5_level0_col1\" class=\"col_heading level0 col1\" >Calinski-Harabasz</th>\n",
       "      <th id=\"T_41fd5_level0_col2\" class=\"col_heading level0 col2\" >Davies-Bouldin</th>\n",
       "      <th id=\"T_41fd5_level0_col3\" class=\"col_heading level0 col3\" >Homogeneity</th>\n",
       "      <th id=\"T_41fd5_level0_col4\" class=\"col_heading level0 col4\" >Rand Index</th>\n",
       "      <th id=\"T_41fd5_level0_col5\" class=\"col_heading level0 col5\" >Completeness</th>\n",
       "    </tr>\n",
       "  </thead>\n",
       "  <tbody>\n",
       "    <tr>\n",
       "      <th id=\"T_41fd5_level0_row0\" class=\"row_heading level0 row0\" >0</th>\n",
       "      <td id=\"T_41fd5_row0_col0\" class=\"data row0 col0\" >0.4691</td>\n",
       "      <td id=\"T_41fd5_row0_col1\" class=\"data row0 col1\" >138.6204</td>\n",
       "      <td id=\"T_41fd5_row0_col2\" class=\"data row0 col2\" >0.7725</td>\n",
       "      <td id=\"T_41fd5_row0_col3\" class=\"data row0 col3\" >0</td>\n",
       "      <td id=\"T_41fd5_row0_col4\" class=\"data row0 col4\" >0</td>\n",
       "      <td id=\"T_41fd5_row0_col5\" class=\"data row0 col5\" >0</td>\n",
       "    </tr>\n",
       "  </tbody>\n",
       "</table>\n"
      ],
      "text/plain": [
       "<pandas.io.formats.style.Styler at 0x7db7affedb10>"
      ]
     },
     "metadata": {},
     "output_type": "display_data"
    },
    {
     "data": {
      "text/html": [],
      "text/plain": [
       "<IPython.core.display.HTML object>"
      ]
     },
     "metadata": {},
     "output_type": "display_data"
    },
    {
     "name": "stdout",
     "output_type": "stream",
     "text": [
      "Metrics available: Index(['silhouette', 'chs', 'db', 'hs', 'ari', 'cs'], dtype='object', name='ID')\n",
      "meanshift with No Data Preprocessing and 5 clusters\n"
     ]
    },
    {
     "data": {
      "text/html": [],
      "text/plain": [
       "<IPython.core.display.HTML object>"
      ]
     },
     "metadata": {},
     "output_type": "display_data"
    },
    {
     "data": {
      "text/html": [
       "<style type=\"text/css\">\n",
       "</style>\n",
       "<table id=\"T_08e74\">\n",
       "  <thead>\n",
       "    <tr>\n",
       "      <th class=\"blank level0\" >&nbsp;</th>\n",
       "      <th id=\"T_08e74_level0_col0\" class=\"col_heading level0 col0\" >Silhouette</th>\n",
       "      <th id=\"T_08e74_level0_col1\" class=\"col_heading level0 col1\" >Calinski-Harabasz</th>\n",
       "      <th id=\"T_08e74_level0_col2\" class=\"col_heading level0 col2\" >Davies-Bouldin</th>\n",
       "      <th id=\"T_08e74_level0_col3\" class=\"col_heading level0 col3\" >Homogeneity</th>\n",
       "      <th id=\"T_08e74_level0_col4\" class=\"col_heading level0 col4\" >Rand Index</th>\n",
       "      <th id=\"T_08e74_level0_col5\" class=\"col_heading level0 col5\" >Completeness</th>\n",
       "    </tr>\n",
       "  </thead>\n",
       "  <tbody>\n",
       "    <tr>\n",
       "      <th id=\"T_08e74_level0_row0\" class=\"row_heading level0 row0\" >0</th>\n",
       "      <td id=\"T_08e74_row0_col0\" class=\"data row0 col0\" >0.4691</td>\n",
       "      <td id=\"T_08e74_row0_col1\" class=\"data row0 col1\" >138.6204</td>\n",
       "      <td id=\"T_08e74_row0_col2\" class=\"data row0 col2\" >0.7725</td>\n",
       "      <td id=\"T_08e74_row0_col3\" class=\"data row0 col3\" >0</td>\n",
       "      <td id=\"T_08e74_row0_col4\" class=\"data row0 col4\" >0</td>\n",
       "      <td id=\"T_08e74_row0_col5\" class=\"data row0 col5\" >0</td>\n",
       "    </tr>\n",
       "  </tbody>\n",
       "</table>\n"
      ],
      "text/plain": [
       "<pandas.io.formats.style.Styler at 0x7db7affdd510>"
      ]
     },
     "metadata": {},
     "output_type": "display_data"
    },
    {
     "data": {
      "text/html": [],
      "text/plain": [
       "<IPython.core.display.HTML object>"
      ]
     },
     "metadata": {},
     "output_type": "display_data"
    },
    {
     "name": "stdout",
     "output_type": "stream",
     "text": [
      "Metrics available: Index(['silhouette', 'chs', 'db', 'hs', 'ari', 'cs'], dtype='object', name='ID')\n",
      "meanshift with Using Normalization and 3 clusters\n"
     ]
    },
    {
     "data": {
      "text/html": [],
      "text/plain": [
       "<IPython.core.display.HTML object>"
      ]
     },
     "metadata": {},
     "output_type": "display_data"
    },
    {
     "data": {
      "text/html": [
       "<style type=\"text/css\">\n",
       "</style>\n",
       "<table id=\"T_e79bb\">\n",
       "  <thead>\n",
       "    <tr>\n",
       "      <th class=\"blank level0\" >&nbsp;</th>\n",
       "      <th id=\"T_e79bb_level0_col0\" class=\"col_heading level0 col0\" >Silhouette</th>\n",
       "      <th id=\"T_e79bb_level0_col1\" class=\"col_heading level0 col1\" >Calinski-Harabasz</th>\n",
       "      <th id=\"T_e79bb_level0_col2\" class=\"col_heading level0 col2\" >Davies-Bouldin</th>\n",
       "      <th id=\"T_e79bb_level0_col3\" class=\"col_heading level0 col3\" >Homogeneity</th>\n",
       "      <th id=\"T_e79bb_level0_col4\" class=\"col_heading level0 col4\" >Rand Index</th>\n",
       "      <th id=\"T_e79bb_level0_col5\" class=\"col_heading level0 col5\" >Completeness</th>\n",
       "    </tr>\n",
       "  </thead>\n",
       "  <tbody>\n",
       "    <tr>\n",
       "      <th id=\"T_e79bb_level0_row0\" class=\"row_heading level0 row0\" >0</th>\n",
       "      <td id=\"T_e79bb_row0_col0\" class=\"data row0 col0\" >0.2430</td>\n",
       "      <td id=\"T_e79bb_row0_col1\" class=\"data row0 col1\" >2.4600</td>\n",
       "      <td id=\"T_e79bb_row0_col2\" class=\"data row0 col2\" >0.6274</td>\n",
       "      <td id=\"T_e79bb_row0_col3\" class=\"data row0 col3\" >0</td>\n",
       "      <td id=\"T_e79bb_row0_col4\" class=\"data row0 col4\" >0</td>\n",
       "      <td id=\"T_e79bb_row0_col5\" class=\"data row0 col5\" >0</td>\n",
       "    </tr>\n",
       "  </tbody>\n",
       "</table>\n"
      ],
      "text/plain": [
       "<pandas.io.formats.style.Styler at 0x7db63ab67510>"
      ]
     },
     "metadata": {},
     "output_type": "display_data"
    },
    {
     "data": {
      "text/html": [],
      "text/plain": [
       "<IPython.core.display.HTML object>"
      ]
     },
     "metadata": {},
     "output_type": "display_data"
    },
    {
     "name": "stdout",
     "output_type": "stream",
     "text": [
      "Metrics available: Index(['silhouette', 'chs', 'db', 'hs', 'ari', 'cs'], dtype='object', name='ID')\n",
      "meanshift with Using Normalization and 4 clusters\n"
     ]
    },
    {
     "data": {
      "text/html": [],
      "text/plain": [
       "<IPython.core.display.HTML object>"
      ]
     },
     "metadata": {},
     "output_type": "display_data"
    },
    {
     "data": {
      "text/html": [
       "<style type=\"text/css\">\n",
       "</style>\n",
       "<table id=\"T_0f8bf\">\n",
       "  <thead>\n",
       "    <tr>\n",
       "      <th class=\"blank level0\" >&nbsp;</th>\n",
       "      <th id=\"T_0f8bf_level0_col0\" class=\"col_heading level0 col0\" >Silhouette</th>\n",
       "      <th id=\"T_0f8bf_level0_col1\" class=\"col_heading level0 col1\" >Calinski-Harabasz</th>\n",
       "      <th id=\"T_0f8bf_level0_col2\" class=\"col_heading level0 col2\" >Davies-Bouldin</th>\n",
       "      <th id=\"T_0f8bf_level0_col3\" class=\"col_heading level0 col3\" >Homogeneity</th>\n",
       "      <th id=\"T_0f8bf_level0_col4\" class=\"col_heading level0 col4\" >Rand Index</th>\n",
       "      <th id=\"T_0f8bf_level0_col5\" class=\"col_heading level0 col5\" >Completeness</th>\n",
       "    </tr>\n",
       "  </thead>\n",
       "  <tbody>\n",
       "    <tr>\n",
       "      <th id=\"T_0f8bf_level0_row0\" class=\"row_heading level0 row0\" >0</th>\n",
       "      <td id=\"T_0f8bf_row0_col0\" class=\"data row0 col0\" >0.2430</td>\n",
       "      <td id=\"T_0f8bf_row0_col1\" class=\"data row0 col1\" >2.4600</td>\n",
       "      <td id=\"T_0f8bf_row0_col2\" class=\"data row0 col2\" >0.6274</td>\n",
       "      <td id=\"T_0f8bf_row0_col3\" class=\"data row0 col3\" >0</td>\n",
       "      <td id=\"T_0f8bf_row0_col4\" class=\"data row0 col4\" >0</td>\n",
       "      <td id=\"T_0f8bf_row0_col5\" class=\"data row0 col5\" >0</td>\n",
       "    </tr>\n",
       "  </tbody>\n",
       "</table>\n"
      ],
      "text/plain": [
       "<pandas.io.formats.style.Styler at 0x7db7afe29a90>"
      ]
     },
     "metadata": {},
     "output_type": "display_data"
    },
    {
     "data": {
      "text/html": [],
      "text/plain": [
       "<IPython.core.display.HTML object>"
      ]
     },
     "metadata": {},
     "output_type": "display_data"
    },
    {
     "name": "stdout",
     "output_type": "stream",
     "text": [
      "Metrics available: Index(['silhouette', 'chs', 'db', 'hs', 'ari', 'cs'], dtype='object', name='ID')\n",
      "meanshift with Using Normalization and 5 clusters\n"
     ]
    },
    {
     "data": {
      "text/html": [],
      "text/plain": [
       "<IPython.core.display.HTML object>"
      ]
     },
     "metadata": {},
     "output_type": "display_data"
    },
    {
     "data": {
      "text/html": [
       "<style type=\"text/css\">\n",
       "</style>\n",
       "<table id=\"T_22932\">\n",
       "  <thead>\n",
       "    <tr>\n",
       "      <th class=\"blank level0\" >&nbsp;</th>\n",
       "      <th id=\"T_22932_level0_col0\" class=\"col_heading level0 col0\" >Silhouette</th>\n",
       "      <th id=\"T_22932_level0_col1\" class=\"col_heading level0 col1\" >Calinski-Harabasz</th>\n",
       "      <th id=\"T_22932_level0_col2\" class=\"col_heading level0 col2\" >Davies-Bouldin</th>\n",
       "      <th id=\"T_22932_level0_col3\" class=\"col_heading level0 col3\" >Homogeneity</th>\n",
       "      <th id=\"T_22932_level0_col4\" class=\"col_heading level0 col4\" >Rand Index</th>\n",
       "      <th id=\"T_22932_level0_col5\" class=\"col_heading level0 col5\" >Completeness</th>\n",
       "    </tr>\n",
       "  </thead>\n",
       "  <tbody>\n",
       "    <tr>\n",
       "      <th id=\"T_22932_level0_row0\" class=\"row_heading level0 row0\" >0</th>\n",
       "      <td id=\"T_22932_row0_col0\" class=\"data row0 col0\" >0.2430</td>\n",
       "      <td id=\"T_22932_row0_col1\" class=\"data row0 col1\" >2.4600</td>\n",
       "      <td id=\"T_22932_row0_col2\" class=\"data row0 col2\" >0.6274</td>\n",
       "      <td id=\"T_22932_row0_col3\" class=\"data row0 col3\" >0</td>\n",
       "      <td id=\"T_22932_row0_col4\" class=\"data row0 col4\" >0</td>\n",
       "      <td id=\"T_22932_row0_col5\" class=\"data row0 col5\" >0</td>\n",
       "    </tr>\n",
       "  </tbody>\n",
       "</table>\n"
      ],
      "text/plain": [
       "<pandas.io.formats.style.Styler at 0x7db7affc6150>"
      ]
     },
     "metadata": {},
     "output_type": "display_data"
    },
    {
     "data": {
      "text/html": [],
      "text/plain": [
       "<IPython.core.display.HTML object>"
      ]
     },
     "metadata": {},
     "output_type": "display_data"
    },
    {
     "name": "stdout",
     "output_type": "stream",
     "text": [
      "Metrics available: Index(['silhouette', 'chs', 'db', 'hs', 'ari', 'cs'], dtype='object', name='ID')\n",
      "meanshift with Using Transform and 3 clusters\n"
     ]
    },
    {
     "data": {
      "text/html": [],
      "text/plain": [
       "<IPython.core.display.HTML object>"
      ]
     },
     "metadata": {},
     "output_type": "display_data"
    },
    {
     "data": {
      "text/html": [
       "<style type=\"text/css\">\n",
       "</style>\n",
       "<table id=\"T_04dc3\">\n",
       "  <thead>\n",
       "    <tr>\n",
       "      <th class=\"blank level0\" >&nbsp;</th>\n",
       "      <th id=\"T_04dc3_level0_col0\" class=\"col_heading level0 col0\" >Silhouette</th>\n",
       "      <th id=\"T_04dc3_level0_col1\" class=\"col_heading level0 col1\" >Calinski-Harabasz</th>\n",
       "      <th id=\"T_04dc3_level0_col2\" class=\"col_heading level0 col2\" >Davies-Bouldin</th>\n",
       "      <th id=\"T_04dc3_level0_col3\" class=\"col_heading level0 col3\" >Homogeneity</th>\n",
       "      <th id=\"T_04dc3_level0_col4\" class=\"col_heading level0 col4\" >Rand Index</th>\n",
       "      <th id=\"T_04dc3_level0_col5\" class=\"col_heading level0 col5\" >Completeness</th>\n",
       "    </tr>\n",
       "  </thead>\n",
       "  <tbody>\n",
       "    <tr>\n",
       "      <th id=\"T_04dc3_level0_row0\" class=\"row_heading level0 row0\" >0</th>\n",
       "      <td id=\"T_04dc3_row0_col0\" class=\"data row0 col0\" >0.9780</td>\n",
       "      <td id=\"T_04dc3_row0_col1\" class=\"data row0 col1\" >212544.9706</td>\n",
       "      <td id=\"T_04dc3_row0_col2\" class=\"data row0 col2\" >0.0324</td>\n",
       "      <td id=\"T_04dc3_row0_col3\" class=\"data row0 col3\" >0</td>\n",
       "      <td id=\"T_04dc3_row0_col4\" class=\"data row0 col4\" >0</td>\n",
       "      <td id=\"T_04dc3_row0_col5\" class=\"data row0 col5\" >0</td>\n",
       "    </tr>\n",
       "  </tbody>\n",
       "</table>\n"
      ],
      "text/plain": [
       "<pandas.io.formats.style.Styler at 0x7db7affc5750>"
      ]
     },
     "metadata": {},
     "output_type": "display_data"
    },
    {
     "data": {
      "text/html": [],
      "text/plain": [
       "<IPython.core.display.HTML object>"
      ]
     },
     "metadata": {},
     "output_type": "display_data"
    },
    {
     "name": "stdout",
     "output_type": "stream",
     "text": [
      "Metrics available: Index(['silhouette', 'chs', 'db', 'hs', 'ari', 'cs'], dtype='object', name='ID')\n",
      "meanshift with Using Transform and 4 clusters\n"
     ]
    },
    {
     "data": {
      "text/html": [],
      "text/plain": [
       "<IPython.core.display.HTML object>"
      ]
     },
     "metadata": {},
     "output_type": "display_data"
    },
    {
     "data": {
      "text/html": [
       "<style type=\"text/css\">\n",
       "</style>\n",
       "<table id=\"T_c6334\">\n",
       "  <thead>\n",
       "    <tr>\n",
       "      <th class=\"blank level0\" >&nbsp;</th>\n",
       "      <th id=\"T_c6334_level0_col0\" class=\"col_heading level0 col0\" >Silhouette</th>\n",
       "      <th id=\"T_c6334_level0_col1\" class=\"col_heading level0 col1\" >Calinski-Harabasz</th>\n",
       "      <th id=\"T_c6334_level0_col2\" class=\"col_heading level0 col2\" >Davies-Bouldin</th>\n",
       "      <th id=\"T_c6334_level0_col3\" class=\"col_heading level0 col3\" >Homogeneity</th>\n",
       "      <th id=\"T_c6334_level0_col4\" class=\"col_heading level0 col4\" >Rand Index</th>\n",
       "      <th id=\"T_c6334_level0_col5\" class=\"col_heading level0 col5\" >Completeness</th>\n",
       "    </tr>\n",
       "  </thead>\n",
       "  <tbody>\n",
       "    <tr>\n",
       "      <th id=\"T_c6334_level0_row0\" class=\"row_heading level0 row0\" >0</th>\n",
       "      <td id=\"T_c6334_row0_col0\" class=\"data row0 col0\" >0.9780</td>\n",
       "      <td id=\"T_c6334_row0_col1\" class=\"data row0 col1\" >212544.9706</td>\n",
       "      <td id=\"T_c6334_row0_col2\" class=\"data row0 col2\" >0.0324</td>\n",
       "      <td id=\"T_c6334_row0_col3\" class=\"data row0 col3\" >0</td>\n",
       "      <td id=\"T_c6334_row0_col4\" class=\"data row0 col4\" >0</td>\n",
       "      <td id=\"T_c6334_row0_col5\" class=\"data row0 col5\" >0</td>\n",
       "    </tr>\n",
       "  </tbody>\n",
       "</table>\n"
      ],
      "text/plain": [
       "<pandas.io.formats.style.Styler at 0x7db7afebd9d0>"
      ]
     },
     "metadata": {},
     "output_type": "display_data"
    },
    {
     "data": {
      "text/html": [],
      "text/plain": [
       "<IPython.core.display.HTML object>"
      ]
     },
     "metadata": {},
     "output_type": "display_data"
    },
    {
     "name": "stdout",
     "output_type": "stream",
     "text": [
      "Metrics available: Index(['silhouette', 'chs', 'db', 'hs', 'ari', 'cs'], dtype='object', name='ID')\n",
      "meanshift with Using Transform and 5 clusters\n"
     ]
    },
    {
     "data": {
      "text/html": [],
      "text/plain": [
       "<IPython.core.display.HTML object>"
      ]
     },
     "metadata": {},
     "output_type": "display_data"
    },
    {
     "data": {
      "text/html": [
       "<style type=\"text/css\">\n",
       "</style>\n",
       "<table id=\"T_c20af\">\n",
       "  <thead>\n",
       "    <tr>\n",
       "      <th class=\"blank level0\" >&nbsp;</th>\n",
       "      <th id=\"T_c20af_level0_col0\" class=\"col_heading level0 col0\" >Silhouette</th>\n",
       "      <th id=\"T_c20af_level0_col1\" class=\"col_heading level0 col1\" >Calinski-Harabasz</th>\n",
       "      <th id=\"T_c20af_level0_col2\" class=\"col_heading level0 col2\" >Davies-Bouldin</th>\n",
       "      <th id=\"T_c20af_level0_col3\" class=\"col_heading level0 col3\" >Homogeneity</th>\n",
       "      <th id=\"T_c20af_level0_col4\" class=\"col_heading level0 col4\" >Rand Index</th>\n",
       "      <th id=\"T_c20af_level0_col5\" class=\"col_heading level0 col5\" >Completeness</th>\n",
       "    </tr>\n",
       "  </thead>\n",
       "  <tbody>\n",
       "    <tr>\n",
       "      <th id=\"T_c20af_level0_row0\" class=\"row_heading level0 row0\" >0</th>\n",
       "      <td id=\"T_c20af_row0_col0\" class=\"data row0 col0\" >0.9780</td>\n",
       "      <td id=\"T_c20af_row0_col1\" class=\"data row0 col1\" >212544.9706</td>\n",
       "      <td id=\"T_c20af_row0_col2\" class=\"data row0 col2\" >0.0324</td>\n",
       "      <td id=\"T_c20af_row0_col3\" class=\"data row0 col3\" >0</td>\n",
       "      <td id=\"T_c20af_row0_col4\" class=\"data row0 col4\" >0</td>\n",
       "      <td id=\"T_c20af_row0_col5\" class=\"data row0 col5\" >0</td>\n",
       "    </tr>\n",
       "  </tbody>\n",
       "</table>\n"
      ],
      "text/plain": [
       "<pandas.io.formats.style.Styler at 0x7db7afe05090>"
      ]
     },
     "metadata": {},
     "output_type": "display_data"
    },
    {
     "data": {
      "text/html": [],
      "text/plain": [
       "<IPython.core.display.HTML object>"
      ]
     },
     "metadata": {},
     "output_type": "display_data"
    },
    {
     "name": "stdout",
     "output_type": "stream",
     "text": [
      "Metrics available: Index(['silhouette', 'chs', 'db', 'hs', 'ari', 'cs'], dtype='object', name='ID')\n",
      "meanshift with Using PCA and 3 clusters\n"
     ]
    },
    {
     "data": {
      "text/html": [],
      "text/plain": [
       "<IPython.core.display.HTML object>"
      ]
     },
     "metadata": {},
     "output_type": "display_data"
    },
    {
     "data": {
      "text/html": [
       "<style type=\"text/css\">\n",
       "</style>\n",
       "<table id=\"T_468d3\">\n",
       "  <thead>\n",
       "    <tr>\n",
       "      <th class=\"blank level0\" >&nbsp;</th>\n",
       "      <th id=\"T_468d3_level0_col0\" class=\"col_heading level0 col0\" >Silhouette</th>\n",
       "      <th id=\"T_468d3_level0_col1\" class=\"col_heading level0 col1\" >Calinski-Harabasz</th>\n",
       "      <th id=\"T_468d3_level0_col2\" class=\"col_heading level0 col2\" >Davies-Bouldin</th>\n",
       "      <th id=\"T_468d3_level0_col3\" class=\"col_heading level0 col3\" >Homogeneity</th>\n",
       "      <th id=\"T_468d3_level0_col4\" class=\"col_heading level0 col4\" >Rand Index</th>\n",
       "      <th id=\"T_468d3_level0_col5\" class=\"col_heading level0 col5\" >Completeness</th>\n",
       "    </tr>\n",
       "  </thead>\n",
       "  <tbody>\n",
       "    <tr>\n",
       "      <th id=\"T_468d3_level0_row0\" class=\"row_heading level0 row0\" >0</th>\n",
       "      <td id=\"T_468d3_row0_col0\" class=\"data row0 col0\" >0.4691</td>\n",
       "      <td id=\"T_468d3_row0_col1\" class=\"data row0 col1\" >138.6204</td>\n",
       "      <td id=\"T_468d3_row0_col2\" class=\"data row0 col2\" >0.7725</td>\n",
       "      <td id=\"T_468d3_row0_col3\" class=\"data row0 col3\" >0</td>\n",
       "      <td id=\"T_468d3_row0_col4\" class=\"data row0 col4\" >0</td>\n",
       "      <td id=\"T_468d3_row0_col5\" class=\"data row0 col5\" >0</td>\n",
       "    </tr>\n",
       "  </tbody>\n",
       "</table>\n"
      ],
      "text/plain": [
       "<pandas.io.formats.style.Styler at 0x7db7affdcfd0>"
      ]
     },
     "metadata": {},
     "output_type": "display_data"
    },
    {
     "data": {
      "text/html": [],
      "text/plain": [
       "<IPython.core.display.HTML object>"
      ]
     },
     "metadata": {},
     "output_type": "display_data"
    },
    {
     "name": "stdout",
     "output_type": "stream",
     "text": [
      "Metrics available: Index(['silhouette', 'chs', 'db', 'hs', 'ari', 'cs'], dtype='object', name='ID')\n",
      "meanshift with Using PCA and 4 clusters\n"
     ]
    },
    {
     "data": {
      "text/html": [],
      "text/plain": [
       "<IPython.core.display.HTML object>"
      ]
     },
     "metadata": {},
     "output_type": "display_data"
    },
    {
     "data": {
      "text/html": [
       "<style type=\"text/css\">\n",
       "</style>\n",
       "<table id=\"T_c3fe9\">\n",
       "  <thead>\n",
       "    <tr>\n",
       "      <th class=\"blank level0\" >&nbsp;</th>\n",
       "      <th id=\"T_c3fe9_level0_col0\" class=\"col_heading level0 col0\" >Silhouette</th>\n",
       "      <th id=\"T_c3fe9_level0_col1\" class=\"col_heading level0 col1\" >Calinski-Harabasz</th>\n",
       "      <th id=\"T_c3fe9_level0_col2\" class=\"col_heading level0 col2\" >Davies-Bouldin</th>\n",
       "      <th id=\"T_c3fe9_level0_col3\" class=\"col_heading level0 col3\" >Homogeneity</th>\n",
       "      <th id=\"T_c3fe9_level0_col4\" class=\"col_heading level0 col4\" >Rand Index</th>\n",
       "      <th id=\"T_c3fe9_level0_col5\" class=\"col_heading level0 col5\" >Completeness</th>\n",
       "    </tr>\n",
       "  </thead>\n",
       "  <tbody>\n",
       "    <tr>\n",
       "      <th id=\"T_c3fe9_level0_row0\" class=\"row_heading level0 row0\" >0</th>\n",
       "      <td id=\"T_c3fe9_row0_col0\" class=\"data row0 col0\" >0.4691</td>\n",
       "      <td id=\"T_c3fe9_row0_col1\" class=\"data row0 col1\" >138.6204</td>\n",
       "      <td id=\"T_c3fe9_row0_col2\" class=\"data row0 col2\" >0.7725</td>\n",
       "      <td id=\"T_c3fe9_row0_col3\" class=\"data row0 col3\" >0</td>\n",
       "      <td id=\"T_c3fe9_row0_col4\" class=\"data row0 col4\" >0</td>\n",
       "      <td id=\"T_c3fe9_row0_col5\" class=\"data row0 col5\" >0</td>\n",
       "    </tr>\n",
       "  </tbody>\n",
       "</table>\n"
      ],
      "text/plain": [
       "<pandas.io.formats.style.Styler at 0x7db7aff88310>"
      ]
     },
     "metadata": {},
     "output_type": "display_data"
    },
    {
     "data": {
      "text/html": [],
      "text/plain": [
       "<IPython.core.display.HTML object>"
      ]
     },
     "metadata": {},
     "output_type": "display_data"
    },
    {
     "name": "stdout",
     "output_type": "stream",
     "text": [
      "Metrics available: Index(['silhouette', 'chs', 'db', 'hs', 'ari', 'cs'], dtype='object', name='ID')\n",
      "meanshift with Using PCA and 5 clusters\n"
     ]
    },
    {
     "data": {
      "text/html": [],
      "text/plain": [
       "<IPython.core.display.HTML object>"
      ]
     },
     "metadata": {},
     "output_type": "display_data"
    },
    {
     "data": {
      "text/html": [
       "<style type=\"text/css\">\n",
       "</style>\n",
       "<table id=\"T_1fc8f\">\n",
       "  <thead>\n",
       "    <tr>\n",
       "      <th class=\"blank level0\" >&nbsp;</th>\n",
       "      <th id=\"T_1fc8f_level0_col0\" class=\"col_heading level0 col0\" >Silhouette</th>\n",
       "      <th id=\"T_1fc8f_level0_col1\" class=\"col_heading level0 col1\" >Calinski-Harabasz</th>\n",
       "      <th id=\"T_1fc8f_level0_col2\" class=\"col_heading level0 col2\" >Davies-Bouldin</th>\n",
       "      <th id=\"T_1fc8f_level0_col3\" class=\"col_heading level0 col3\" >Homogeneity</th>\n",
       "      <th id=\"T_1fc8f_level0_col4\" class=\"col_heading level0 col4\" >Rand Index</th>\n",
       "      <th id=\"T_1fc8f_level0_col5\" class=\"col_heading level0 col5\" >Completeness</th>\n",
       "    </tr>\n",
       "  </thead>\n",
       "  <tbody>\n",
       "    <tr>\n",
       "      <th id=\"T_1fc8f_level0_row0\" class=\"row_heading level0 row0\" >0</th>\n",
       "      <td id=\"T_1fc8f_row0_col0\" class=\"data row0 col0\" >0.4691</td>\n",
       "      <td id=\"T_1fc8f_row0_col1\" class=\"data row0 col1\" >138.6204</td>\n",
       "      <td id=\"T_1fc8f_row0_col2\" class=\"data row0 col2\" >0.7725</td>\n",
       "      <td id=\"T_1fc8f_row0_col3\" class=\"data row0 col3\" >0</td>\n",
       "      <td id=\"T_1fc8f_row0_col4\" class=\"data row0 col4\" >0</td>\n",
       "      <td id=\"T_1fc8f_row0_col5\" class=\"data row0 col5\" >0</td>\n",
       "    </tr>\n",
       "  </tbody>\n",
       "</table>\n"
      ],
      "text/plain": [
       "<pandas.io.formats.style.Styler at 0x7db7afe42f10>"
      ]
     },
     "metadata": {},
     "output_type": "display_data"
    },
    {
     "data": {
      "text/html": [],
      "text/plain": [
       "<IPython.core.display.HTML object>"
      ]
     },
     "metadata": {},
     "output_type": "display_data"
    },
    {
     "name": "stdout",
     "output_type": "stream",
     "text": [
      "Metrics available: Index(['silhouette', 'chs', 'db', 'hs', 'ari', 'cs'], dtype='object', name='ID')\n",
      "meanshift with Using T+N and 3 clusters\n"
     ]
    },
    {
     "data": {
      "text/html": [],
      "text/plain": [
       "<IPython.core.display.HTML object>"
      ]
     },
     "metadata": {},
     "output_type": "display_data"
    },
    {
     "data": {
      "text/html": [
       "<style type=\"text/css\">\n",
       "</style>\n",
       "<table id=\"T_9a456\">\n",
       "  <thead>\n",
       "    <tr>\n",
       "      <th class=\"blank level0\" >&nbsp;</th>\n",
       "      <th id=\"T_9a456_level0_col0\" class=\"col_heading level0 col0\" >Silhouette</th>\n",
       "      <th id=\"T_9a456_level0_col1\" class=\"col_heading level0 col1\" >Calinski-Harabasz</th>\n",
       "      <th id=\"T_9a456_level0_col2\" class=\"col_heading level0 col2\" >Davies-Bouldin</th>\n",
       "      <th id=\"T_9a456_level0_col3\" class=\"col_heading level0 col3\" >Homogeneity</th>\n",
       "      <th id=\"T_9a456_level0_col4\" class=\"col_heading level0 col4\" >Rand Index</th>\n",
       "      <th id=\"T_9a456_level0_col5\" class=\"col_heading level0 col5\" >Completeness</th>\n",
       "    </tr>\n",
       "  </thead>\n",
       "  <tbody>\n",
       "    <tr>\n",
       "      <th id=\"T_9a456_level0_row0\" class=\"row_heading level0 row0\" >0</th>\n",
       "      <td id=\"T_9a456_row0_col0\" class=\"data row0 col0\" >0</td>\n",
       "      <td id=\"T_9a456_row0_col1\" class=\"data row0 col1\" >0</td>\n",
       "      <td id=\"T_9a456_row0_col2\" class=\"data row0 col2\" >0</td>\n",
       "      <td id=\"T_9a456_row0_col3\" class=\"data row0 col3\" >0</td>\n",
       "      <td id=\"T_9a456_row0_col4\" class=\"data row0 col4\" >0</td>\n",
       "      <td id=\"T_9a456_row0_col5\" class=\"data row0 col5\" >0</td>\n",
       "    </tr>\n",
       "  </tbody>\n",
       "</table>\n"
      ],
      "text/plain": [
       "<pandas.io.formats.style.Styler at 0x7db7afe50710>"
      ]
     },
     "metadata": {},
     "output_type": "display_data"
    },
    {
     "data": {
      "text/html": [],
      "text/plain": [
       "<IPython.core.display.HTML object>"
      ]
     },
     "metadata": {},
     "output_type": "display_data"
    },
    {
     "name": "stdout",
     "output_type": "stream",
     "text": [
      "Metrics available: Index(['silhouette', 'chs', 'db', 'hs', 'ari', 'cs'], dtype='object', name='ID')\n",
      "Skipping silhouette score calculation for meanshift with Using T+N and 3 clusters (only 1 cluster found)\n",
      "meanshift with Using T+N and 4 clusters\n"
     ]
    },
    {
     "data": {
      "text/html": [],
      "text/plain": [
       "<IPython.core.display.HTML object>"
      ]
     },
     "metadata": {},
     "output_type": "display_data"
    },
    {
     "data": {
      "text/html": [
       "<style type=\"text/css\">\n",
       "</style>\n",
       "<table id=\"T_3cb94\">\n",
       "  <thead>\n",
       "    <tr>\n",
       "      <th class=\"blank level0\" >&nbsp;</th>\n",
       "      <th id=\"T_3cb94_level0_col0\" class=\"col_heading level0 col0\" >Silhouette</th>\n",
       "      <th id=\"T_3cb94_level0_col1\" class=\"col_heading level0 col1\" >Calinski-Harabasz</th>\n",
       "      <th id=\"T_3cb94_level0_col2\" class=\"col_heading level0 col2\" >Davies-Bouldin</th>\n",
       "      <th id=\"T_3cb94_level0_col3\" class=\"col_heading level0 col3\" >Homogeneity</th>\n",
       "      <th id=\"T_3cb94_level0_col4\" class=\"col_heading level0 col4\" >Rand Index</th>\n",
       "      <th id=\"T_3cb94_level0_col5\" class=\"col_heading level0 col5\" >Completeness</th>\n",
       "    </tr>\n",
       "  </thead>\n",
       "  <tbody>\n",
       "    <tr>\n",
       "      <th id=\"T_3cb94_level0_row0\" class=\"row_heading level0 row0\" >0</th>\n",
       "      <td id=\"T_3cb94_row0_col0\" class=\"data row0 col0\" >0</td>\n",
       "      <td id=\"T_3cb94_row0_col1\" class=\"data row0 col1\" >0</td>\n",
       "      <td id=\"T_3cb94_row0_col2\" class=\"data row0 col2\" >0</td>\n",
       "      <td id=\"T_3cb94_row0_col3\" class=\"data row0 col3\" >0</td>\n",
       "      <td id=\"T_3cb94_row0_col4\" class=\"data row0 col4\" >0</td>\n",
       "      <td id=\"T_3cb94_row0_col5\" class=\"data row0 col5\" >0</td>\n",
       "    </tr>\n",
       "  </tbody>\n",
       "</table>\n"
      ],
      "text/plain": [
       "<pandas.io.formats.style.Styler at 0x7db7afe07ad0>"
      ]
     },
     "metadata": {},
     "output_type": "display_data"
    },
    {
     "data": {
      "text/html": [],
      "text/plain": [
       "<IPython.core.display.HTML object>"
      ]
     },
     "metadata": {},
     "output_type": "display_data"
    },
    {
     "name": "stdout",
     "output_type": "stream",
     "text": [
      "Metrics available: Index(['silhouette', 'chs', 'db', 'hs', 'ari', 'cs'], dtype='object', name='ID')\n",
      "Skipping silhouette score calculation for meanshift with Using T+N and 4 clusters (only 1 cluster found)\n",
      "meanshift with Using T+N and 5 clusters\n"
     ]
    },
    {
     "data": {
      "text/html": [],
      "text/plain": [
       "<IPython.core.display.HTML object>"
      ]
     },
     "metadata": {},
     "output_type": "display_data"
    },
    {
     "data": {
      "text/html": [
       "<style type=\"text/css\">\n",
       "</style>\n",
       "<table id=\"T_517b4\">\n",
       "  <thead>\n",
       "    <tr>\n",
       "      <th class=\"blank level0\" >&nbsp;</th>\n",
       "      <th id=\"T_517b4_level0_col0\" class=\"col_heading level0 col0\" >Silhouette</th>\n",
       "      <th id=\"T_517b4_level0_col1\" class=\"col_heading level0 col1\" >Calinski-Harabasz</th>\n",
       "      <th id=\"T_517b4_level0_col2\" class=\"col_heading level0 col2\" >Davies-Bouldin</th>\n",
       "      <th id=\"T_517b4_level0_col3\" class=\"col_heading level0 col3\" >Homogeneity</th>\n",
       "      <th id=\"T_517b4_level0_col4\" class=\"col_heading level0 col4\" >Rand Index</th>\n",
       "      <th id=\"T_517b4_level0_col5\" class=\"col_heading level0 col5\" >Completeness</th>\n",
       "    </tr>\n",
       "  </thead>\n",
       "  <tbody>\n",
       "    <tr>\n",
       "      <th id=\"T_517b4_level0_row0\" class=\"row_heading level0 row0\" >0</th>\n",
       "      <td id=\"T_517b4_row0_col0\" class=\"data row0 col0\" >0</td>\n",
       "      <td id=\"T_517b4_row0_col1\" class=\"data row0 col1\" >0</td>\n",
       "      <td id=\"T_517b4_row0_col2\" class=\"data row0 col2\" >0</td>\n",
       "      <td id=\"T_517b4_row0_col3\" class=\"data row0 col3\" >0</td>\n",
       "      <td id=\"T_517b4_row0_col4\" class=\"data row0 col4\" >0</td>\n",
       "      <td id=\"T_517b4_row0_col5\" class=\"data row0 col5\" >0</td>\n",
       "    </tr>\n",
       "  </tbody>\n",
       "</table>\n"
      ],
      "text/plain": [
       "<pandas.io.formats.style.Styler at 0x7db7aff2cb90>"
      ]
     },
     "metadata": {},
     "output_type": "display_data"
    },
    {
     "data": {
      "text/html": [],
      "text/plain": [
       "<IPython.core.display.HTML object>"
      ]
     },
     "metadata": {},
     "output_type": "display_data"
    },
    {
     "name": "stdout",
     "output_type": "stream",
     "text": [
      "Metrics available: Index(['silhouette', 'chs', 'db', 'hs', 'ari', 'cs'], dtype='object', name='ID')\n",
      "Skipping silhouette score calculation for meanshift with Using T+N and 5 clusters (only 1 cluster found)\n",
      "meanshift with Using T+N+PCA and 3 clusters\n"
     ]
    },
    {
     "data": {
      "text/html": [],
      "text/plain": [
       "<IPython.core.display.HTML object>"
      ]
     },
     "metadata": {},
     "output_type": "display_data"
    },
    {
     "data": {
      "text/html": [
       "<style type=\"text/css\">\n",
       "</style>\n",
       "<table id=\"T_617d9\">\n",
       "  <thead>\n",
       "    <tr>\n",
       "      <th class=\"blank level0\" >&nbsp;</th>\n",
       "      <th id=\"T_617d9_level0_col0\" class=\"col_heading level0 col0\" >Silhouette</th>\n",
       "      <th id=\"T_617d9_level0_col1\" class=\"col_heading level0 col1\" >Calinski-Harabasz</th>\n",
       "      <th id=\"T_617d9_level0_col2\" class=\"col_heading level0 col2\" >Davies-Bouldin</th>\n",
       "      <th id=\"T_617d9_level0_col3\" class=\"col_heading level0 col3\" >Homogeneity</th>\n",
       "      <th id=\"T_617d9_level0_col4\" class=\"col_heading level0 col4\" >Rand Index</th>\n",
       "      <th id=\"T_617d9_level0_col5\" class=\"col_heading level0 col5\" >Completeness</th>\n",
       "    </tr>\n",
       "  </thead>\n",
       "  <tbody>\n",
       "    <tr>\n",
       "      <th id=\"T_617d9_level0_row0\" class=\"row_heading level0 row0\" >0</th>\n",
       "      <td id=\"T_617d9_row0_col0\" class=\"data row0 col0\" >0</td>\n",
       "      <td id=\"T_617d9_row0_col1\" class=\"data row0 col1\" >0</td>\n",
       "      <td id=\"T_617d9_row0_col2\" class=\"data row0 col2\" >0</td>\n",
       "      <td id=\"T_617d9_row0_col3\" class=\"data row0 col3\" >0</td>\n",
       "      <td id=\"T_617d9_row0_col4\" class=\"data row0 col4\" >0</td>\n",
       "      <td id=\"T_617d9_row0_col5\" class=\"data row0 col5\" >0</td>\n",
       "    </tr>\n",
       "  </tbody>\n",
       "</table>\n"
      ],
      "text/plain": [
       "<pandas.io.formats.style.Styler at 0x7db7aff4c910>"
      ]
     },
     "metadata": {},
     "output_type": "display_data"
    },
    {
     "data": {
      "text/html": [],
      "text/plain": [
       "<IPython.core.display.HTML object>"
      ]
     },
     "metadata": {},
     "output_type": "display_data"
    },
    {
     "name": "stdout",
     "output_type": "stream",
     "text": [
      "Metrics available: Index(['silhouette', 'chs', 'db', 'hs', 'ari', 'cs'], dtype='object', name='ID')\n",
      "Skipping silhouette score calculation for meanshift with Using T+N+PCA and 3 clusters (only 1 cluster found)\n",
      "meanshift with Using T+N+PCA and 4 clusters\n"
     ]
    },
    {
     "data": {
      "text/html": [],
      "text/plain": [
       "<IPython.core.display.HTML object>"
      ]
     },
     "metadata": {},
     "output_type": "display_data"
    },
    {
     "data": {
      "text/html": [
       "<style type=\"text/css\">\n",
       "</style>\n",
       "<table id=\"T_8f9e2\">\n",
       "  <thead>\n",
       "    <tr>\n",
       "      <th class=\"blank level0\" >&nbsp;</th>\n",
       "      <th id=\"T_8f9e2_level0_col0\" class=\"col_heading level0 col0\" >Silhouette</th>\n",
       "      <th id=\"T_8f9e2_level0_col1\" class=\"col_heading level0 col1\" >Calinski-Harabasz</th>\n",
       "      <th id=\"T_8f9e2_level0_col2\" class=\"col_heading level0 col2\" >Davies-Bouldin</th>\n",
       "      <th id=\"T_8f9e2_level0_col3\" class=\"col_heading level0 col3\" >Homogeneity</th>\n",
       "      <th id=\"T_8f9e2_level0_col4\" class=\"col_heading level0 col4\" >Rand Index</th>\n",
       "      <th id=\"T_8f9e2_level0_col5\" class=\"col_heading level0 col5\" >Completeness</th>\n",
       "    </tr>\n",
       "  </thead>\n",
       "  <tbody>\n",
       "    <tr>\n",
       "      <th id=\"T_8f9e2_level0_row0\" class=\"row_heading level0 row0\" >0</th>\n",
       "      <td id=\"T_8f9e2_row0_col0\" class=\"data row0 col0\" >0</td>\n",
       "      <td id=\"T_8f9e2_row0_col1\" class=\"data row0 col1\" >0</td>\n",
       "      <td id=\"T_8f9e2_row0_col2\" class=\"data row0 col2\" >0</td>\n",
       "      <td id=\"T_8f9e2_row0_col3\" class=\"data row0 col3\" >0</td>\n",
       "      <td id=\"T_8f9e2_row0_col4\" class=\"data row0 col4\" >0</td>\n",
       "      <td id=\"T_8f9e2_row0_col5\" class=\"data row0 col5\" >0</td>\n",
       "    </tr>\n",
       "  </tbody>\n",
       "</table>\n"
      ],
      "text/plain": [
       "<pandas.io.formats.style.Styler at 0x7db7afea2990>"
      ]
     },
     "metadata": {},
     "output_type": "display_data"
    },
    {
     "data": {
      "text/html": [],
      "text/plain": [
       "<IPython.core.display.HTML object>"
      ]
     },
     "metadata": {},
     "output_type": "display_data"
    },
    {
     "name": "stdout",
     "output_type": "stream",
     "text": [
      "Metrics available: Index(['silhouette', 'chs', 'db', 'hs', 'ari', 'cs'], dtype='object', name='ID')\n",
      "Skipping silhouette score calculation for meanshift with Using T+N+PCA and 4 clusters (only 1 cluster found)\n",
      "meanshift with Using T+N+PCA and 5 clusters\n"
     ]
    },
    {
     "data": {
      "text/html": [],
      "text/plain": [
       "<IPython.core.display.HTML object>"
      ]
     },
     "metadata": {},
     "output_type": "display_data"
    },
    {
     "data": {
      "text/html": [
       "<style type=\"text/css\">\n",
       "</style>\n",
       "<table id=\"T_7ff7c\">\n",
       "  <thead>\n",
       "    <tr>\n",
       "      <th class=\"blank level0\" >&nbsp;</th>\n",
       "      <th id=\"T_7ff7c_level0_col0\" class=\"col_heading level0 col0\" >Silhouette</th>\n",
       "      <th id=\"T_7ff7c_level0_col1\" class=\"col_heading level0 col1\" >Calinski-Harabasz</th>\n",
       "      <th id=\"T_7ff7c_level0_col2\" class=\"col_heading level0 col2\" >Davies-Bouldin</th>\n",
       "      <th id=\"T_7ff7c_level0_col3\" class=\"col_heading level0 col3\" >Homogeneity</th>\n",
       "      <th id=\"T_7ff7c_level0_col4\" class=\"col_heading level0 col4\" >Rand Index</th>\n",
       "      <th id=\"T_7ff7c_level0_col5\" class=\"col_heading level0 col5\" >Completeness</th>\n",
       "    </tr>\n",
       "  </thead>\n",
       "  <tbody>\n",
       "    <tr>\n",
       "      <th id=\"T_7ff7c_level0_row0\" class=\"row_heading level0 row0\" >0</th>\n",
       "      <td id=\"T_7ff7c_row0_col0\" class=\"data row0 col0\" >0</td>\n",
       "      <td id=\"T_7ff7c_row0_col1\" class=\"data row0 col1\" >0</td>\n",
       "      <td id=\"T_7ff7c_row0_col2\" class=\"data row0 col2\" >0</td>\n",
       "      <td id=\"T_7ff7c_row0_col3\" class=\"data row0 col3\" >0</td>\n",
       "      <td id=\"T_7ff7c_row0_col4\" class=\"data row0 col4\" >0</td>\n",
       "      <td id=\"T_7ff7c_row0_col5\" class=\"data row0 col5\" >0</td>\n",
       "    </tr>\n",
       "  </tbody>\n",
       "</table>\n"
      ],
      "text/plain": [
       "<pandas.io.formats.style.Styler at 0x7db7affec1d0>"
      ]
     },
     "metadata": {},
     "output_type": "display_data"
    },
    {
     "data": {
      "text/html": [],
      "text/plain": [
       "<IPython.core.display.HTML object>"
      ]
     },
     "metadata": {},
     "output_type": "display_data"
    },
    {
     "name": "stdout",
     "output_type": "stream",
     "text": [
      "Metrics available: Index(['silhouette', 'chs', 'db', 'hs', 'ari', 'cs'], dtype='object', name='ID')\n",
      "Skipping silhouette score calculation for meanshift with Using T+N+PCA and 5 clusters (only 1 cluster found)\n",
      "meanshift Metrics:\n",
      "                  No Data Preprocessing                          \\\n",
      "                                    c=3         c=4         c=5   \n",
      "Silhouette                     0.469081    0.469081    0.469081   \n",
      "Calinski-Harabasz            138.620436  138.620436  138.620436   \n",
      "Davies-Bouldin                 0.772487    0.772487    0.772487   \n",
      "\n",
      "                  Using Normalization                     Using Transform  \\\n",
      "                                  c=3       c=4       c=5             c=3   \n",
      "Silhouette                   0.097380  0.097380  0.097380        0.120314   \n",
      "Calinski-Harabasz            1.251107  1.251107  1.251107       13.465677   \n",
      "Davies-Bouldin               0.811828  0.811828  0.811828        4.202556   \n",
      "\n",
      "                                          Using PCA                          \n",
      "                         c=4        c=5         c=3         c=4         c=5  \n",
      "Silhouette          0.120314   0.120314    0.469081    0.469081    0.469081  \n",
      "Calinski-Harabasz  13.465677  13.465677  138.620436  138.620436  138.620436  \n",
      "Davies-Bouldin      4.202556   4.202556    0.772487    0.772487    0.772487  \n"
     ]
    }
   ],
   "source": [
    "# Initialize variables\n",
    "rows = ['Silhouette', 'Calinski-Harabasz', 'Davies-Bouldin']\n",
    "Type = ['No Data Preprocessing', 'Using Normalization', 'Using Transform', 'Using PCA', 'Using T+N', 'Using T+N+PCA']\n",
    "models = ['kmeans', 'hclust', 'meanshift']\n",
    "\n",
    "# List of dictionaries containing the different arguments for setup function\n",
    "setup_args = [\n",
    "    {'verbose': False},\n",
    "    {'normalize': True, 'normalize_method': 'zscore', 'verbose': False},\n",
    "    {'transformation': True, 'transformation_method': 'yeo-johnson', 'verbose': False},\n",
    "    {'pca': True, 'pca_method': 'linear', 'verbose': False},\n",
    "    {'transformation': True, 'transformation_method': 'yeo-johnson', 'normalize': True, 'normalize_method': 'zscore', 'verbose': False},\n",
    "    {'pca': True, 'pca_method': 'linear', 'normalize': True, 'normalize_method': 'zscore', 'transformation': True, 'transformation_method': 'yeo-johnson', 'verbose': False}\n",
    "]\n",
    "\n",
    "# Loop over models\n",
    "# Loop over models\n",
    "for k in models:\n",
    "    data = {}  # Initialize the data dictionary for storing results for this model\n",
    "    for j, setup_arg in enumerate(setup_args):\n",
    "        for i in range(3):\n",
    "            print(f\"{k} with {Type[j]} and {i+3} clusters\")\n",
    "\n",
    "            # Setup and model creation\n",
    "            ModelParameters = setup(data=X, **setup_arg)  # Ensure 'X' is properly preprocessed\n",
    "            Model = create_model(k, num_clusters=i+3)\n",
    "            metrics = get_metrics()  # Ensure this function returns the correct metrics structure\n",
    "\n",
    "            # Validate that metrics contain expected rows and columns\n",
    "            print(\"Metrics available:\", metrics.index)\n",
    "\n",
    "            # Check if there are at least 2 unique clusters before calculating the silhouette score\n",
    "            unique_labels = set(Model.labels_)\n",
    "            if len(unique_labels) < 2:\n",
    "                print(f\"Skipping silhouette score calculation for {k} with {Type[j]} and {i+3} clusters (only 1 cluster found)\")\n",
    "                continue  # Skip this iteration if there are less than 2 unique clusters\n",
    "\n",
    "            # Extracting silhouette score, Calinski-Harabasz score, Davies-Bouldin score\n",
    "            silhouette_score_function = metrics.loc['silhouette', 'Score Function']\n",
    "            silhouette_score = silhouette_score_function(X, Model.labels_)\n",
    "\n",
    "            chs_score_function = metrics.loc['chs', 'Score Function']\n",
    "            Calinski_Harabasz_score = chs_score_function(X, Model.labels_)\n",
    "\n",
    "            db_score_function = metrics.loc['db', 'Score Function']\n",
    "            Davies_Bouldin_score = db_score_function(X, Model.labels_)\n",
    "\n",
    "            # Store the metrics in the data dictionary\n",
    "            data[(Type[j], f'c={i+3}')] = [silhouette_score, Calinski_Harabasz_score, Davies_Bouldin_score]\n",
    "\n",
    "    # Store results in appropriate DataFrame based on model\n",
    "    if k == 'kmeans':\n",
    "        kmeans_metrics = pd.DataFrame(data=data, index=rows)\n",
    "    elif k == 'hclust':\n",
    "        hclust_metrics = pd.DataFrame(data=data, index=rows)\n",
    "    else:\n",
    "        meanshift_metrics = pd.DataFrame(data=data, index=rows)\n",
    "\n",
    "    # Optionally print out the metrics for each model\n",
    "    print(f\"{k} Metrics:\")\n",
    "    print(pd.DataFrame(data=data, index=rows))\n",
    "\n"
   ]
  },
  {
   "cell_type": "markdown",
   "metadata": {},
   "source": [
    "# **Step 5: Analysing the calculated metrics**"
   ]
  },
  {
   "cell_type": "code",
   "execution_count": 46,
   "metadata": {
    "execution": {
     "iopub.execute_input": "2025-04-19T01:22:23.153457Z",
     "iopub.status.busy": "2025-04-19T01:22:23.153066Z",
     "iopub.status.idle": "2025-04-19T01:22:23.177787Z",
     "shell.execute_reply": "2025-04-19T01:22:23.176604Z",
     "shell.execute_reply.started": "2025-04-19T01:22:23.153427Z"
    },
    "trusted": true
   },
   "outputs": [
    {
     "data": {
      "text/html": [
       "<div>\n",
       "<style scoped>\n",
       "    .dataframe tbody tr th:only-of-type {\n",
       "        vertical-align: middle;\n",
       "    }\n",
       "\n",
       "    .dataframe tbody tr th {\n",
       "        vertical-align: top;\n",
       "    }\n",
       "\n",
       "    .dataframe thead tr th {\n",
       "        text-align: left;\n",
       "    }\n",
       "</style>\n",
       "<table border=\"1\" class=\"dataframe\">\n",
       "  <thead>\n",
       "    <tr>\n",
       "      <th></th>\n",
       "      <th colspan=\"3\" halign=\"left\">No Data Preprocessing</th>\n",
       "      <th colspan=\"3\" halign=\"left\">Using Normalization</th>\n",
       "      <th colspan=\"3\" halign=\"left\">Using Transform</th>\n",
       "      <th colspan=\"3\" halign=\"left\">Using PCA</th>\n",
       "      <th colspan=\"3\" halign=\"left\">Using T+N</th>\n",
       "      <th colspan=\"3\" halign=\"left\">Using T+N+PCA</th>\n",
       "    </tr>\n",
       "    <tr>\n",
       "      <th></th>\n",
       "      <th>c=3</th>\n",
       "      <th>c=4</th>\n",
       "      <th>c=5</th>\n",
       "      <th>c=3</th>\n",
       "      <th>c=4</th>\n",
       "      <th>c=5</th>\n",
       "      <th>c=3</th>\n",
       "      <th>c=4</th>\n",
       "      <th>c=5</th>\n",
       "      <th>c=3</th>\n",
       "      <th>c=4</th>\n",
       "      <th>c=5</th>\n",
       "      <th>c=3</th>\n",
       "      <th>c=4</th>\n",
       "      <th>c=5</th>\n",
       "      <th>c=3</th>\n",
       "      <th>c=4</th>\n",
       "      <th>c=5</th>\n",
       "    </tr>\n",
       "  </thead>\n",
       "  <tbody>\n",
       "    <tr>\n",
       "      <th>Silhouette</th>\n",
       "      <td>0.209082</td>\n",
       "      <td>0.162554</td>\n",
       "      <td>0.171860</td>\n",
       "      <td>0.033764</td>\n",
       "      <td>0.005435</td>\n",
       "      <td>-0.035688</td>\n",
       "      <td>-0.010140</td>\n",
       "      <td>-0.010619</td>\n",
       "      <td>-0.022878</td>\n",
       "      <td>0.209082</td>\n",
       "      <td>0.162554</td>\n",
       "      <td>0.110563</td>\n",
       "      <td>0.032636</td>\n",
       "      <td>0.002127</td>\n",
       "      <td>-0.023383</td>\n",
       "      <td>0.025603</td>\n",
       "      <td>0.005163</td>\n",
       "      <td>-0.005683</td>\n",
       "    </tr>\n",
       "    <tr>\n",
       "      <th>Calinski-Harabasz</th>\n",
       "      <td>272.567827</td>\n",
       "      <td>219.377509</td>\n",
       "      <td>173.904653</td>\n",
       "      <td>34.721304</td>\n",
       "      <td>15.899657</td>\n",
       "      <td>10.711338</td>\n",
       "      <td>8.435235</td>\n",
       "      <td>8.091245</td>\n",
       "      <td>8.438423</td>\n",
       "      <td>272.567827</td>\n",
       "      <td>219.377509</td>\n",
       "      <td>182.418376</td>\n",
       "      <td>33.904990</td>\n",
       "      <td>18.574704</td>\n",
       "      <td>22.494553</td>\n",
       "      <td>13.935831</td>\n",
       "      <td>14.425908</td>\n",
       "      <td>12.086487</td>\n",
       "    </tr>\n",
       "    <tr>\n",
       "      <th>Davies-Bouldin</th>\n",
       "      <td>1.561627</td>\n",
       "      <td>1.781254</td>\n",
       "      <td>1.836583</td>\n",
       "      <td>3.672416</td>\n",
       "      <td>4.848572</td>\n",
       "      <td>5.250046</td>\n",
       "      <td>7.490364</td>\n",
       "      <td>6.973082</td>\n",
       "      <td>7.599781</td>\n",
       "      <td>1.561627</td>\n",
       "      <td>1.781254</td>\n",
       "      <td>2.125219</td>\n",
       "      <td>3.680329</td>\n",
       "      <td>4.335931</td>\n",
       "      <td>3.847651</td>\n",
       "      <td>5.392075</td>\n",
       "      <td>4.837525</td>\n",
       "      <td>5.655301</td>\n",
       "    </tr>\n",
       "  </tbody>\n",
       "</table>\n",
       "</div>"
      ],
      "text/plain": [
       "                  No Data Preprocessing                          \\\n",
       "                                    c=3         c=4         c=5   \n",
       "Silhouette                     0.209082    0.162554    0.171860   \n",
       "Calinski-Harabasz            272.567827  219.377509  173.904653   \n",
       "Davies-Bouldin                 1.561627    1.781254    1.836583   \n",
       "\n",
       "                  Using Normalization                       Using Transform  \\\n",
       "                                  c=3        c=4        c=5             c=3   \n",
       "Silhouette                   0.033764   0.005435  -0.035688       -0.010140   \n",
       "Calinski-Harabasz           34.721304  15.899657  10.711338        8.435235   \n",
       "Davies-Bouldin               3.672416   4.848572   5.250046        7.490364   \n",
       "\n",
       "                                        Using PCA                          \\\n",
       "                        c=4       c=5         c=3         c=4         c=5   \n",
       "Silhouette        -0.010619 -0.022878    0.209082    0.162554    0.110563   \n",
       "Calinski-Harabasz  8.091245  8.438423  272.567827  219.377509  182.418376   \n",
       "Davies-Bouldin     6.973082  7.599781    1.561627    1.781254    2.125219   \n",
       "\n",
       "                   Using T+N                       Using T+N+PCA             \\\n",
       "                         c=3        c=4        c=5           c=3        c=4   \n",
       "Silhouette          0.032636   0.002127  -0.023383      0.025603   0.005163   \n",
       "Calinski-Harabasz  33.904990  18.574704  22.494553     13.935831  14.425908   \n",
       "Davies-Bouldin      3.680329   4.335931   3.847651      5.392075   4.837525   \n",
       "\n",
       "                              \n",
       "                         c=5  \n",
       "Silhouette         -0.005683  \n",
       "Calinski-Harabasz  12.086487  \n",
       "Davies-Bouldin      5.655301  "
      ]
     },
     "execution_count": 46,
     "metadata": {},
     "output_type": "execute_result"
    }
   ],
   "source": [
    "kmeans_metrics"
   ]
  },
  {
   "cell_type": "code",
   "execution_count": 47,
   "metadata": {
    "execution": {
     "iopub.execute_input": "2025-04-19T01:22:46.302035Z",
     "iopub.status.busy": "2025-04-19T01:22:46.301593Z",
     "iopub.status.idle": "2025-04-19T01:22:46.327586Z",
     "shell.execute_reply": "2025-04-19T01:22:46.326514Z",
     "shell.execute_reply.started": "2025-04-19T01:22:46.302009Z"
    },
    "trusted": true
   },
   "outputs": [
    {
     "data": {
      "text/html": [
       "<div>\n",
       "<style scoped>\n",
       "    .dataframe tbody tr th:only-of-type {\n",
       "        vertical-align: middle;\n",
       "    }\n",
       "\n",
       "    .dataframe tbody tr th {\n",
       "        vertical-align: top;\n",
       "    }\n",
       "\n",
       "    .dataframe thead tr th {\n",
       "        text-align: left;\n",
       "    }\n",
       "</style>\n",
       "<table border=\"1\" class=\"dataframe\">\n",
       "  <thead>\n",
       "    <tr>\n",
       "      <th></th>\n",
       "      <th colspan=\"3\" halign=\"left\">No Data Preprocessing</th>\n",
       "      <th colspan=\"3\" halign=\"left\">Using Normalization</th>\n",
       "      <th colspan=\"3\" halign=\"left\">Using Transform</th>\n",
       "      <th colspan=\"3\" halign=\"left\">Using PCA</th>\n",
       "      <th colspan=\"3\" halign=\"left\">Using T+N</th>\n",
       "      <th colspan=\"3\" halign=\"left\">Using T+N+PCA</th>\n",
       "    </tr>\n",
       "    <tr>\n",
       "      <th></th>\n",
       "      <th>c=3</th>\n",
       "      <th>c=4</th>\n",
       "      <th>c=5</th>\n",
       "      <th>c=3</th>\n",
       "      <th>c=4</th>\n",
       "      <th>c=5</th>\n",
       "      <th>c=3</th>\n",
       "      <th>c=4</th>\n",
       "      <th>c=5</th>\n",
       "      <th>c=3</th>\n",
       "      <th>c=4</th>\n",
       "      <th>c=5</th>\n",
       "      <th>c=3</th>\n",
       "      <th>c=4</th>\n",
       "      <th>c=5</th>\n",
       "      <th>c=3</th>\n",
       "      <th>c=4</th>\n",
       "      <th>c=5</th>\n",
       "    </tr>\n",
       "  </thead>\n",
       "  <tbody>\n",
       "    <tr>\n",
       "      <th>Silhouette</th>\n",
       "      <td>0.225318</td>\n",
       "      <td>0.117983</td>\n",
       "      <td>0.099503</td>\n",
       "      <td>-0.014050</td>\n",
       "      <td>-0.037549</td>\n",
       "      <td>-0.043147</td>\n",
       "      <td>0.001166</td>\n",
       "      <td>-0.010619</td>\n",
       "      <td>-0.016562</td>\n",
       "      <td>0.296192</td>\n",
       "      <td>0.122439</td>\n",
       "      <td>0.113228</td>\n",
       "      <td>-0.009469</td>\n",
       "      <td>-0.033155</td>\n",
       "      <td>-0.048531</td>\n",
       "      <td>-0.009469</td>\n",
       "      <td>-0.033155</td>\n",
       "      <td>-0.048531</td>\n",
       "    </tr>\n",
       "    <tr>\n",
       "      <th>Calinski-Harabasz</th>\n",
       "      <td>249.888575</td>\n",
       "      <td>193.366024</td>\n",
       "      <td>163.407477</td>\n",
       "      <td>12.130232</td>\n",
       "      <td>8.629229</td>\n",
       "      <td>6.971735</td>\n",
       "      <td>10.628826</td>\n",
       "      <td>8.091245</td>\n",
       "      <td>8.030579</td>\n",
       "      <td>233.406957</td>\n",
       "      <td>195.950298</td>\n",
       "      <td>165.278057</td>\n",
       "      <td>13.103972</td>\n",
       "      <td>9.271203</td>\n",
       "      <td>9.102733</td>\n",
       "      <td>13.103972</td>\n",
       "      <td>9.271203</td>\n",
       "      <td>9.102733</td>\n",
       "    </tr>\n",
       "    <tr>\n",
       "      <th>Davies-Bouldin</th>\n",
       "      <td>1.432917</td>\n",
       "      <td>1.926597</td>\n",
       "      <td>2.152307</td>\n",
       "      <td>6.268182</td>\n",
       "      <td>6.051944</td>\n",
       "      <td>6.097963</td>\n",
       "      <td>6.016656</td>\n",
       "      <td>6.973082</td>\n",
       "      <td>7.492652</td>\n",
       "      <td>1.257722</td>\n",
       "      <td>2.014328</td>\n",
       "      <td>2.068139</td>\n",
       "      <td>5.649897</td>\n",
       "      <td>5.568101</td>\n",
       "      <td>5.564344</td>\n",
       "      <td>5.649897</td>\n",
       "      <td>5.568101</td>\n",
       "      <td>5.564344</td>\n",
       "    </tr>\n",
       "  </tbody>\n",
       "</table>\n",
       "</div>"
      ],
      "text/plain": [
       "                  No Data Preprocessing                          \\\n",
       "                                    c=3         c=4         c=5   \n",
       "Silhouette                     0.225318    0.117983    0.099503   \n",
       "Calinski-Harabasz            249.888575  193.366024  163.407477   \n",
       "Davies-Bouldin                 1.432917    1.926597    2.152307   \n",
       "\n",
       "                  Using Normalization                     Using Transform  \\\n",
       "                                  c=3       c=4       c=5             c=3   \n",
       "Silhouette                  -0.014050 -0.037549 -0.043147        0.001166   \n",
       "Calinski-Harabasz           12.130232  8.629229  6.971735       10.628826   \n",
       "Davies-Bouldin               6.268182  6.051944  6.097963        6.016656   \n",
       "\n",
       "                                        Using PCA                          \\\n",
       "                        c=4       c=5         c=3         c=4         c=5   \n",
       "Silhouette        -0.010619 -0.016562    0.296192    0.122439    0.113228   \n",
       "Calinski-Harabasz  8.091245  8.030579  233.406957  195.950298  165.278057   \n",
       "Davies-Bouldin     6.973082  7.492652    1.257722    2.014328    2.068139   \n",
       "\n",
       "                   Using T+N                     Using T+N+PCA            \\\n",
       "                         c=3       c=4       c=5           c=3       c=4   \n",
       "Silhouette         -0.009469 -0.033155 -0.048531     -0.009469 -0.033155   \n",
       "Calinski-Harabasz  13.103972  9.271203  9.102733     13.103972  9.271203   \n",
       "Davies-Bouldin      5.649897  5.568101  5.564344      5.649897  5.568101   \n",
       "\n",
       "                             \n",
       "                        c=5  \n",
       "Silhouette        -0.048531  \n",
       "Calinski-Harabasz  9.102733  \n",
       "Davies-Bouldin     5.564344  "
      ]
     },
     "execution_count": 47,
     "metadata": {},
     "output_type": "execute_result"
    }
   ],
   "source": [
    "hclust_metrics"
   ]
  },
  {
   "cell_type": "code",
   "execution_count": 48,
   "metadata": {
    "execution": {
     "iopub.execute_input": "2025-04-19T01:23:08.547894Z",
     "iopub.status.busy": "2025-04-19T01:23:08.547517Z",
     "iopub.status.idle": "2025-04-19T01:23:08.566666Z",
     "shell.execute_reply": "2025-04-19T01:23:08.565774Z",
     "shell.execute_reply.started": "2025-04-19T01:23:08.547870Z"
    },
    "trusted": true
   },
   "outputs": [
    {
     "data": {
      "text/html": [
       "<div>\n",
       "<style scoped>\n",
       "    .dataframe tbody tr th:only-of-type {\n",
       "        vertical-align: middle;\n",
       "    }\n",
       "\n",
       "    .dataframe tbody tr th {\n",
       "        vertical-align: top;\n",
       "    }\n",
       "\n",
       "    .dataframe thead tr th {\n",
       "        text-align: left;\n",
       "    }\n",
       "</style>\n",
       "<table border=\"1\" class=\"dataframe\">\n",
       "  <thead>\n",
       "    <tr>\n",
       "      <th></th>\n",
       "      <th colspan=\"3\" halign=\"left\">No Data Preprocessing</th>\n",
       "      <th colspan=\"3\" halign=\"left\">Using Normalization</th>\n",
       "      <th colspan=\"3\" halign=\"left\">Using Transform</th>\n",
       "      <th colspan=\"3\" halign=\"left\">Using PCA</th>\n",
       "    </tr>\n",
       "    <tr>\n",
       "      <th></th>\n",
       "      <th>c=3</th>\n",
       "      <th>c=4</th>\n",
       "      <th>c=5</th>\n",
       "      <th>c=3</th>\n",
       "      <th>c=4</th>\n",
       "      <th>c=5</th>\n",
       "      <th>c=3</th>\n",
       "      <th>c=4</th>\n",
       "      <th>c=5</th>\n",
       "      <th>c=3</th>\n",
       "      <th>c=4</th>\n",
       "      <th>c=5</th>\n",
       "    </tr>\n",
       "  </thead>\n",
       "  <tbody>\n",
       "    <tr>\n",
       "      <th>Silhouette</th>\n",
       "      <td>0.469081</td>\n",
       "      <td>0.469081</td>\n",
       "      <td>0.469081</td>\n",
       "      <td>0.097380</td>\n",
       "      <td>0.097380</td>\n",
       "      <td>0.097380</td>\n",
       "      <td>0.120314</td>\n",
       "      <td>0.120314</td>\n",
       "      <td>0.120314</td>\n",
       "      <td>0.469081</td>\n",
       "      <td>0.469081</td>\n",
       "      <td>0.469081</td>\n",
       "    </tr>\n",
       "    <tr>\n",
       "      <th>Calinski-Harabasz</th>\n",
       "      <td>138.620436</td>\n",
       "      <td>138.620436</td>\n",
       "      <td>138.620436</td>\n",
       "      <td>1.251107</td>\n",
       "      <td>1.251107</td>\n",
       "      <td>1.251107</td>\n",
       "      <td>13.465677</td>\n",
       "      <td>13.465677</td>\n",
       "      <td>13.465677</td>\n",
       "      <td>138.620436</td>\n",
       "      <td>138.620436</td>\n",
       "      <td>138.620436</td>\n",
       "    </tr>\n",
       "    <tr>\n",
       "      <th>Davies-Bouldin</th>\n",
       "      <td>0.772487</td>\n",
       "      <td>0.772487</td>\n",
       "      <td>0.772487</td>\n",
       "      <td>0.811828</td>\n",
       "      <td>0.811828</td>\n",
       "      <td>0.811828</td>\n",
       "      <td>4.202556</td>\n",
       "      <td>4.202556</td>\n",
       "      <td>4.202556</td>\n",
       "      <td>0.772487</td>\n",
       "      <td>0.772487</td>\n",
       "      <td>0.772487</td>\n",
       "    </tr>\n",
       "  </tbody>\n",
       "</table>\n",
       "</div>"
      ],
      "text/plain": [
       "                  No Data Preprocessing                          \\\n",
       "                                    c=3         c=4         c=5   \n",
       "Silhouette                     0.469081    0.469081    0.469081   \n",
       "Calinski-Harabasz            138.620436  138.620436  138.620436   \n",
       "Davies-Bouldin                 0.772487    0.772487    0.772487   \n",
       "\n",
       "                  Using Normalization                     Using Transform  \\\n",
       "                                  c=3       c=4       c=5             c=3   \n",
       "Silhouette                   0.097380  0.097380  0.097380        0.120314   \n",
       "Calinski-Harabasz            1.251107  1.251107  1.251107       13.465677   \n",
       "Davies-Bouldin               0.811828  0.811828  0.811828        4.202556   \n",
       "\n",
       "                                          Using PCA                          \n",
       "                         c=4        c=5         c=3         c=4         c=5  \n",
       "Silhouette          0.120314   0.120314    0.469081    0.469081    0.469081  \n",
       "Calinski-Harabasz  13.465677  13.465677  138.620436  138.620436  138.620436  \n",
       "Davies-Bouldin      4.202556   4.202556    0.772487    0.772487    0.772487  "
      ]
     },
     "execution_count": 48,
     "metadata": {},
     "output_type": "execute_result"
    }
   ],
   "source": [
    "meanshift_metrics"
   ]
  },
  {
   "cell_type": "markdown",
   "metadata": {},
   "source": [
    "Hence, upon analysing the above metrics we can clearly see the performance of diffrent processing techniques in different cases on the same dataset along with the impact of varying number of clusters. \n",
    "After Analysing, we comprehend that Mean shift is the best algorithm amongst all."
   ]
  }
 ],
 "metadata": {
  "kaggle": {
   "accelerator": "none",
   "dataSources": [],
   "dockerImageVersionId": 31012,
   "isGpuEnabled": false,
   "isInternetEnabled": true,
   "language": "python",
   "sourceType": "notebook"
  },
  "kernelspec": {
   "display_name": "Python 3",
   "language": "python",
   "name": "python3"
  },
  "language_info": {
   "codemirror_mode": {
    "name": "ipython",
    "version": 3
   },
   "file_extension": ".py",
   "mimetype": "text/x-python",
   "name": "python",
   "nbconvert_exporter": "python",
   "pygments_lexer": "ipython3",
   "version": "3.11.11"
  }
 },
 "nbformat": 4,
 "nbformat_minor": 4
}
